{
 "cells": [
  {
   "cell_type": "markdown",
   "metadata": {},
   "source": [
    "## DFS/BFS 중 네트워크"
   ]
  },
  {
   "cell_type": "markdown",
   "metadata": {},
   "source": [
    " "
   ]
  },
  {
   "cell_type": "markdown",
   "metadata": {},
   "source": [
    "# 문제링크: https://programmers.co.kr/learn/courses/30/lessons/43162"
   ]
  },
  {
   "cell_type": "markdown",
   "metadata": {},
   "source": [
    " "
   ]
  },
  {
   "cell_type": "markdown",
   "metadata": {},
   "source": [
    "문제 읽기: n개의 컴퓨터가 있을 때,  \n",
    "컴퓨터의 연결관계가 nXn matrix (computers)로 주어짐.  \n",
    "이 때, 독립적으로 연결되어있는 네트워크의 수를 구하는 것.  \n",
    "\n",
    "  \n",
    "입력값: n, computers    \n",
    "출력값: 네트워크 개수  \n",
    "\n",
    "제한사항:    \n",
    "1 <= n <= 200  "
   ]
  },
  {
   "cell_type": "markdown",
   "metadata": {},
   "source": [
    "# 해결 코드:"
   ]
  },
  {
   "cell_type": "code",
   "execution_count": 1,
   "metadata": {},
   "outputs": [],
   "source": [
    "#2021.3.16 100%\n",
    "\n",
    "\n",
    "def solution(n, computers):\n",
    "    answer = 0\n",
    "    \n",
    "    dict_com = {}\n",
    "    \n",
    "    for i in range(n):\n",
    "        if i not in dict_com.keys():\n",
    "            #print(i)\n",
    "            \n",
    "            dict_com[i] = 'visited'\n",
    "            answer += 1\n",
    "            \n",
    "            #bfs\n",
    "            bfs_list = []\n",
    "            for j in range(n): #대칭같지만 대칭이 아니라니 진짜 장난하나 ㅅㅂ\n",
    "                if computers[i][j] != 0 and j not in dict_com.keys():\n",
    "                    #print(j)\n",
    "                    \n",
    "                    dict_com[j] = 'visited'\n",
    "                    bfs_list.append(j)\n",
    "            \n",
    "            #print(bfs_list)\n",
    "            while len(bfs_list) > 0:\n",
    "                bfs_new_list = []\n",
    "                \n",
    "                for tmp in range(len(bfs_list)):\n",
    "                    nextval = bfs_list.pop()\n",
    "                    #print(\"nextval \", nextval)\n",
    "                    for n_index in range(n):\n",
    "                        #print(\"n_index candidate \", n_index)\n",
    "                        #print(\"two values are : \",computers[nextval][n_index],'  ',n_index)\n",
    "                        if computers[nextval][n_index] != 0 and n_index not in dict_com.keys():\n",
    "                            #print(n_index)\n",
    "                            \n",
    "                            dict_com[n_index] = 'visited'\n",
    "                            bfs_new_list.append(n_index)\n",
    "                bfs_list = bfs_new_list         \n",
    "             \n",
    "                \n",
    "    return answer\n",
    "\n",
    "\n"
   ]
  },
  {
   "cell_type": "markdown",
   "metadata": {},
   "source": [
    " "
   ]
  },
  {
   "cell_type": "markdown",
   "metadata": {},
   "source": [
    "# 해설:\n",
    "\n",
    "나의 풀이는 아래와 같음. 걍 bfs썼고 이미 방문한 노드의 경우 dictionary에서 체크해줌.  \n",
    "단 위의 그림 예시를 보고 대각행렬인 줄 알고 대각 위의 성분만 체크하는 함정?에 빠짐..  \n",
    "근데 이건 문제에서 좀 설명이 이상한 것 아니었나..? ㅋㅋㅋ(핑계인가..)  \n",
    "무튼,,  dict, bfs가 다 인데 index 저장해줘야하는 것이 조금 복잡할 수 있음  \n",
    "\n",
    "\n"
   ]
  },
  {
   "cell_type": "markdown",
   "metadata": {},
   "source": [
    "# 시행착오 코드: "
   ]
  },
  {
   "cell_type": "code",
   "execution_count": null,
   "metadata": {},
   "outputs": [],
   "source": []
  },
  {
   "cell_type": "code",
   "execution_count": null,
   "metadata": {},
   "outputs": [],
   "source": []
  }
 ],
 "metadata": {
  "kernelspec": {
   "display_name": "Python 3",
   "language": "python",
   "name": "python3"
  },
  "language_info": {
   "codemirror_mode": {
    "name": "ipython",
    "version": 3
   },
   "file_extension": ".py",
   "mimetype": "text/x-python",
   "name": "python",
   "nbconvert_exporter": "python",
   "pygments_lexer": "ipython3",
   "version": "3.8.3"
  }
 },
 "nbformat": 4,
 "nbformat_minor": 4
}

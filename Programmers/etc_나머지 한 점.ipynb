{
 "cells": [
  {
   "cell_type": "markdown",
   "metadata": {},
   "source": [
    "## etc 중 나머지 한 점\n"
   ]
  },
  {
   "cell_type": "markdown",
   "metadata": {},
   "source": [
    " "
   ]
  },
  {
   "cell_type": "markdown",
   "metadata": {},
   "source": [
    "# 문제링크: https://programmers.co.kr/learn/courses/4008/lessons/1878  "
   ]
  },
  {
   "cell_type": "markdown",
   "metadata": {},
   "source": [
    " "
   ]
  },
  {
   "cell_type": "markdown",
   "metadata": {},
   "source": [
    "문제 읽기:  \n",
    "직사각형 세 점의 좌표를 입력받고  \n",
    "나머지 한 점의 좌표를 구하는 문제  \n",
    "  \n",
    "입력값: v(vertices)      \n",
    "출력값: 나머지 한 점      \n",
    "\n",
    "제한사항:    \n",
    "1 <= x, y in v <= 10억  \n"
   ]
  },
  {
   "cell_type": "markdown",
   "metadata": {},
   "source": [
    "# 해결 코드:"
   ]
  },
  {
   "cell_type": "code",
   "execution_count": 2,
   "metadata": {},
   "outputs": [],
   "source": [
    "#2021.12.26 100%\n",
    "\n",
    "import math\n",
    "\n",
    "def distance(node1, node2):\n",
    "    return math.sqrt((node1[0] - node2[0])**2 + (node1[1] - node2[1])**2)\n",
    "\n",
    "def solution(v):\n",
    "    answer = []\n",
    "\n",
    "    #print('Hello Python')\n",
    "    v01 = distance(v[0], v[1])\n",
    "    v02 = distance(v[0], v[2])\n",
    "    v12 = distance(v[1], v[2])\n",
    "    \n",
    "    if max(max(v01, v02), v12) == v01:\n",
    "        answer.append( v[0][0] + v[1][0] - v[2][0] )\n",
    "        answer.append( v[0][1] + v[1][1] - v[2][1] )\n",
    "    elif max(max(v01, v02), v12) == v02:\n",
    "        answer.append( v[0][0] + v[2][0] - v[1][0] )\n",
    "        answer.append( v[0][1] + v[2][1] - v[1][1] )\n",
    "    else: #v12\n",
    "        answer.append( v[1][0] + v[2][0] - v[0][0] )\n",
    "        answer.append( v[1][1] + v[2][1] - v[0][1] )\n",
    "\n",
    "\n",
    "\n",
    "    return answer\n"
   ]
  },
  {
   "cell_type": "markdown",
   "metadata": {},
   "source": [
    " "
   ]
  },
  {
   "cell_type": "markdown",
   "metadata": {},
   "source": [
    "# 해설:\n",
    "\n",
    "두 점 사이의 거리가 가장 긴 경우를 찾고,  \n",
    "그 두 점을 제외한 한 점이 찾고자 하는 점과 한 쌍을 이룸  \n",
    "즉 앞서 찾은 두 점(가장 긴 거리 형성)의 합에서 앞서 찾은 한 점(3개중 하나)을 빼주면  \n",
    "찾으려고 하는 좌표가 나옴  \n",
    "\n",
    "\n",
    "\n"
   ]
  },
  {
   "cell_type": "markdown",
   "metadata": {},
   "source": [
    "# 시간복잡도:  \n",
    "\n",
    "for문 한번 N  \n",
    "\n",
    "총: O(N)  "
   ]
  },
  {
   "cell_type": "markdown",
   "metadata": {},
   "source": [
    "# 시행착오 코드: "
   ]
  },
  {
   "cell_type": "code",
   "execution_count": null,
   "metadata": {},
   "outputs": [],
   "source": []
  },
  {
   "cell_type": "code",
   "execution_count": null,
   "metadata": {},
   "outputs": [],
   "source": []
  }
 ],
 "metadata": {
  "kernelspec": {
   "display_name": "Python 3",
   "language": "python",
   "name": "python3"
  },
  "language_info": {
   "codemirror_mode": {
    "name": "ipython",
    "version": 3
   },
   "file_extension": ".py",
   "mimetype": "text/x-python",
   "name": "python",
   "nbconvert_exporter": "python",
   "pygments_lexer": "ipython3",
   "version": "3.8.3"
  }
 },
 "nbformat": 4,
 "nbformat_minor": 4
}

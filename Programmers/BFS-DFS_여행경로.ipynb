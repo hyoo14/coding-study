{
 "cells": [
  {
   "cell_type": "markdown",
   "metadata": {},
   "source": [
    "## DFS/BFS 중 여행경로"
   ]
  },
  {
   "cell_type": "markdown",
   "metadata": {},
   "source": [
    " "
   ]
  },
  {
   "cell_type": "markdown",
   "metadata": {},
   "source": [
    "# 문제링크: https://programmers.co.kr/learn/courses/30/lessons/43164"
   ]
  },
  {
   "cell_type": "markdown",
   "metadata": {},
   "source": [
    " "
   ]
  },
  {
   "cell_type": "markdown",
   "metadata": {},
   "source": [
    "문제 읽기: \"ICN\"에서 시작하여 모든 항공권을 사용하는 경로를 출력  \n",
    "  \n",
    "입력값: tickets\n",
    "출력값: 방문 경로(출발지, 경유지, 도착지)\n",
    "\n",
    "제한사항:    \n",
    "\n",
    "케이스가 여러가지라면 알파벳 오더가 빠른 순으로 방문해야함  \n",
    "모든 도시를 방문할 수 없는 경우는 주어지지 않음  \n",
    "(기타: 공항은 세글자, 공항개수 3~10000)  \n"
   ]
  },
  {
   "cell_type": "markdown",
   "metadata": {},
   "source": [
    "# 해결 코드:"
   ]
  },
  {
   "cell_type": "code",
   "execution_count": 3,
   "metadata": {},
   "outputs": [],
   "source": [
    "#21.06.18 100%\n",
    "#->모두 가는 경로 없는 경우 가능한 경우까지 가서 체크해줌(대안 있을 때까지 올라가서)\n",
    "def solution(tickets):\n",
    "    answer = []\n",
    "    \n",
    "    dictDest={}\n",
    "    dictDestCnt=0\n",
    "    \n",
    "    for (depart, dest) in tickets:\n",
    "        if dictDest.get(depart):\n",
    "            dictDest[depart].append(dest)            \n",
    "        else: \n",
    "            dictDest[depart]=[dest]\n",
    "        dictDestCnt+=1\n",
    "    \n",
    "    \n",
    "    for key in dictDest.keys(): dictDest[key] = sorted( dictDest[key] , reverse=True) #바꿔줌..미리 sort로 \n",
    "    \n",
    "    answer.append(\"ICN\")\n",
    "    \n",
    "    \n",
    "    #dictDest[\"ICN\"] = sorted( dictDest[\"ICN\"]  , reverse=True) \n",
    "    \n",
    "    \n",
    "    nextDest = dictDest[\"ICN\"].pop()\n",
    "    dictDestCnt-=1\n",
    "    answer.append(nextDest)\n",
    "    \n",
    "    \n",
    "    \n",
    "    \n",
    "    while True:\n",
    "        dictDestCnt_past = dictDestCnt\n",
    "        ##print(\"in \",answer,'   ',dictDestCnt,'  ',dictDest)\n",
    "        if dictDest.get(nextDest) is None or len(dictDest[nextDest]) == 0: \n",
    "            if dictDestCnt == 0: break\n",
    "            else:\n",
    "                \n",
    "                dest = answer.pop()\n",
    "                depart = answer[-1]      \n",
    "                dictDest[depart] = [dest] + dictDest[depart]#dictDest[depart].insert(0, dest)\n",
    "                dictDestCnt+=1\n",
    "                \n",
    "                while True:\n",
    "                    if len(dictDest[depart]) > 1: break\n",
    "                    \n",
    "                    dest = answer.pop()\n",
    "                    depart = answer[-1]      \n",
    "                    dictDest[depart] = [dest] + dictDest[depart]#dictDest[depart].insert(0, dest)\n",
    "                    dictDestCnt+=1  \n",
    "                \n",
    "                nextDest = depart \n",
    "                \n",
    "        #dictDest[nextDest] = sorted( dictDest[nextDest] , reverse=True) \n",
    "        \n",
    "        nextDest = dictDest[nextDest].pop()\n",
    "        dictDestCnt-=1\n",
    "        if nextDest is None: break\n",
    "                \n",
    "        answer.append(nextDest)\n",
    "        ##print(\"out \",answer,'   ',dictDestCnt,'  ',dictDest)\n",
    "        \n",
    "\n",
    "        \n",
    "    \n",
    "    ##print(dictDestCnt)\n",
    "    \n",
    "    \n",
    "    return answer\n"
   ]
  },
  {
   "cell_type": "markdown",
   "metadata": {},
   "source": [
    " "
   ]
  },
  {
   "cell_type": "markdown",
   "metadata": {},
   "source": [
    "# 해설:\n",
    "\n",
    "BFS 진행은 하는데..  \n",
    "모두 방문하지 못하는 경우 다시 체크해주는 부분을 구현하는 것이 조금 까다로웠음  \n",
    "\n",
    "두번째 시행착오의 와일문 부분에서 체크해줬지만, 못 통과하는 케이스들이 있었고,   \n",
    "그래서 정답코드 부분의 두번째 와일문처럼 체크해줌  \n",
    "->모두 가는 경로 없는 경우 가능한 경우까지 가서 체크해주는 형태로(대안 있을 때까지 올라가서)  \n",
    "  \n",
    "    \n",
    "      \n",
    "\n",
    "\n"
   ]
  },
  {
   "cell_type": "markdown",
   "metadata": {},
   "source": [
    "  "
   ]
  },
  {
   "cell_type": "markdown",
   "metadata": {},
   "source": [
    "# 시행착오 코드: "
   ]
  },
  {
   "cell_type": "code",
   "execution_count": 1,
   "metadata": {},
   "outputs": [],
   "source": [
    "#21.05.07 50%\n",
    "\n",
    "\n",
    "def solution(tickets):\n",
    "    answer = []\n",
    "    \n",
    "    dictDest={}\n",
    "    \n",
    "    for (depart, dest) in tickets:\n",
    "        if dictDest.get(depart):\n",
    "            dictDest[depart].append(dest)\n",
    "        else: \n",
    "            dictDest[depart]=[dest]\n",
    "    \n",
    "    answer.append(\"ICN\")\n",
    "    dictDest[\"ICN\"] = sorted( dictDest[\"ICN\"]  , reverse=True) \n",
    "    \n",
    "    nextDest = dictDest[\"ICN\"].pop()\n",
    "    answer.append(nextDest)\n",
    "    \n",
    "    while True:\n",
    "        if dictDest.get(nextDest) is None: break\n",
    "        if len(dictDest[nextDest]) == 0: break\n",
    "        dictDest[nextDest] = sorted( dictDest[nextDest] , reverse=True) \n",
    "        \n",
    "        nextDest = dictDest[nextDest].pop()\n",
    "        if nextDest is None: break\n",
    "        answer.append(nextDest)\n",
    "    \n",
    "    \n",
    "    \n",
    "    \n",
    "    return answer\n"
   ]
  },
  {
   "cell_type": "markdown",
   "metadata": {},
   "source": [
    "  "
   ]
  },
  {
   "cell_type": "code",
   "execution_count": 2,
   "metadata": {},
   "outputs": [],
   "source": [
    "#21.06.18 75%\n",
    "#->모두 가는 경로 없는 경우 뒤돌아가서 체크해줌\n",
    "def solution(tickets):\n",
    "    answer = []\n",
    "    \n",
    "    dictDest={}\n",
    "    dictDestCnt=0\n",
    "    \n",
    "    for (depart, dest) in tickets:\n",
    "        if dictDest.get(depart):\n",
    "            dictDest[depart].append(dest)            \n",
    "        else: \n",
    "            dictDest[depart]=[dest]\n",
    "        dictDestCnt+=1\n",
    "    \n",
    "    \n",
    "    for key in dictDest.keys(): dictDest[key] = sorted( dictDest[key] , reverse=True) #바꿔줌..미리 sort로 \n",
    "    \n",
    "    answer.append(\"ICN\")\n",
    "    \n",
    "    \n",
    "    #dictDest[\"ICN\"] = sorted( dictDest[\"ICN\"]  , reverse=True) \n",
    "    \n",
    "    nextDest = dictDest[\"ICN\"].pop()\n",
    "    dictDestCnt-=1\n",
    "    answer.append(nextDest)\n",
    "    \n",
    "    while True:\n",
    "        #print(\"in \",answer,'   ',dictDestCnt,'  ',dictDest)\n",
    "        if dictDest.get(nextDest) is None or len(dictDest[nextDest]) == 0: \n",
    "            if dictDestCnt == 0: break\n",
    "            else:\n",
    "                dest = answer.pop()\n",
    "                depart = answer[-1]\n",
    "                dictDest[depart] = [dest] + dictDest[depart]#dictDest[depart].insert(0, dest)\n",
    "                dictDestCnt+=1\n",
    "                nextDest = depart \n",
    "                \n",
    "        #dictDest[nextDest] = sorted( dictDest[nextDest] , reverse=True) \n",
    "        \n",
    "        nextDest = dictDest[nextDest].pop()\n",
    "        dictDestCnt-=1\n",
    "        if nextDest is None: break\n",
    "                \n",
    "        answer.append(nextDest)\n",
    "        #print(\"out \",answer,'   ',dictDestCnt,'  ',dictDest)\n",
    "        \n",
    "    \n",
    "    #print(dictDestCnt)\n",
    "    \n",
    "    \n",
    "    return answer\n"
   ]
  },
  {
   "cell_type": "markdown",
   "metadata": {},
   "source": [
    "  "
   ]
  },
  {
   "cell_type": "code",
   "execution_count": null,
   "metadata": {},
   "outputs": [],
   "source": []
  }
 ],
 "metadata": {
  "kernelspec": {
   "display_name": "Python 3",
   "language": "python",
   "name": "python3"
  },
  "language_info": {
   "codemirror_mode": {
    "name": "ipython",
    "version": 3
   },
   "file_extension": ".py",
   "mimetype": "text/x-python",
   "name": "python",
   "nbconvert_exporter": "python",
   "pygments_lexer": "ipython3",
   "version": "3.8.3"
  }
 },
 "nbformat": 4,
 "nbformat_minor": 4
}

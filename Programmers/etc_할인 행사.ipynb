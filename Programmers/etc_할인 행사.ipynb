{
 "cells": [
  {
   "cell_type": "markdown",
   "metadata": {},
   "source": [
    "## etc 중 할인 행사\n"
   ]
  },
  {
   "cell_type": "markdown",
   "metadata": {},
   "source": [
    "### stack/queue 문제?"
   ]
  },
  {
   "cell_type": "markdown",
   "metadata": {},
   "source": [
    " "
   ]
  },
  {
   "cell_type": "markdown",
   "metadata": {},
   "source": [
    "# 문제링크: https://school.programmers.co.kr/learn/courses/30/lessons/131127"
   ]
  },
  {
   "cell_type": "markdown",
   "metadata": {},
   "source": [
    " "
   ]
  },
  {
   "cell_type": "markdown",
   "metadata": {},
   "source": [
    "문제 읽기:  \n"
   ]
  },
  {
   "cell_type": "markdown",
   "metadata": {},
   "source": [
    "# 해결 코드:"
   ]
  },
  {
   "cell_type": "code",
   "execution_count": 1,
   "metadata": {},
   "outputs": [],
   "source": [
    "#2023.01.23 100%\n",
    "\n",
    "\n",
    "from collections import deque\n",
    "def contain_check(w_d, item):\n",
    "    if w_d.get(item) is None:\n",
    "        return False\n",
    "    else:\n",
    "        return True\n",
    "    \n",
    "def solution(want, number, discount):\n",
    "    answer = 0\n",
    "    w_d = {}\n",
    "    cmp_d = {}\n",
    "    len_discount = len(discount)\n",
    "\n",
    "    deq = deque()\n",
    "    total, cmp = 0, 0\n",
    "    \n",
    "    for i in range(len(want)):\n",
    "        w_d[want[i]] = number[i]\n",
    "        \n",
    "        total += number[i]\n",
    "        \n",
    "    if len_discount < total: return 0\n",
    "\n",
    "    for i in range(total):\n",
    "        if cmp_d.get(discount[i]) is None: cmp_d[discount[i]] = 1\n",
    "        else  : cmp_d[discount[i]] += 1\n",
    "        deq.append(discount[i])\n",
    "    #i += 1\n",
    "    #print(f'****************** i : {i}, len_discount : {len_discount}, item: {discount[i]}')\n",
    "    while i != len_discount:\n",
    "        \n",
    "        #print(cmp_d)\n",
    "        #print(w_d)\n",
    "        #print(\"**************\")\n",
    "        if cmp_d == w_d: \n",
    "            \n",
    "            answer += 1\n",
    "        \n",
    "        del_item = deq.popleft()\n",
    "        cmp_d[del_item] -= 1\n",
    "        if cmp_d[del_item] == 0: del cmp_d[del_item]\n",
    "        \n",
    "        i += 1\n",
    "        if i == len_discount : break\n",
    "        \n",
    "        \n",
    "        deq.append( discount[i] )\n",
    "        if cmp_d.get(discount[i]) is None: cmp_d[discount[i]] = 1\n",
    "        else : cmp_d[discount[i]] += 1\n",
    "        \n",
    "        \n",
    "        \n",
    "        \n",
    "        \n",
    "    \n",
    "    \n",
    "    return answer\n",
    "\n"
   ]
  },
  {
   "cell_type": "markdown",
   "metadata": {},
   "source": [
    " "
   ]
  },
  {
   "cell_type": "markdown",
   "metadata": {},
   "source": [
    "# 해설:\n",
    "\n",
    "\n",
    "\n",
    "\n",
    "\n"
   ]
  },
  {
   "cell_type": "markdown",
   "metadata": {},
   "source": [
    " # 시간복잡도:  \n",
    " \n",
    " \n",
    " \n",
    " 총: O(  )  "
   ]
  },
  {
   "cell_type": "markdown",
   "metadata": {},
   "source": [
    "# 시행착오 코드: "
   ]
  },
  {
   "cell_type": "code",
   "execution_count": null,
   "metadata": {},
   "outputs": [],
   "source": []
  },
  {
   "cell_type": "code",
   "execution_count": 6,
   "metadata": {},
   "outputs": [],
   "source": [
    "# 23.01.23 12.7% (2/12)\n",
    "\n",
    "\n",
    "from collections import deque\n",
    "def contain_check(w_d, item):\n",
    "    if w_d.get(item) is None:\n",
    "        return False\n",
    "    else:\n",
    "        return True\n",
    "    \n",
    "def solution(want, number, discount):\n",
    "    answer = 0\n",
    "    w_d = {}\n",
    "\n",
    "    deq = deque()\n",
    "    total, cmp = 0, 0\n",
    "    for i in range(len(want)):\n",
    "        w_d[want[i]] = number[i]\n",
    "        total += number[i]\n",
    "        \n",
    "    for item in discount:\n",
    "        #print(f'item : {item} , answer : {answer}, cmp : {cmp}, total: {total}')\n",
    "        #print(deq)\n",
    "        #print(w_d)\n",
    "        #want에 포함 안 되면 pass\n",
    "        if contain_check(w_d, item):\n",
    "            deq.append(item)\n",
    "\n",
    "            cmp += 1\n",
    "            w_d[item] -= 1            \n",
    "            if w_d[item] == 0: del w_d[item]\n",
    "                        \n",
    "            if cmp == total: \n",
    "                answer += 1\n",
    "                del_item = deq.popleft()\n",
    "                cmp -= 1\n",
    "                if w_d.get(del_item) is None: w_d[del_item] = 1\n",
    "                else: w_d[del_item] += 1\n",
    "                \n",
    "                \n",
    "        else:\n",
    "            if cmp != 0:\n",
    "                if item == deq[0]:\n",
    "                    #rint(f'***************** : deq[0] : {deq[0]}')\n",
    "                    deq.append( deq.popleft() )\n",
    "                else:\n",
    "                    while len(deq) != 0:\n",
    "                        cmp -= 1\n",
    "                        del_item = deq.popleft()\n",
    "                        if w_d.get(del_item) is None: w_d[del_item] = 1\n",
    "                        else: w_d[del_item] += 1\n",
    "\n",
    "                    \n",
    "        \n",
    "        #포함 되면 시작 try\n",
    "        \n",
    "    \n",
    "    \n",
    "    return answer"
   ]
  },
  {
   "cell_type": "code",
   "execution_count": null,
   "metadata": {},
   "outputs": [],
   "source": [
    "# 23.01.23 91.7% (11/12)\n",
    "from collections import deque\n",
    "def contain_check(w_d, item):\n",
    "    if w_d.get(item) is None:\n",
    "        return False\n",
    "    else:\n",
    "        return True\n",
    "    \n",
    "def solution(want, number, discount):\n",
    "    answer = 0\n",
    "    w_d = {}\n",
    "    cmp_d = {}\n",
    "    len_discount = len(discount)\n",
    "\n",
    "    deq = deque()\n",
    "    total, cmp = 0, 0\n",
    "    \n",
    "    for i in range(len(want)):\n",
    "        w_d[want[i]] = number[i]\n",
    "        \n",
    "        total += number[i]\n",
    "        \n",
    "    if len_discount < total: return 0\n",
    "\n",
    "    for i in range(total):\n",
    "        if cmp_d.get(discount[i]) is None: cmp_d[discount[i]] = 1\n",
    "        else  : cmp_d[discount[i]] += 1\n",
    "        deq.append(discount[i])\n",
    "    \n",
    "    print(f'****************** i : {i}, len_discount : {len_discount}')\n",
    "    while i != len_discount:\n",
    "        #print(cmp_d)\n",
    "        #print(w_d)\n",
    "        if cmp_d == w_d: \n",
    "            \n",
    "            answer += 1\n",
    "        \n",
    "        del_item = deq.popleft()\n",
    "        cmp_d[del_item] -= 1\n",
    "        if cmp_d[del_item] == 0: del cmp_d[del_item]\n",
    "        \n",
    "        deq.append( discount[i] )\n",
    "        if cmp_d.get(discount[i]) is None: cmp_d[discount[i]] = 1\n",
    "        else : cmp_d[discount[i]] += 1\n",
    "        \n",
    "        \n",
    "        \n",
    "        i += 1\n",
    "        \n",
    "    \n",
    "    \n",
    "    return answer"
   ]
  },
  {
   "cell_type": "code",
   "execution_count": 7,
   "metadata": {},
   "outputs": [
    {
     "data": {
      "text/plain": [
       "3"
      ]
     },
     "execution_count": 7,
     "metadata": {},
     "output_type": "execute_result"
    }
   ],
   "source": [
    "# sol : 3\n",
    "solution( [\"apple\", \"pork\"], [1, 1], [\"apple\", \"pot\", \"pork\", \"pot\",  \"apple\", \"pork\", \"pot\", \"apple\", \"pork\", \"pot\", \"pot\", \"apple\", \"pork\"])\n"
   ]
  },
  {
   "cell_type": "code",
   "execution_count": null,
   "metadata": {},
   "outputs": [],
   "source": []
  },
  {
   "cell_type": "code",
   "execution_count": null,
   "metadata": {},
   "outputs": [],
   "source": []
  }
 ],
 "metadata": {
  "kernelspec": {
   "display_name": "Python 3 (ipykernel)",
   "language": "python",
   "name": "python3"
  },
  "language_info": {
   "codemirror_mode": {
    "name": "ipython",
    "version": 3
   },
   "file_extension": ".py",
   "mimetype": "text/x-python",
   "name": "python",
   "nbconvert_exporter": "python",
   "pygments_lexer": "ipython3",
   "version": "3.9.12"
  }
 },
 "nbformat": 4,
 "nbformat_minor": 4
}

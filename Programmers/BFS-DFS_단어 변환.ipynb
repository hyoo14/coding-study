{
 "cells": [
  {
   "cell_type": "markdown",
   "metadata": {},
   "source": [
    "## DFS/BFS 중 단어 변환"
   ]
  },
  {
   "cell_type": "markdown",
   "metadata": {},
   "source": [
    " "
   ]
  },
  {
   "cell_type": "markdown",
   "metadata": {},
   "source": [
    "# 문제링크: https://programmers.co.kr/learn/courses/30/lessons/43163"
   ]
  },
  {
   "cell_type": "markdown",
   "metadata": {},
   "source": [
    " "
   ]
  },
  {
   "cell_type": "markdown",
   "metadata": {},
   "source": [
    "문제 읽기: begin 단어에서 target 단어로 가는 가장 짧은 경우의 수 반환  \n",
    "참고로 begin에서 시작하되며 하나의 알파벳만 바꿔서 words 안의 단어로 만듬  \n",
    "words 안의 단어들로 이동해가며 target이 되는 가장 적은 경우를 반환하는 것.  \n",
    "\n",
    "  \n",
    "입력값: begin, target, words   \n",
    "출력값: begin에서 target에 되는 가장 작은 경우의 수  \n",
    "\n",
    "제한사항:    \n",
    "word(in words)는 알파벳 소문자   \n",
    "3 <= len(word) <= 10, 모든 word의 len은 같음  \n",
    "3 <= len(words) <= 50, 중복은 없음  \n",
    "begin != target  \n",
    "변환할 수 없는 경우 return 0  \n"
   ]
  },
  {
   "cell_type": "markdown",
   "metadata": {},
   "source": [
    "# 해결 코드:"
   ]
  },
  {
   "cell_type": "code",
   "execution_count": 1,
   "metadata": {},
   "outputs": [],
   "source": [
    "#언제 푼 건 지 모르겠.. 100%\n",
    "\n",
    "\n",
    "def word_diff(begin, target):\n",
    "    retVal = 0\n",
    "    length = len(begin)\n",
    "    for i in range(length):\n",
    "        #ascii number return -> ord\n",
    "        if abs(ord(begin[i])-ord(target[i])) != 0: retVal += 1\n",
    "            \n",
    "    return retVal\n",
    "\n",
    "def solution(begin, target, words):\n",
    "    answer = len(words)\n",
    "    \n",
    "    \n",
    "    \n",
    "    bfs_list = []\n",
    "    \n",
    "    for i in range(len(words)):\n",
    "        word = words.pop()\n",
    "        if word_diff(word, begin) == 1: \n",
    "            if word == target: return answer - len(words)#정답 확인 \n",
    "            bfs_list.append([word, words[:]])\n",
    "        words.insert(0, word)\n",
    "    \n",
    "    \n",
    "    #print(bfs_list)\n",
    "    new_bfs_list = []\n",
    "    while len(bfs_list)>0:\n",
    "        #print(bfs_list)\n",
    "        begin, words = bfs_list.pop()\n",
    "        \n",
    "        if len(words) == 0: return 0\n",
    "        \n",
    "        for i in range(len(words)):\n",
    "            word = words.pop()\n",
    "            if word_diff(word, begin) == 1: \n",
    "                if word == target: return answer - len(words)#정답 확인 \n",
    "                new_bfs_list.append([word, words[:]])\n",
    "            words.insert(0, word)\n",
    "        if len(bfs_list) == 0: \n",
    "            bfs_list = new_bfs_list\n",
    "            new_bfs_list = []\n",
    "    return 0\n",
    "\n",
    "\n"
   ]
  },
  {
   "cell_type": "markdown",
   "metadata": {},
   "source": [
    " "
   ]
  },
  {
   "cell_type": "markdown",
   "metadata": {},
   "source": [
    "# 해설:\n",
    "\n",
    "bfs로 진행.  \n",
    "words에서 word 뽑아서 가능한 경우(아스키 차이1) word와 남은 words bfs_list에 삽입  \n",
    "bfs_list 에서 word와 남은 words 뽑아서 bfs 진행  \n",
    "진행하면서 target이 된 경우, 이 때까지의 수 리턴해줌  \n",
    "bfs_list 다 비울 때까지 bfs 돌려도 정답 안 나오면 리턴 0  \n",
    "\n",
    "\n",
    "\n"
   ]
  },
  {
   "cell_type": "markdown",
   "metadata": {},
   "source": [
    "# 시간복잡도:  \n",
    "\n",
    "단어 길이 : N   \n",
    "단어 개수 : M  \n",
    "  \n",
    "단어 체크  : O(N)    \n",
    "단어들 비교 : O(M)  \n",
    "  \n",
    "총 : O(N*M)  \n",
    "  \n"
   ]
  },
  {
   "cell_type": "markdown",
   "metadata": {},
   "source": [
    "# 다시 풀어본 코드:"
   ]
  },
  {
   "cell_type": "code",
   "execution_count": 1,
   "metadata": {},
   "outputs": [],
   "source": [
    "#acc 100   22.01.10\n",
    "\n",
    "def diff_alpha(word1, word2):\n",
    "    N, diff = len(word1), 0\n",
    "    for i in range(N):\n",
    "        if word1[i] != word2[i]: diff += 1    \n",
    "    return diff\n",
    "\n",
    "def solution(begin, target, words):\n",
    "    \n",
    "    bfs, visited = [[begin, 0]], {}\n",
    "    \n",
    "    \n",
    "    \n",
    "    while len(bfs) > 0:\n",
    "        popVal, popIter = bfs[0][0], bfs[0][1]\n",
    "        if popVal == target: return popIter\n",
    "        del bfs[0]        \n",
    "        for word in words:\n",
    "            if (diff_alpha(popVal, word) == 1 and visited.get( popVal+word ) is None \n",
    "                and visited.get( word+popVal ) is None):\n",
    "                bfs.append( [word, popIter+1]  )\n",
    "                visited[word+popVal], visited[popVal+word] = \"visited\",\"visited\"              \n",
    "    \n",
    "    return 0"
   ]
  },
  {
   "cell_type": "markdown",
   "metadata": {},
   "source": [
    "# 시행착오 코드: "
   ]
  },
  {
   "cell_type": "code",
   "execution_count": null,
   "metadata": {},
   "outputs": [],
   "source": []
  },
  {
   "cell_type": "code",
   "execution_count": null,
   "metadata": {},
   "outputs": [],
   "source": []
  },
  {
   "cell_type": "code",
   "execution_count": null,
   "metadata": {},
   "outputs": [],
   "source": []
  }
 ],
 "metadata": {
  "kernelspec": {
   "display_name": "Python 3",
   "language": "python",
   "name": "python3"
  },
  "language_info": {
   "codemirror_mode": {
    "name": "ipython",
    "version": 3
   },
   "file_extension": ".py",
   "mimetype": "text/x-python",
   "name": "python",
   "nbconvert_exporter": "python",
   "pygments_lexer": "ipython3",
   "version": "3.8.3"
  }
 },
 "nbformat": 4,
 "nbformat_minor": 4
}

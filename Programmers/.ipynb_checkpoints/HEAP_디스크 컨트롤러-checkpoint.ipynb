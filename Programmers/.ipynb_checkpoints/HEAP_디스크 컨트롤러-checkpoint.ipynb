{
 "cells": [
  {
   "cell_type": "markdown",
   "metadata": {},
   "source": [
    "## HEAP 중 디스크 컨트롤러"
   ]
  },
  {
   "cell_type": "markdown",
   "metadata": {},
   "source": [
    " "
   ]
  },
  {
   "cell_type": "markdown",
   "metadata": {},
   "source": [
    "# 문제링크: https://programmers.co.kr/learn/courses/30/lessons/42627"
   ]
  },
  {
   "cell_type": "markdown",
   "metadata": {},
   "source": [
    " "
   ]
  },
  {
   "cell_type": "markdown",
   "metadata": {},
   "source": [
    "문제 읽기:  \n",
    "[요청시간, 소요시간]이 담긴 jobs 리스트 입력받아서  \n",
    "종료된 시간들의 평균이 최소가 되는 경우를 찾아야함  \n",
    "그리고 이 경우의 평균 시간 출력  \n",
    "\n",
    "  \n",
    "입력값: jobs  \n",
    "출력값: 종료시간 평균 중 최소값      \n",
    "\n",
    "제한사항:    \n",
    "1 <= len(jobs) <= 500  \n",
    "0 <= 요청시간 <= 1,000  \n",
    "1 <= 소요시간 <= 1,000  "
   ]
  },
  {
   "cell_type": "markdown",
   "metadata": {},
   "source": [
    "# 해결 코드:"
   ]
  },
  {
   "cell_type": "code",
   "execution_count": 10,
   "metadata": {},
   "outputs": [],
   "source": [
    "#2020.8.24? 100%\n",
    "\n",
    "from heapq import heapify, heappop, heappush\n",
    "def solution(jobs):\n",
    "    jobs2 = []\n",
    "    for i in jobs:\n",
    "        jobs2.append([i[0],i[1],i[0],i[1]])\n",
    "    jobs = jobs2\n",
    "    \n",
    "    answer, time = 0, 0    \n",
    "    heapify(jobs)\n",
    "    lengths = len(jobs)\n",
    "    \n",
    "    \n",
    "    while len(jobs)>0:\n",
    "        \n",
    "        jobs_sub = []\n",
    "        while len(jobs) > 0:\n",
    "            now_job = heappop(jobs)\n",
    "            \n",
    "            if now_job[2] <= time: \n",
    "                new_component = [now_job[1] ,now_job]\n",
    "                jobs_sub.append(new_component)\n",
    "            else:\n",
    "                heappush(jobs, now_job)\n",
    "                break\n",
    "                \n",
    "        if len(jobs_sub) > 0:\n",
    "            heapify(jobs_sub)\n",
    "            \n",
    "            now_job = heappop(jobs_sub)[1]\n",
    "            \n",
    "            answer += (now_job[3] + time - now_job[2])\n",
    "            time += now_job[3]\n",
    "            \n",
    "            while len(jobs_sub) > 0:\n",
    "                heappush(jobs, jobs_sub[0][1])\n",
    "                del jobs_sub[0]\n",
    "        else:\n",
    "            time += 1\n",
    "                \n",
    "        \n",
    "    answer /= lengths\n",
    "    return int(answer)\n"
   ]
  },
  {
   "cell_type": "code",
   "execution_count": null,
   "metadata": {},
   "outputs": [],
   "source": []
  },
  {
   "cell_type": "code",
   "execution_count": 11,
   "metadata": {},
   "outputs": [
    {
     "name": "stdout",
     "output_type": "stream",
     "text": [
      "9\n"
     ]
    }
   ],
   "source": [
    "print(solution([[0, 3], [1, 9], [2, 6]]))"
   ]
  },
  {
   "cell_type": "code",
   "execution_count": null,
   "metadata": {},
   "outputs": [],
   "source": []
  },
  {
   "cell_type": "markdown",
   "metadata": {},
   "source": [
    " "
   ]
  },
  {
   "cell_type": "markdown",
   "metadata": {},
   "source": [
    "# 해설:\n",
    "\n",
    "결국 힙을 쓴 것은 걸리는 시간을 단축하기 위함  \n",
    "처음에 힙에 [요청시간, 소요시간] 다 때려 넣고 힙을 만들어줌  \n",
    "그리고 시간이 지나면서 실행할 수 있는 경우(요청시간이거나 지난 경우) 모두 빼서 새로운 힙에 넣어서 가장 소요시간이 적은 경우만 빼서 실행시키고,   \n",
    "나머지는 본 힙에 다시 다 넣어줌  \n",
    "이렇게 진행하며 시간 계산, 총 소요시간(소요시간+현재시간-요청시간)들의 합 구해주면 됨  \n",
    "\n",
    "\n",
    "\n"
   ]
  },
  {
   "cell_type": "markdown",
   "metadata": {},
   "source": [
    "  "
   ]
  },
  {
   "cell_type": "markdown",
   "metadata": {},
   "source": [
    "# 시행착오 코드: "
   ]
  },
  {
   "cell_type": "code",
   "execution_count": null,
   "metadata": {},
   "outputs": [],
   "source": []
  },
  {
   "cell_type": "code",
   "execution_count": null,
   "metadata": {},
   "outputs": [],
   "source": []
  }
 ],
 "metadata": {
  "kernelspec": {
   "display_name": "Python 3",
   "language": "python",
   "name": "python3"
  },
  "language_info": {
   "codemirror_mode": {
    "name": "ipython",
    "version": 3
   },
   "file_extension": ".py",
   "mimetype": "text/x-python",
   "name": "python",
   "nbconvert_exporter": "python",
   "pygments_lexer": "ipython3",
   "version": "3.8.3"
  }
 },
 "nbformat": 4,
 "nbformat_minor": 4
}

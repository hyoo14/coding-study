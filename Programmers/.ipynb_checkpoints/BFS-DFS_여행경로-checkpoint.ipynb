{
 "cells": [
  {
   "cell_type": "markdown",
   "metadata": {},
   "source": [
    "## DFS/BFS 중 여행경로"
   ]
  },
  {
   "cell_type": "markdown",
   "metadata": {},
   "source": [
    " "
   ]
  },
  {
   "cell_type": "markdown",
   "metadata": {},
   "source": [
    "# 문제링크: https://programmers.co.kr/learn/courses/30/lessons/43164"
   ]
  },
  {
   "cell_type": "markdown",
   "metadata": {},
   "source": [
    " "
   ]
  },
  {
   "cell_type": "markdown",
   "metadata": {},
   "source": [
    "문제 읽기: \"ICN\"에서 시작하여 모든 항공권을 사용하는 경로를 출력  \n",
    "  \n",
    "입력값: tickets\n",
    "출력값: 방문 경로(출발지, 경유지, 도착지)\n",
    "\n",
    "제한사항:    \n",
    "\n",
    "케이스가 여러가지라면 알파벳 오더가 빠른 순으로 방문해야함  \n",
    "모든 도시를 방문할 수 없는 경우는 주어지지 않음  \n",
    "(기타: 공항은 세글자, 공항개수 3~10000)  \n"
   ]
  },
  {
   "cell_type": "markdown",
   "metadata": {},
   "source": [
    "# 해결 코드:"
   ]
  },
  {
   "cell_type": "code",
   "execution_count": 3,
   "metadata": {},
   "outputs": [],
   "source": [
    "#21.06.18 100%\n",
    "#->모두 가는 경로 없는 경우 가능한 경우까지 가서 체크해줌(대안 있을 때까지 올라가서)\n",
    "def solution(tickets):\n",
    "    answer = []\n",
    "    \n",
    "    dictDest={}\n",
    "    dictDestCnt=0\n",
    "    \n",
    "    for (depart, dest) in tickets:\n",
    "        if dictDest.get(depart):\n",
    "            dictDest[depart].append(dest)            \n",
    "        else: \n",
    "            dictDest[depart]=[dest]\n",
    "        dictDestCnt+=1\n",
    "    \n",
    "    \n",
    "    for key in dictDest.keys(): dictDest[key] = sorted( dictDest[key] , reverse=True) #바꿔줌..미리 sort로 \n",
    "    \n",
    "    answer.append(\"ICN\")\n",
    "    \n",
    "    \n",
    "    #dictDest[\"ICN\"] = sorted( dictDest[\"ICN\"]  , reverse=True) \n",
    "    \n",
    "    \n",
    "    nextDest = dictDest[\"ICN\"].pop()\n",
    "    dictDestCnt-=1\n",
    "    answer.append(nextDest)\n",
    "    \n",
    "    \n",
    "    \n",
    "    \n",
    "    while True:\n",
    "        dictDestCnt_past = dictDestCnt\n",
    "        ##print(\"in \",answer,'   ',dictDestCnt,'  ',dictDest)\n",
    "        if dictDest.get(nextDest) is None or len(dictDest[nextDest]) == 0: \n",
    "            if dictDestCnt == 0: break\n",
    "            else:\n",
    "                \n",
    "                dest = answer.pop()\n",
    "                depart = answer[-1]      \n",
    "                dictDest[depart] = [dest] + dictDest[depart]#dictDest[depart].insert(0, dest)\n",
    "                dictDestCnt+=1\n",
    "                \n",
    "                while True:\n",
    "                    if len(dictDest[depart]) > 1: break\n",
    "                    \n",
    "                    dest = answer.pop()\n",
    "                    depart = answer[-1]      \n",
    "                    dictDest[depart] = [dest] + dictDest[depart]#dictDest[depart].insert(0, dest)\n",
    "                    dictDestCnt+=1  \n",
    "                \n",
    "                nextDest = depart \n",
    "                \n",
    "        #dictDest[nextDest] = sorted( dictDest[nextDest] , reverse=True) \n",
    "        \n",
    "        nextDest = dictDest[nextDest].pop()\n",
    "        dictDestCnt-=1\n",
    "        if nextDest is None: break\n",
    "                \n",
    "        answer.append(nextDest)\n",
    "        ##print(\"out \",answer,'   ',dictDestCnt,'  ',dictDest)\n",
    "        \n",
    "\n",
    "        \n",
    "    \n",
    "    ##print(dictDestCnt)\n",
    "    \n",
    "    \n",
    "    return answer\n"
   ]
  },
  {
   "cell_type": "markdown",
   "metadata": {},
   "source": [
    "# 테스트 케이스:  "
   ]
  },
  {
   "cell_type": "markdown",
   "metadata": {},
   "source": [
    " "
   ]
  },
  {
   "cell_type": "code",
   "execution_count": 5,
   "metadata": {},
   "outputs": [
    {
     "name": "stdout",
     "output_type": "stream",
     "text": [
      "['ICN', 'B', 'ICN', 'A', 'D', 'A']\n",
      "['ICN', 'A', 'C', 'A', 'B', 'D']\n",
      "['ICN', 'A', 'ICN', 'A', 'C']\n"
     ]
    }
   ],
   "source": [
    "print( solution( [[\"ICN\", \"B\"], [\"B\", \"ICN\"], [\"ICN\", \"A\"], [\"A\", \"D\"], [\"D\", \"A\"]]  ) ) #['ICN', 'B', 'ICN', 'A', 'D', 'A']\n",
    "\n",
    "print( solution([[\"ICN\", \"A\"], [\"A\", \"B\"], [\"A\", \"C\"], [\"C\", \"A\"], [\"B\", \"D\"]]) ) #['ICN', 'A', 'C', 'A', 'B', 'D']\n",
    "#2번, 1번 런타임페일 테스트케이스\n",
    "\n",
    "\n",
    "print( solution( # ['ICN', 'A', 'ICN', 'A', 'C']\n",
    "\n",
    " [['ICN', 'A'], ['ICN', 'A'], ['A', 'ICN'], ['A' , 'C']]\n",
    "\n",
    ") )\n",
    "#여기서 중복되는 경우 생각해줘야함.. 1번 테스트 케이스\n"
   ]
  },
  {
   "cell_type": "markdown",
   "metadata": {},
   "source": [
    "# 해설:\n",
    "\n",
    "BFS 진행은 하는데..  \n",
    "모두 방문하지 못하는 경우 다시 체크해주는 부분을 구현하는 것이 조금 까다로웠음  \n",
    "\n",
    "두번째 시행착오의 와일문 부분에서 체크해줬지만, 못 통과하는 케이스들이 있었고,   \n",
    "그래서 정답코드 부분의 두번째 와일문처럼 체크해줌  \n",
    "->모두 가는 경로 없는 경우 가능한 경우까지 가서 체크해주는 형태로(대안 있을 때까지 올라가서)  \n",
    "  \n",
    "    \n",
    "      \n",
    "\n",
    "\n"
   ]
  },
  {
   "cell_type": "markdown",
   "metadata": {},
   "source": [
    "# 다시 풀어 본 코드:  "
   ]
  },
  {
   "cell_type": "markdown",
   "metadata": {},
   "source": [
    "  "
   ]
  },
  {
   "cell_type": "code",
   "execution_count": 1,
   "metadata": {},
   "outputs": [],
   "source": [
    "#22.01.23\n",
    "def solution(tickets):#보완으로 75퍼 런타임페일0 -> 100퍼\n",
    "    cango={}\n",
    "    N=len(tickets)\n",
    "    canvisit={}####\n",
    "    for [sp, ep] in tickets:\n",
    "        if canvisit.get(sp+ep) is None:\n",
    "            canvisit[sp+ep]=1\n",
    "        else: canvisit[sp+ep]+=1\n",
    "        if cango.get(sp) is None:\n",
    "            cango[sp]=[ep]\n",
    "        else:\n",
    "            cango[sp].append(ep)\n",
    "    for key in cango.keys():\n",
    "        cango[key]=sorted(cango[key])\n",
    "    bfs=[]\n",
    "    \n",
    "    for des in cango[\"ICN\"]:\n",
    "        canvisit0 = canvisit.copy()\n",
    "        canvisit0['ICN'+des]-=1\n",
    "        bfs.append([['ICN',des],1, des, canvisit0])\n",
    "        \n",
    "        while len(bfs) > 0:\n",
    "            #print(visited)\n",
    "            #print(bfs)\n",
    "            #print(\"!!!!!!!\")\n",
    "            popVal=bfs[0]\n",
    "            del bfs[0]\n",
    "            #cango에 없을 경우 생각 못 함\n",
    "            if cango.get(popVal[2]) is None:\n",
    "                continue\n",
    "            #이 핸들링으로 될까\n",
    "            #-> 2번 풀림, 런티암에러 해결\n",
    "            #1은 계속 틀림\n",
    "            for des in cango[popVal[2]]:\n",
    "                #if popVal[3].get(popVal[2]+des) is None:\n",
    "                if popVal[3].get(popVal[2]+des) is not None:  \n",
    "                    if popVal[3][ popVal[2]+des ] > 0:\n",
    "                        popL=popVal[0]\n",
    "                        popN=popVal[1]\n",
    "                    \n",
    "                        if popN+1==N: return popL+[des]\n",
    "                        visit0=popVal[3].copy()\n",
    "                    \n",
    "                        visit0[popVal[2]+des]-=1\n",
    "                        bfs.append([popL+[des], popN+1, des, visit0]) \n",
    "        #print(bfs)\n",
    "\n",
    "        \n",
    "        \n",
    "        "
   ]
  },
  {
   "cell_type": "markdown",
   "metadata": {},
   "source": [
    "bfs로 풀었고, 다만 처음에는 방문한 edge들 기억해줬는데.. 재방문 경우까지 생각해줘야해서(1번 테케)  \n",
    "갈 수 있는 edge와 갈 수 있는 횟수(중복가능 횟수)를 체크해주는 방식으로 바꾸었다.(canvisit)  \n",
    "그리고 그 이전에 cango를 sorted해서 알파벳 앞선 순으로 먼저 방문하게 했고,,  \n",
    "cango가 없을 경우 예외처리 해줘서(다 방문 못 하는 경우 continue하게) 런타임페일 처리했다(1번, 2번 테케)  \n",
    "생각할꺼리가 있어서 괜찮은 bfs문제!  "
   ]
  },
  {
   "cell_type": "markdown",
   "metadata": {},
   "source": [
    "# 시간복잡도:  \n",
    "\n",
    "갈 수 있는 edge들 체크:O(N)  \n",
    "\n",
    "BFS(인접리스트 느낌으로 짰으니): O(E+V)   (참고로 E=N)  \n",
    "\n",
    "총: O(N + V)  "
   ]
  },
  {
   "cell_type": "markdown",
   "metadata": {},
   "source": [
    "# 시행착오 코드: "
   ]
  },
  {
   "cell_type": "code",
   "execution_count": 1,
   "metadata": {},
   "outputs": [],
   "source": [
    "#21.05.07 50%\n",
    "\n",
    "\n",
    "def solution(tickets):\n",
    "    answer = []\n",
    "    \n",
    "    dictDest={}\n",
    "    \n",
    "    for (depart, dest) in tickets:\n",
    "        if dictDest.get(depart):\n",
    "            dictDest[depart].append(dest)\n",
    "        else: \n",
    "            dictDest[depart]=[dest]\n",
    "    \n",
    "    answer.append(\"ICN\")\n",
    "    dictDest[\"ICN\"] = sorted( dictDest[\"ICN\"]  , reverse=True) \n",
    "    \n",
    "    nextDest = dictDest[\"ICN\"].pop()\n",
    "    answer.append(nextDest)\n",
    "    \n",
    "    while True:\n",
    "        if dictDest.get(nextDest) is None: break\n",
    "        if len(dictDest[nextDest]) == 0: break\n",
    "        dictDest[nextDest] = sorted( dictDest[nextDest] , reverse=True) \n",
    "        \n",
    "        nextDest = dictDest[nextDest].pop()\n",
    "        if nextDest is None: break\n",
    "        answer.append(nextDest)\n",
    "    \n",
    "    \n",
    "    \n",
    "    \n",
    "    return answer\n"
   ]
  },
  {
   "cell_type": "markdown",
   "metadata": {},
   "source": [
    "  "
   ]
  },
  {
   "cell_type": "code",
   "execution_count": 2,
   "metadata": {},
   "outputs": [],
   "source": [
    "#21.06.18 75%\n",
    "#->모두 가는 경로 없는 경우 뒤돌아가서 체크해줌\n",
    "def solution(tickets):\n",
    "    answer = []\n",
    "    \n",
    "    dictDest={}\n",
    "    dictDestCnt=0\n",
    "    \n",
    "    for (depart, dest) in tickets:\n",
    "        if dictDest.get(depart):\n",
    "            dictDest[depart].append(dest)            \n",
    "        else: \n",
    "            dictDest[depart]=[dest]\n",
    "        dictDestCnt+=1\n",
    "    \n",
    "    \n",
    "    for key in dictDest.keys(): dictDest[key] = sorted( dictDest[key] , reverse=True) #바꿔줌..미리 sort로 \n",
    "    \n",
    "    answer.append(\"ICN\")\n",
    "    \n",
    "    \n",
    "    #dictDest[\"ICN\"] = sorted( dictDest[\"ICN\"]  , reverse=True) \n",
    "    \n",
    "    nextDest = dictDest[\"ICN\"].pop()\n",
    "    dictDestCnt-=1\n",
    "    answer.append(nextDest)\n",
    "    \n",
    "    while True:\n",
    "        #print(\"in \",answer,'   ',dictDestCnt,'  ',dictDest)\n",
    "        if dictDest.get(nextDest) is None or len(dictDest[nextDest]) == 0: \n",
    "            if dictDestCnt == 0: break\n",
    "            else:\n",
    "                dest = answer.pop()\n",
    "                depart = answer[-1]\n",
    "                dictDest[depart] = [dest] + dictDest[depart]#dictDest[depart].insert(0, dest)\n",
    "                dictDestCnt+=1\n",
    "                nextDest = depart \n",
    "                \n",
    "        #dictDest[nextDest] = sorted( dictDest[nextDest] , reverse=True) \n",
    "        \n",
    "        nextDest = dictDest[nextDest].pop()\n",
    "        dictDestCnt-=1\n",
    "        if nextDest is None: break\n",
    "                \n",
    "        answer.append(nextDest)\n",
    "        #print(\"out \",answer,'   ',dictDestCnt,'  ',dictDest)\n",
    "        \n",
    "    \n",
    "    #print(dictDestCnt)\n",
    "    \n",
    "    \n",
    "    return answer\n"
   ]
  },
  {
   "cell_type": "markdown",
   "metadata": {},
   "source": [
    "  "
   ]
  },
  {
   "cell_type": "code",
   "execution_count": null,
   "metadata": {},
   "outputs": [],
   "source": []
  }
 ],
 "metadata": {
  "kernelspec": {
   "display_name": "Python 3",
   "language": "python",
   "name": "python3"
  },
  "language_info": {
   "codemirror_mode": {
    "name": "ipython",
    "version": 3
   },
   "file_extension": ".py",
   "mimetype": "text/x-python",
   "name": "python",
   "nbconvert_exporter": "python",
   "pygments_lexer": "ipython3",
   "version": "3.8.3"
  }
 },
 "nbformat": 4,
 "nbformat_minor": 4
}

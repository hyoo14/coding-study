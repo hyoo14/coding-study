{
 "cells": [
  {
   "cell_type": "markdown",
   "metadata": {},
   "source": [
    "## 다이나믹프로그래밍 중 등굣길 문제  "
   ]
  },
  {
   "cell_type": "markdown",
   "metadata": {},
   "source": [
    "  "
   ]
  },
  {
   "cell_type": "markdown",
   "metadata": {},
   "source": [
    "# 문제링크: https://programmers.co.kr/learn/courses/30/lessons/42898  "
   ]
  },
  {
   "cell_type": "markdown",
   "metadata": {},
   "source": [
    "  "
   ]
  },
  {
   "cell_type": "markdown",
   "metadata": {},
   "source": [
    "문제 읽기: 집(0,0)에서 학교(m-1,n-1)까지 가는 모든 경우의수 찾기  \n",
    "단, 갈 수 없는 웅덩이 좌표도 주어지고, 여기는 빼고 가야함  \n",
    "  \n",
    "입력값: m, n, puddles(웅동이 좌표들)       \n",
    "출력값: 모든 경로 수  \n",
    "\n",
    "제한사항:  \n",
    "1<= m, n <= 100   \n",
    "0<= len(puddles) <= 10      "
   ]
  },
  {
   "cell_type": "markdown",
   "metadata": {},
   "source": [
    "# 해결 코드:"
   ]
  },
  {
   "cell_type": "code",
   "execution_count": 1,
   "metadata": {},
   "outputs": [],
   "source": [
    "#2021.03.01 100%  \n",
    "\n",
    "def solution(n, m, puddles): #include memoizaion\n",
    "    answer = 0\n",
    "    \n",
    "    mem = []\n",
    "    sub_mem = []\n",
    "    for i in range(m): sub_mem.append(0)\n",
    "    for i in range(n): mem.append( sub_mem[:])\n",
    "        \n",
    "    for puddle in puddles:   mem[int(puddle[0])-1][int(puddle[1])-1] = -1\n",
    "        \n",
    "    #print(mem)\n",
    "    \n",
    "    #look-up\n",
    "    mem[0][0] = 1\n",
    "    for i in range(n):\n",
    "        for j in range(m):            \n",
    "            #can come from left-side or upside, also current or left-side, or updside values must not be under 0\n",
    "            left_side_value, up_side_value = 0, 0\n",
    "            if j-1 >= 0 and mem[i][j-1] >= 0: left_side_value += mem[i][j-1]\n",
    "            if i-1 >= 0 and mem[i-1][j] >= 0: up_side_value += mem[i-1][j] \n",
    "            if mem[i][j] >= 0: mem[i][j] += (left_side_value + up_side_value)\n",
    "                \n",
    "    answer += mem[n-1][m-1]\n",
    "    answer %= 1000000007\n",
    "    \n",
    "    return answer\n"
   ]
  },
  {
   "cell_type": "markdown",
   "metadata": {},
   "source": [
    "# 테스트 케이스: "
   ]
  },
  {
   "cell_type": "code",
   "execution_count": null,
   "metadata": {},
   "outputs": [],
   "source": [
    "print(solution( 4,3,[[2,2]]) ) #4\n",
    "\n",
    "print(solution( 4,3,[[2,2], [2,3], ]) ) #3"
   ]
  },
  {
   "cell_type": "markdown",
   "metadata": {},
   "source": [
    "  "
   ]
  },
  {
   "cell_type": "markdown",
   "metadata": {},
   "source": [
    "# 해설:\n",
    "\n",
    "사실 간단한 문제임..  \n",
    "문제였던 것은 x, y좌표가 아니라 row, col이라서 list index 주의해야하는 정도?  \n",
    "그리고 첫 column과 첫 row에 웅덩이가 있을 경우 그 이후에는 모든 값이 0이와야하는 것(웅덩이땜에 접근 불가능이니)  \n",
    "  \n",
    "  \n",
    "From. 21.03.01  \n",
    "그림과 예제의 설명이 맞지 않는다. 즉, 그림이 잘못되었다. 그래서 헤맬 뻔 했지만,  \n",
    "질의응답에 어떤 분이 알려주셔서 헤매지 않고 빠르게 해결하였다.  \n",
    "index m 부분과 n 부분 바꿔줌(임기응변으로). 코드는 아래와 같다.  \n",
    "시작점 1이고 좌측과 우측에서 오는 경우 2가지만 생각해주면서 look up해주면 된다.  \n",
    "memoization은 m, n matrix이고. paddle인 경우 합산(look up) 안 해주고, paddle에서 오는 경우도 look up 에 반영 안 시켜주면 끝.  \n",
    "\n"
   ]
  },
  {
   "cell_type": "markdown",
   "metadata": {},
   "source": [
    "# 시간복잡도:  \n",
    "  \n",
    "row: O(N) * col경우     \n",
    "col : O(M)    \n",
    "\n",
    "total:  O(M*N)  "
   ]
  },
  {
   "cell_type": "markdown",
   "metadata": {},
   "source": [
    "# 다시 풀어본 코드:  "
   ]
  },
  {
   "cell_type": "code",
   "execution_count": 2,
   "metadata": {},
   "outputs": [],
   "source": [
    "#acc 100  22.01.09\n",
    "def solution(m, n, puddles):\n",
    "    answer, mem = 0, []\n",
    "    \n",
    "    for i in range(n):\n",
    "        new_line = []\n",
    "        for j in range(m):\n",
    "            new_line.append(0)\n",
    "        mem.append(new_line)\n",
    "    \n",
    "    for puddle in puddles:  mem[ puddle[1]-1 ][ puddle[0]-1 ] = 'x'\n",
    "    for line in mem: print(line)\n",
    "    val, mem[0][0] = 1,1\n",
    "    for i in range(1,n):\n",
    "        if mem[i-1][0] == 'x' or mem[i][0] == 'x': val = 'x'\n",
    "        mem[i][0] = val\n",
    "    val = 1\n",
    "    for i in range(1,m): \n",
    "        if mem[0][i-1] == 'x' or mem[0][i] == 'x': val = 'x'\n",
    "        mem[0][i] = val\n",
    "    \n",
    "    for i in range(1, n):\n",
    "        for j in range(1, m):\n",
    "            if mem[i][j] != 'x':\n",
    "                if mem[i-1][j] != 'x': mem[i][j] += mem[i-1][j]\n",
    "                if mem[i][j-1] != 'x': mem[i][j] += mem[i][j-1]\n",
    "    for line in mem: print(line)\n",
    "    answer += mem[n-1][m-1]\n",
    "    return answer % 1000000007"
   ]
  },
  {
   "cell_type": "code",
   "execution_count": 3,
   "metadata": {},
   "outputs": [
    {
     "name": "stdout",
     "output_type": "stream",
     "text": [
      "4\n"
     ]
    }
   ],
   "source": [
    "print(solution( 4,3,[[2,2]]) )\n",
    "\n",
    "print(solution( 4,3,[[2,2], [2,3], ]) )"
   ]
  },
  {
   "cell_type": "markdown",
   "metadata": {},
   "source": [
    "# 시행착오 코드: "
   ]
  },
  {
   "cell_type": "code",
   "execution_count": null,
   "metadata": {},
   "outputs": [],
   "source": []
  },
  {
   "cell_type": "code",
   "execution_count": null,
   "metadata": {},
   "outputs": [],
   "source": [
    "#acc 75 22.01.09\n",
    "def solution(m, n, puddles):\n",
    "    answer, mem = 0, []\n",
    "    \n",
    "    for i in range(n):\n",
    "        new_line = []\n",
    "        for j in range(m):\n",
    "            new_line.append(0)\n",
    "        mem.append(new_line)\n",
    "    for i in range(n): mem[i][0] = 1\n",
    "    for i in range(m): mem[0][i] = 1\n",
    "    for puddle in puddles:  mem[ puddle[1]-1 ][ puddle[0]-1 ] = 'x'\n",
    "    \n",
    "    for i in range(1, n):\n",
    "        for j in range(1, m):\n",
    "            if mem[i][j] != 'x':\n",
    "                if mem[i-1][j] != 'x': mem[i][j] += mem[i-1][j]\n",
    "                if mem[i][j-1] != 'x': mem[i][j] += mem[i][j-1]\n",
    "    #for line in mem: print(line)\n",
    "    answer += mem[n-1][m-1]\n",
    "    return answer % 1000000007"
   ]
  },
  {
   "cell_type": "code",
   "execution_count": 14,
   "metadata": {},
   "outputs": [],
   "source": [
    "#acc 100  22.01.09\n",
    "def solution(m, n, puddles):\n",
    "    answer, mem = 0, []\n",
    "    \n",
    "    for i in range(n):\n",
    "        new_line = []\n",
    "        for j in range(m):\n",
    "            new_line.append(0)\n",
    "        mem.append(new_line)\n",
    "    \n",
    "    for puddle in puddles:  mem[ puddle[1]-1 ][ puddle[0]-1 ] = 'x'\n",
    "    for line in mem: print(line)\n",
    "    val, mem[0][0] = 1,1\n",
    "    for i in range(1,n):\n",
    "        if mem[i-1][0] == 'x' or mem[i][0] == 'x': val = 'x'\n",
    "        mem[i][0] = val\n",
    "    val = 1\n",
    "    for i in range(1,m): \n",
    "        if mem[0][i-1] == 'x' or mem[0][i] == 'x': val = 'x'\n",
    "        mem[0][i] = val\n",
    "    \n",
    "    for i in range(1, n):\n",
    "        for j in range(1, m):\n",
    "            if mem[i][j] != 'x':\n",
    "                if mem[i-1][j] != 'x': mem[i][j] += mem[i-1][j]\n",
    "                if mem[i][j-1] != 'x': mem[i][j] += mem[i][j-1]\n",
    "    for line in mem: print(line)\n",
    "    answer += mem[n-1][m-1]\n",
    "    return answer % 1000000007"
   ]
  },
  {
   "cell_type": "code",
   "execution_count": 15,
   "metadata": {},
   "outputs": [
    {
     "name": "stdout",
     "output_type": "stream",
     "text": [
      "[0, 0, 0, 0]\n",
      "[0, 'x', 0, 0]\n",
      "[0, 0, 0, 0]\n",
      "[1, 1, 1, 1]\n",
      "[1, 'x', 1, 2]\n",
      "[1, 1, 2, 4]\n",
      "4\n",
      "[0, 0, 0, 0]\n",
      "['x', 'x', 0, 0]\n",
      "[0, 'x', 0, 0]\n",
      "[1, 1, 1, 1]\n",
      "['x', 'x', 1, 2]\n",
      "['x', 'x', 1, 3]\n",
      "3\n"
     ]
    }
   ],
   "source": [
    "print(solution( 4,3,[[2,2]]) )\n",
    "\n",
    "print(solution( 4,3,  [[2,2], [2,3], [1, 2]]) )"
   ]
  },
  {
   "cell_type": "code",
   "execution_count": 6,
   "metadata": {},
   "outputs": [
    {
     "ename": "NameError",
     "evalue": "name 'mem' is not defined",
     "output_type": "error",
     "traceback": [
      "\u001b[1;31m---------------------------------------------------------------------------\u001b[0m",
      "\u001b[1;31mNameError\u001b[0m                                 Traceback (most recent call last)",
      "\u001b[1;32m<ipython-input-6-d190a287ce25>\u001b[0m in \u001b[0;36m<module>\u001b[1;34m\u001b[0m\n\u001b[1;32m----> 1\u001b[1;33m \u001b[0mprint\u001b[0m\u001b[1;33m(\u001b[0m\u001b[0mmem\u001b[0m\u001b[1;33m[\u001b[0m\u001b[1;36m0\u001b[0m\u001b[1;33m]\u001b[0m\u001b[1;33m[\u001b[0m\u001b[1;36m1\u001b[0m\u001b[1;33m]\u001b[0m\u001b[1;33m)\u001b[0m\u001b[1;33m\u001b[0m\u001b[1;33m\u001b[0m\u001b[0m\n\u001b[0m",
      "\u001b[1;31mNameError\u001b[0m: name 'mem' is not defined"
     ]
    }
   ],
   "source": [
    "print(mem[0][1])"
   ]
  },
  {
   "cell_type": "code",
   "execution_count": null,
   "metadata": {},
   "outputs": [],
   "source": []
  }
 ],
 "metadata": {
  "kernelspec": {
   "display_name": "Python 3",
   "language": "python",
   "name": "python3"
  },
  "language_info": {
   "codemirror_mode": {
    "name": "ipython",
    "version": 3
   },
   "file_extension": ".py",
   "mimetype": "text/x-python",
   "name": "python",
   "nbconvert_exporter": "python",
   "pygments_lexer": "ipython3",
   "version": "3.8.5"
  }
 },
 "nbformat": 4,
 "nbformat_minor": 4
}

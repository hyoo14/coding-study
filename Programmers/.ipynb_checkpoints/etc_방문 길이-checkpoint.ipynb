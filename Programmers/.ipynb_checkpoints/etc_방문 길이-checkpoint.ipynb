{
 "cells": [
  {
   "cell_type": "markdown",
   "metadata": {},
   "source": [
    "## etc 중 방문 길이"
   ]
  },
  {
   "cell_type": "markdown",
   "metadata": {},
   "source": [
    " "
   ]
  },
  {
   "cell_type": "markdown",
   "metadata": {},
   "source": [
    "# 문제링크: https://school.programmers.co.kr/learn/courses/30/lessons/49994"
   ]
  },
  {
   "cell_type": "markdown",
   "metadata": {},
   "source": [
    " "
   ]
  },
  {
   "cell_type": "markdown",
   "metadata": {},
   "source": [
    "문제 읽기:  \n"
   ]
  },
  {
   "cell_type": "markdown",
   "metadata": {},
   "source": [
    "# 해결 코드:"
   ]
  },
  {
   "cell_type": "code",
   "execution_count": 1,
   "metadata": {},
   "outputs": [],
   "source": [
    "#2023.01.22 100%\n",
    "\n",
    "def pos_check(pos):\n",
    "    if pos[0] < -5: return False\n",
    "    if pos[0] > 5: return False\n",
    "    if pos[1] < -5: return False\n",
    "    if pos[1] > 5: return False\n",
    "    return True\n",
    "    \n",
    "    \n",
    "def solution(dirs):\n",
    "    answer = 0\n",
    "    pos = [0,0]\n",
    "    route, way = {}, {}\n",
    "    way['R'], way['L'] = [1, 0], [-1, 0]\n",
    "    way['U'], way['D'] = [0, 1], [0, -1]\n",
    "    \n",
    "    for dir in dirs:\n",
    "        #pos update\n",
    "        next_pos = [pos[0] + way[dir][0], pos[1] + way[dir][1]]\n",
    "        if pos_check( next_pos ):\n",
    "            \n",
    "                    \n",
    "            #pos possible -> route updated\n",
    "            if (route.get( str(pos) + str(next_pos) ) is None and \n",
    "                    route.get( str(next_pos) + str(pos) ) is None):\n",
    "                answer += 1\n",
    "                route[str(pos) + str(next_pos)], route[str(next_pos) + str(pos)] = True, True\n",
    "            pos = next_pos     \n",
    "    \n",
    "    \n",
    "    return answer"
   ]
  },
  {
   "cell_type": "markdown",
   "metadata": {},
   "source": [
    " "
   ]
  },
  {
   "cell_type": "markdown",
   "metadata": {},
   "source": [
    "# 해설:\n",
    "\n",
    "\n",
    "\n",
    "\n",
    "\n"
   ]
  },
  {
   "cell_type": "markdown",
   "metadata": {},
   "source": [
    " # 시간복잡도:  \n",
    " \n",
    " \n",
    " \n",
    " 총: O()"
   ]
  },
  {
   "cell_type": "markdown",
   "metadata": {},
   "source": [
    "# 시행착오 코드: "
   ]
  },
  {
   "cell_type": "code",
   "execution_count": null,
   "metadata": {},
   "outputs": [],
   "source": []
  },
  {
   "cell_type": "code",
   "execution_count": null,
   "metadata": {},
   "outputs": [],
   "source": []
  }
 ],
 "metadata": {
  "kernelspec": {
   "display_name": "Python 3 (ipykernel)",
   "language": "python",
   "name": "python3"
  },
  "language_info": {
   "codemirror_mode": {
    "name": "ipython",
    "version": 3
   },
   "file_extension": ".py",
   "mimetype": "text/x-python",
   "name": "python",
   "nbconvert_exporter": "python",
   "pygments_lexer": "ipython3",
   "version": "3.9.12"
  }
 },
 "nbformat": 4,
 "nbformat_minor": 4
}

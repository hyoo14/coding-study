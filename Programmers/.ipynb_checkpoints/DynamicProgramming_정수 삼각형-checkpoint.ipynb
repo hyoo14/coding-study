{
 "cells": [
  {
   "cell_type": "markdown",
   "metadata": {},
   "source": [
    "## 다이나믹프로그래밍 중 정수 삼각형 문제  "
   ]
  },
  {
   "cell_type": "markdown",
   "metadata": {},
   "source": [
    "  "
   ]
  },
  {
   "cell_type": "markdown",
   "metadata": {},
   "source": [
    "# 문제링크: https://programmers.co.kr/learn/courses/30/lessons/43105  "
   ]
  },
  {
   "cell_type": "markdown",
   "metadata": {},
   "source": [
    "  "
   ]
  },
  {
   "cell_type": "markdown",
   "metadata": {},
   "source": [
    "문제 읽기: DP문제의 효시라고 볼 수 있는 정수 삼각형 문제  \n",
    "삼각형의 윗부분의 값이 아래로 내려오면서 값이 점점 합쳐지는데,  \n",
    "내려오는 값이 2개가 있는 경우 둘 중에 큰 값을 합쳐야함.  \n",
    "다 내려온 값들 중 가장 큰 값을 찾는 문제  \n",
    "  \n",
    "입력값: triangle    \n",
    "출력값: 가장 밑에층에 있는 아래로 누적된 값 중 최소값  \n",
    "\n",
    "제한사항:  \n",
    "1<= N(len(triangle) ) <= 500   \n",
    "0<= number <= 9,999    "
   ]
  },
  {
   "cell_type": "markdown",
   "metadata": {},
   "source": [
    "# 해결 코드:"
   ]
  },
  {
   "cell_type": "code",
   "execution_count": 1,
   "metadata": {},
   "outputs": [],
   "source": [
    "#2021.2.28 100%  \n",
    "\n",
    "def solution(triangle):\n",
    "    \n",
    "    last_edge = mem_lookup(triangle)\n",
    "    \n",
    "    answer = last_edge[0]\n",
    "    \n",
    "    for i in range(1, len(last_edge)):\n",
    "        if last_edge[i] > answer: answer = last_edge[i]\n",
    "    \n",
    "    return answer\n",
    "\n",
    "def mem_lookup(triangle):\n",
    "    \n",
    "    for i in range(1, len(triangle)):\n",
    "        for j in range(len(triangle[i])):\n",
    "            beforeValue1, beforeValue2 = 0, 0\n",
    "            if j-1 >= 0: beforeValue1 = triangle[i-1][j-1]\n",
    "            if j < len(triangle[i-1]): beforeValue2 = triangle[i-1][j]\n",
    "                \n",
    "            triangle[i][j] += max(beforeValue1, beforeValue2)\n",
    "    \n",
    "    return triangle[len(triangle) - 1]\n",
    "\n"
   ]
  },
  {
   "cell_type": "markdown",
   "metadata": {},
   "source": [
    "  "
   ]
  },
  {
   "cell_type": "markdown",
   "metadata": {},
   "source": [
    "# 해설:\n",
    "\n",
    "내 풀이는 아래와 같음  \n",
    "그냥 층 내려가면 됨. 내려갈 때 큰 놈의 값을 취해주면(더해주면) 된다.  \n",
    "생각보다 더 심플.  \n",
    "\n",
    "\n",
    "\n"
   ]
  },
  {
   "cell_type": "markdown",
   "metadata": {},
   "source": [
    "# 시간복잡도:  \n",
    "  \n",
    "삼각형 층 수: N  \n",
    "층 마다 원소 수 worst : N  \n",
    "\n",
    "총:  O(N^2)  "
   ]
  },
  {
   "cell_type": "markdown",
   "metadata": {},
   "source": [
    "# 다시 풀어본 코드:  "
   ]
  },
  {
   "cell_type": "code",
   "execution_count": null,
   "metadata": {},
   "outputs": [],
   "source": [
    "#acc 100, 23.01.13\n",
    "def solution(triangle):\n",
    "    height = len(triangle)\n",
    "    \n",
    "    for i in range(height-1-1, -1, -1):\n",
    "        width = len(triangle[i])\n",
    "        for j in range(width):\n",
    "            triangle[i][j] += max(triangle[i+1][j] ,  triangle[i+1][j+1])\n",
    "            \n",
    "    return triangle[0][0]\n",
    "    "
   ]
  },
  {
   "cell_type": "code",
   "execution_count": 1,
   "metadata": {},
   "outputs": [],
   "source": [
    "#acc 100, 21.12.26\n",
    "def solution(triangle):\n",
    "    N = len(triangle)\n",
    "    mem = []\n",
    "    for i in range(N):\n",
    "        sub_mem = []\n",
    "        for j in range(i+1):\n",
    "            sub_mem.append(0)\n",
    "        mem.append(sub_mem)\n",
    "    #print(mem)\n",
    "    mem[0][0] = triangle[0][0]\n",
    "    for i in range(1, N):\n",
    "        for j in range(len(mem[i])):\n",
    "            if j == 0: mem[i][j] = mem[i-1][j] + triangle[i][j]\n",
    "            elif j == len(mem[i]) -1: mem[i][j] = mem[i-1][j-1] + triangle[i][j]\n",
    "            else:\n",
    "                mem[i][j] = triangle[i][j]+max(mem[i-1][j-1], mem[i-1][j])\n",
    "    return max( mem[N-1])\n"
   ]
  },
  {
   "cell_type": "code",
   "execution_count": null,
   "metadata": {},
   "outputs": [],
   "source": []
  },
  {
   "cell_type": "markdown",
   "metadata": {},
   "source": [
    "# 시행착오 코드: "
   ]
  },
  {
   "cell_type": "code",
   "execution_count": null,
   "metadata": {},
   "outputs": [],
   "source": []
  },
  {
   "cell_type": "code",
   "execution_count": null,
   "metadata": {},
   "outputs": [],
   "source": []
  }
 ],
 "metadata": {
  "kernelspec": {
   "display_name": "Python 3 (ipykernel)",
   "language": "python",
   "name": "python3"
  },
  "language_info": {
   "codemirror_mode": {
    "name": "ipython",
    "version": 3
   },
   "file_extension": ".py",
   "mimetype": "text/x-python",
   "name": "python",
   "nbconvert_exporter": "python",
   "pygments_lexer": "ipython3",
   "version": "3.9.12"
  }
 },
 "nbformat": 4,
 "nbformat_minor": 4
}

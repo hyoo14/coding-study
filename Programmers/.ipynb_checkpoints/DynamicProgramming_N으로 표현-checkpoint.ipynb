{
 "cells": [
  {
   "cell_type": "markdown",
   "metadata": {},
   "source": [
    "## 다이나믹프로그래밍 중 N으로 표현 문제"
   ]
  },
  {
   "cell_type": "markdown",
   "metadata": {},
   "source": []
  },
  {
   "cell_type": "markdown",
   "metadata": {},
   "source": [
    "# 문제링크: https://programmers.co.kr/learn/courses/30/lessons/42895"
   ]
  },
  {
   "cell_type": "markdown",
   "metadata": {},
   "source": []
  },
  {
   "cell_type": "markdown",
   "metadata": {},
   "source": [
    "문제 읽기: 숫자 N들과 사칙연산을 사용하여 number를 표현.  \n",
    "이 때, N을 최소한으로 사용한 경우를 찾는 것.  \n",
    "리턴값은 N의 사용횟수\n",
    "  \n",
    "입력값: N, number  \n",
    "출력값: 최소 사용횟수  \n",
    "\n",
    "제한사항:  \n",
    "1<= N <= 9  \n",
    "1<= number <= 32,000  \n",
    "사칙연산만 가능, 나누기 연산서 나머지 무시  \n",
    "최소값이 8보다 크면 -1 리턴  "
   ]
  },
  {
   "cell_type": "markdown",
   "metadata": {},
   "source": [
    "# 해결 코드:"
   ]
  },
  {
   "cell_type": "code",
   "execution_count": 1,
   "metadata": {},
   "outputs": [],
   "source": [
    "#21.08.13 100%\n",
    "\n",
    "def solution(n, times):\n",
    "    answer = 0\n",
    "    length=len(times)\n",
    "    sums,products=0,1\n",
    "    #for i in times:products*=i # number range 넘어가서 에러나는 듯. 근데 이거 지웠더니 왜 다 통과되지?? #->왜냐하면 밑에서 분수 합친 sums가 이전의 products/sums와 같은역할 하기 때문.(계산적으로)\n",
    "    for i in times:\n",
    "        sums+=(products/i)\n",
    "    print(\"sums and products :: \",sums,'  ',products)\n",
    "    #가상의 최적(최소) 시간 (n*products/sums), 올림해줘야함.\n",
    "    if int(n*products/sums) < (n*products/sums): start_time = int(n*products/sums) + 1\n",
    "    else: start_time = int(n*products/sums)\n",
    "        \n",
    "    #가상의 최대 시간( n * min(times) ), 처리능력 가장 좋은 곳에서 전부 처리\n",
    "    end_time = n*min(times)\n",
    "        \n",
    "    print(\" some totals? \", (n*products/sums), \" start time: \", start_time, \" end time: \", end_time)\n",
    "    \n",
    "    if complete_num(start_time, times) >= n: return start_time ##예외처리\n",
    "    \n",
    "    last_mid_time = -1 #mid_time 반복 방지용 \n",
    "    \n",
    "    while True:        \n",
    "        if int(  (start_time + end_time)/2 ) < (start_time + end_time)/2:mid_time=int(  (start_time + end_time)/2 )+1\n",
    "        else: mid_time=int(  (start_time + end_time)/2 )\n",
    "            \n",
    "        #목표보다 많은 사람이 처리될 수 있는 경우 반복됨. 이 경우 리턴해줌.\n",
    "        if last_mid_time == mid_time: return mid_time\n",
    "        else: last_mid_time = mid_time\n",
    "            \n",
    "        print(\"[before]start time : \", start_time, \" mid time : \", mid_time, \" end time: \", end_time)\n",
    "        print(\"complete_num : \", complete_num(mid_time, times))\n",
    "        \n",
    "        if   complete_num(mid_time, times) < n: start_time = mid_time\n",
    "        elif complete_num(mid_time, times) > n: end_time = mid_time\n",
    "        else:\n",
    "            print(\"come here?\")\n",
    "            for i in times: \n",
    "                if (mid_time/i) - int(mid_time/i) == 0: return mid_time            \n",
    "            end_time = mid_time\n",
    "                \n",
    "            \n",
    "        \n",
    "        print(\"[after]start time : \", start_time, \" mid time : \", mid_time, \" end time: \", end_time)\n",
    "        print(\"complete_num : \", complete_num(mid_time, times))\n",
    "        \n",
    "\n",
    "def complete_num(t, times):\n",
    "    num_sum = 0\n",
    "    for i in times:   num_sum += int( t / i )\n",
    "    return num_sum\n"
   ]
  },
  {
   "cell_type": "markdown",
   "metadata": {},
   "source": []
  },
  {
   "cell_type": "markdown",
   "metadata": {},
   "source": [
    "# 해설:\n",
    "\n",
    "아이디어 떠오른 과정은 아래와 같음  \n",
    "6명 [7, 10] 예를 생각해보았음  \n",
    "t시간 -> 찾는 답  \n",
    "max 처리량 [ t/7 , t/10 ]  \n",
    "t/7 + t/10 >= 6 (주어진 처리해야할 토털)  \n",
    "17t / 70 >= 6 xxxxxxxx  \n",
    "t >= 420 / 17 xxxxxxxx 분모를 통분하면 안되네  \n",
    "여기서 binary search 해야할듯  \n",
    "\n",
    "t의 pool 중에서 min값은 당연 420/17 =24.7 … (이거보다 작을 순 없으니)  \n",
    "\n",
    "end값은 max는 걍 젤큰값 10\\*6? no. 6\\*7로 가장 능률좋은곳에서 6명 다처리의 경우임.  \n",
    "\n",
    "\n",
    "[25,60] 서 서치?,, [25,42] binary search!  \n",
    "\n",
    "근데 t >= 24.70 … 이면  \n",
    "가장 적은 처리시간은 것의 n배이면  \n",
    "7\\*n = t >= 24.70 …  \n",
    "n=4, t=28? no. 케이스 좀 더 고려해야함. binary search 써야함.  \n",
    "\n",
    "a/3 + a/2 + a/4  >= 6  \n",
    "이걸 토대로 케이스 좀 더 고려해서 구현 성공함  \n",
    "\n"
   ]
  },
  {
   "cell_type": "markdown",
   "metadata": {},
   "source": [
    "# 시행착오 코드: "
   ]
  },
  {
   "cell_type": "code",
   "execution_count": null,
   "metadata": {},
   "outputs": [],
   "source": []
  },
  {
   "cell_type": "code",
   "execution_count": null,
   "metadata": {},
   "outputs": [],
   "source": []
  }
 ],
 "metadata": {
  "kernelspec": {
   "display_name": "Python 3",
   "language": "python",
   "name": "python3"
  },
  "language_info": {
   "codemirror_mode": {
    "name": "ipython",
    "version": 3
   },
   "file_extension": ".py",
   "mimetype": "text/x-python",
   "name": "python",
   "nbconvert_exporter": "python",
   "pygments_lexer": "ipython3",
   "version": "3.8.3"
  }
 },
 "nbformat": 4,
 "nbformat_minor": 4
}

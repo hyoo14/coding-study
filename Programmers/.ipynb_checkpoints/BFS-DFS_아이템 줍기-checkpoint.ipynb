{
 "cells": [
  {
   "cell_type": "markdown",
   "metadata": {},
   "source": [
    "## DFS/BFS 중 아이템 줍기    "
   ]
  },
  {
   "cell_type": "markdown",
   "metadata": {},
   "source": [
    " "
   ]
  },
  {
   "cell_type": "markdown",
   "metadata": {},
   "source": [
    "# 문제링크: https://school.programmers.co.kr/learn/courses/30/lessons/87694"
   ]
  },
  {
   "cell_type": "markdown",
   "metadata": {},
   "source": [
    " "
   ]
  },
  {
   "cell_type": "markdown",
   "metadata": {},
   "source": [
    "문제 읽기:  \n",
    "\n",
    "  \n",
    "입력값:  \n",
    "출력값:  \n",
    "\n",
    "제한사항:    \n"
   ]
  },
  {
   "cell_type": "markdown",
   "metadata": {},
   "source": [
    "# 해결 코드:"
   ]
  },
  {
   "cell_type": "code",
   "execution_count": null,
   "metadata": {},
   "outputs": [],
   "source": [
    "#acc100   - Tuesday, 220719 \n",
    "\n",
    "#두배 해준 것 트라이얼 \n",
    "#2배를 안 해주니 못 가는 길(연결 안 되어 있는데 거리는 1인 경우를 그냥 가버림.. 그래서 문제를 잘못푸는 경우가 생김... ) 가버리는 문제  \n",
    "\n",
    "#acc 72.9, Tuesday, 220719, runtime error들이 남.. 다른 문제가 있을 듯!\n",
    "#런타임 에러 잡아보자  ->filler에서 에러남  \n",
    "#런타임 잡음! 입력 range가 50인 경우도 포함되므로 100인 경우도 포함되게 range 넓혀줌! 조건을 잘 숙지하다!\n",
    "\n",
    "from collections import deque\n",
    "def filler(x1, y1, x2, y2, plane):\n",
    "    for i in range(x1, x2+1):\n",
    "        for j in range(y1, y2+1):\n",
    "            plane[i][j] = 1\n",
    "def eightcheck(i, j, plane):#True - > removable\n",
    "    #print(\"start eightcheck\")\n",
    "    if (    0 <= i-1  and 0 <= j-1 and i+1 < 101 and j+1 < 101 ):\n",
    "        #print('{}, {}'.format(i,j))\n",
    "        if (  plane[i-1][j] + plane[i-1][j-1] + plane[i-1][j+1]  #index 오류 주의.. 한번 놓침\n",
    "            + plane[i+1][j] + plane[i+1][j-1] + plane[i+1][j+1] \n",
    "            + plane[i][j-1] + plane[i][j+1] == 8):\n",
    "            \n",
    "            return True\n",
    "    return False\n",
    "def remover(plane): #여기서 border 빼고 지워야하는데 잘못 지워짐.. 왜냐하면 겹치는 것 처럼 보이기 때문(거리 1로 떨어져 있는 경우)\n",
    "    remove_codi = []\n",
    "    for i in range(101):\n",
    "        for j in range(101):\n",
    "            if eightcheck(i,j,plane): #8방향 다 차있어야 없애도 됨\n",
    "                remove_codi.append([i,j])\n",
    "    #print(remove_codi)\n",
    "    for i,j in remove_codi:\n",
    "        plane[i][j] = 0\n",
    "\n",
    "def next_codi_finder(x, y, plane, visit_):\n",
    "    n_codi = []\n",
    "    #4 directions\n",
    "    #print(\"in next_codi_finder : \", x, y )\n",
    "    if x-1 >= 0:#[nX-1, nY],\n",
    "        if plane[x-1][y] == 1 and visit_.get( str([x,y,x-1,y]) ) is None:\n",
    "            #print(\"1\")\n",
    "            n_codi.append( [ x-1, y])\n",
    "            visit_[ str([x,y,x-1,y]) ], visit_[ str([x-1,y,x,y]) ]=1,1\n",
    "    if x+1 < 101: #[nX+1, nY],\n",
    "        if plane[x+1][y] == 1 and visit_.get( str([x,y,x+1,y]) ) is None:\n",
    "            #print(\"2\")\n",
    "            n_codi.append( [ x+1, y])\n",
    "            visit_[ str([x,y,x+1,y]) ], visit_[ str([x+1,y,x,y]) ]=1,1\n",
    "    if y-1 >= 0: #[nX, nY-1], \n",
    "        if plane[x][y-1] == 1 and visit_.get( str([x,y,x,y-1]) ) is None: #복붙 과정에서 인덱스 잘못 써줌..왜 1로 썼지.. 무튼\n",
    "            #print(\"3\")\n",
    "            n_codi.append( [ x, y-1])\n",
    "            visit_[ str([x,y,x,y-1]) ], visit_[ str([x,y-1,x,y]) ]=1,1\n",
    "    if y+1 < 101: #[nX, nY+1]\n",
    "        if plane[x][y+1] == 1 and visit_.get( str([x,y,x,y+1]) ) is None:\n",
    "            #print(\"4\")\n",
    "            n_codi.append( [ x, y+1])\n",
    "            visit_[ str([x,y,x,y+1]) ], visit_[ str([x,y+1,x,y]) ]=1,1\n",
    "    \n",
    "    return n_codi\n",
    "def solution(rectangle, characterX, characterY, itemX, itemY):\n",
    "    answer = 0\n",
    "    plane = [[0] * 101 for _ in range(101) ] #100이 아니라 101!\n",
    "        \n",
    "    for rec in rectangle:\n",
    "        x1, y1, x2, y2 = rec\n",
    "        #그냥 다 두배\n",
    "        filler(x1*2, y1*2, x2*2, y2*2, plane)\n",
    "        \n",
    "    remover(plane)\n",
    "#     for i in range(50):\n",
    "#         print(plane[i])\n",
    "    \n",
    "    dfs_ = deque()\n",
    "    visit_ = {}\n",
    "    dfs_.append([ characterX*2, characterY*2, answer])\n",
    "    while len(dfs_) > 0:\n",
    "        #print(dfs_)\n",
    "        nX, nY, nA = dfs_.popleft()\n",
    "        nA += 1\n",
    "        next_codi = next_codi_finder(nX, nY, plane, visit_)\n",
    "        #print(\"next-codi ?? \",next_codi)\n",
    "        for n_codi in next_codi:\n",
    "            if n_codi == [itemX*2, itemY*2]:\n",
    "                return int(nA/2)\n",
    "            dfs_.append([n_codi[0], n_codi[1], nA])\n",
    "        \n",
    "    return answer"
   ]
  },
  {
   "cell_type": "code",
   "execution_count": null,
   "metadata": {},
   "outputs": [],
   "source": []
  },
  {
   "cell_type": "markdown",
   "metadata": {},
   "source": [
    " "
   ]
  },
  {
   "cell_type": "markdown",
   "metadata": {},
   "source": [
    "# 해설:\n",
    "\n",
    "bfs로 \n",
    "\n",
    "\n",
    "\n"
   ]
  },
  {
   "cell_type": "markdown",
   "metadata": {},
   "source": [
    "# 시간 복잡도:  \n",
    "  \n",
    "\n",
    "BFS : O(E)    \n",
    "참고로 edge 개수 E는 max 100 * 4  \n",
    "상수 n은 max 10000  \n",
    "\n",
    "총 : O(nE)"
   ]
  },
  {
   "cell_type": "markdown",
   "metadata": {},
   "source": [
    "# 다시 풀어 본 코드  "
   ]
  },
  {
   "cell_type": "code",
   "execution_count": null,
   "metadata": {},
   "outputs": [],
   "source": []
  },
  {
   "cell_type": "code",
   "execution_count": null,
   "metadata": {},
   "outputs": [],
   "source": []
  },
  {
   "cell_type": "code",
   "execution_count": null,
   "metadata": {},
   "outputs": [],
   "source": []
  },
  {
   "cell_type": "markdown",
   "metadata": {},
   "source": [
    "# 시행착오 코드: "
   ]
  },
  {
   "cell_type": "code",
   "execution_count": null,
   "metadata": {},
   "outputs": [],
   "source": []
  },
  {
   "cell_type": "code",
   "execution_count": 44,
   "metadata": {},
   "outputs": [],
   "source": [
    "#2배를 안 해주니 못 가는 길(연결 안 되어 있는데 거리는 1인 경우를 그냥 가버림.. 그래서 문제를 잘못푸는 경우가 생김... )\n",
    "from collections import deque\n",
    "def filler(x1, y1, x2, y2, plane):\n",
    "    for i in range(x1, x2+1):\n",
    "        for j in range(y1, y2+1):\n",
    "            plane[i][j] = 1\n",
    "def eightcheck(i, j, plane):#True - > removable\n",
    "    #print(\"start eightcheck\")\n",
    "    if (    0 <= i-1  and 0 <= j-1 and i+1 < 50 and j+1 < 50 ):\n",
    "        #print('{}, {}'.format(i,j))\n",
    "        if (  plane[i-1][j] + plane[i-1][j-1] + plane[i-1][j+1]  #index 오류 주의.. 한번 놓침\n",
    "            + plane[i+1][j] + plane[i+1][j-1] + plane[i+1][j+1] \n",
    "            + plane[i][j-1] + plane[i][j+1] == 8):\n",
    "            \n",
    "            return True\n",
    "    return False\n",
    "def remover(plane): #여기서 border 빼고 지워야하는데 잘못 지워짐.. 왜냐하면 겹치는 것 처럼 보이기 때문(거리 1로 떨어져 있는 경우)\n",
    "    remove_codi = []\n",
    "    for i in range(50):\n",
    "        for j in range(50):\n",
    "            if eightcheck(i,j,plane): #8방향 다 차있어야 없애도 됨\n",
    "                remove_codi.append([i,j])\n",
    "    #print(remove_codi)\n",
    "    for i,j in remove_codi:\n",
    "        plane[i][j] = 0\n",
    "\n",
    "def next_codi_finder(x, y, plane, visit_):\n",
    "    n_codi = []\n",
    "    #4 directions\n",
    "    if x-1 >= 0:#[nX-1, nY],\n",
    "        if plane[x-1][y] == 1 and visit_.get( str([x,y,x-1,y]) ) is None:\n",
    "            n_codi.append( [ x-1, y])\n",
    "            visit_[ str([x,y,x-1,y]) ], visit_[ str([x-1,y,x,y]) ]=1,1\n",
    "    if x+1 < 50: #[nX+1, nY],\n",
    "        if plane[x+1][y] == 1 and visit_.get( str([x,y,x+1,y]) ) is None:\n",
    "            n_codi.append( [ x+1, y])\n",
    "            visit_[ str([x,y,x+1,y]) ], visit_[ str([x+1,y,x,y]) ]=1,1\n",
    "    if y-1 >= 0: #[nX, nY-1], \n",
    "        if plane[1][y-1] == 1 and visit_.get( str([x,y,x,y-1]) ) is None:\n",
    "            n_codi.append( [ x, y-1])\n",
    "            visit_[ str([x,y,x,y-1]) ], visit_[ str([x,y-1,x,y]) ]=1,1\n",
    "    if y+1 < 50: #[nX, nY+1]\n",
    "        if plane[x][y+1] == 1 and visit_.get( str([x,y,x,y+1]) ) is None:\n",
    "            n_codi.append( [ x, y+1])\n",
    "            visit_[ str([x,y,x,y+1]) ], visit_[ str([x,y+1,x,y]) ]=1,1\n",
    "    \n",
    "    return n_codi\n",
    "def solution(rectangle, characterX, characterY, itemX, itemY):\n",
    "    answer = 0\n",
    "    plane = [[0] * 50 for _ in range(50) ]\n",
    "        \n",
    "    for rec in rectangle:\n",
    "        x1, y1, x2, y2 = rec\n",
    "        filler(x1, y1, x2, y2, plane)\n",
    "        \n",
    "    remover(plane)\n",
    "#     for i in range(50):\n",
    "#         print(plane[i])\n",
    "    \n",
    "    dfs_ = deque()\n",
    "    visit_ = {}\n",
    "    dfs_.append([ characterX, characterY, answer])\n",
    "    while len(dfs_) > 0:\n",
    "        print(dfs_)\n",
    "        nX, nY, nA = dfs_.popleft()\n",
    "        nA += 1\n",
    "        next_codi = next_codi_finder(nX, nY, plane, visit_)\n",
    "        for n_codi in next_codi:\n",
    "            if n_codi == [itemX, itemY]:\n",
    "                return nA\n",
    "            dfs_.append([n_codi[0], n_codi[1], nA])\n",
    "        \n",
    "    return answer"
   ]
  },
  {
   "cell_type": "code",
   "execution_count": null,
   "metadata": {},
   "outputs": [],
   "source": []
  },
  {
   "cell_type": "code",
   "execution_count": null,
   "metadata": {},
   "outputs": [],
   "source": []
  },
  {
   "cell_type": "code",
   "execution_count": null,
   "metadata": {},
   "outputs": [],
   "source": []
  },
  {
   "cell_type": "code",
   "execution_count": null,
   "metadata": {},
   "outputs": [],
   "source": []
  },
  {
   "cell_type": "code",
   "execution_count": 70,
   "metadata": {},
   "outputs": [],
   "source": [
    "\n",
    "#두배 해준 것 트라이얼 \n",
    "#2배를 안 해주니 못 가는 길(연결 안 되어 있는데 거리는 1인 경우를 그냥 가버림.. 그래서 문제를 잘못푸는 경우가 생김... )\n",
    "\n",
    "#acc 72.9, Tuesday, 220719, runtime error들이 남.. 다른 문제가 있을 듯!\n",
    "from collections import deque\n",
    "def filler(x1, y1, x2, y2, plane):\n",
    "    for i in range(x1, x2+1):\n",
    "        for j in range(y1, y2+1):\n",
    "            plane[i][j] = 1\n",
    "def eightcheck(i, j, plane):#True - > removable\n",
    "    #print(\"start eightcheck\")\n",
    "    if (    0 <= i-1  and 0 <= j-1 and i+1 < 100 and j+1 < 100 ):\n",
    "        #print('{}, {}'.format(i,j))\n",
    "        if (  plane[i-1][j] + plane[i-1][j-1] + plane[i-1][j+1]  #index 오류 주의.. 한번 놓침\n",
    "            + plane[i+1][j] + plane[i+1][j-1] + plane[i+1][j+1] \n",
    "            + plane[i][j-1] + plane[i][j+1] == 8):\n",
    "            \n",
    "            return True\n",
    "    return False\n",
    "def remover(plane): #여기서 border 빼고 지워야하는데 잘못 지워짐.. 왜냐하면 겹치는 것 처럼 보이기 때문(거리 1로 떨어져 있는 경우)\n",
    "    remove_codi = []\n",
    "    for i in range(100):\n",
    "        for j in range(100):\n",
    "            if eightcheck(i,j,plane): #8방향 다 차있어야 없애도 됨\n",
    "                remove_codi.append([i,j])\n",
    "    #print(remove_codi)\n",
    "    for i,j in remove_codi:\n",
    "        plane[i][j] = 0\n",
    "\n",
    "def next_codi_finder(x, y, plane, visit_):\n",
    "    n_codi = []\n",
    "    #4 directions\n",
    "    #print(\"in next_codi_finder : \", x, y )\n",
    "    if x-1 >= 0:#[nX-1, nY],\n",
    "        if plane[x-1][y] == 1 and visit_.get( str([x,y,x-1,y]) ) is None:\n",
    "            #print(\"1\")\n",
    "            n_codi.append( [ x-1, y])\n",
    "            visit_[ str([x,y,x-1,y]) ], visit_[ str([x-1,y,x,y]) ]=1,1\n",
    "    if x+1 < 100: #[nX+1, nY],\n",
    "        if plane[x+1][y] == 1 and visit_.get( str([x,y,x+1,y]) ) is None:\n",
    "            #print(\"2\")\n",
    "            n_codi.append( [ x+1, y])\n",
    "            visit_[ str([x,y,x+1,y]) ], visit_[ str([x+1,y,x,y]) ]=1,1\n",
    "    if y-1 >= 0: #[nX, nY-1], \n",
    "        if plane[x][y-1] == 1 and visit_.get( str([x,y,x,y-1]) ) is None: #복붙 과정에서 인덱스 잘못 써줌..왜 1로 썼지.. 무튼\n",
    "            #print(\"3\")\n",
    "            n_codi.append( [ x, y-1])\n",
    "            visit_[ str([x,y,x,y-1]) ], visit_[ str([x,y-1,x,y]) ]=1,1\n",
    "    if y+1 < 100: #[nX, nY+1]\n",
    "        if plane[x][y+1] == 1 and visit_.get( str([x,y,x,y+1]) ) is None:\n",
    "            #print(\"4\")\n",
    "            n_codi.append( [ x, y+1])\n",
    "            visit_[ str([x,y,x,y+1]) ], visit_[ str([x,y+1,x,y]) ]=1,1\n",
    "    \n",
    "    return n_codi\n",
    "def solution(rectangle, characterX, characterY, itemX, itemY):\n",
    "    answer = 0\n",
    "    plane = [[0] * 100 for _ in range(100) ]\n",
    "        \n",
    "    for rec in rectangle:\n",
    "        x1, y1, x2, y2 = rec\n",
    "        #그냥 다 두배\n",
    "        filler(x1*2, y1*2, x2*2, y2*2, plane)\n",
    "        \n",
    "    remover(plane)\n",
    "#     for i in range(50):\n",
    "#         print(plane[i])\n",
    "    \n",
    "    dfs_ = deque()\n",
    "    visit_ = {}\n",
    "    dfs_.append([ characterX*2, characterY*2, answer])\n",
    "    while len(dfs_) > 0:\n",
    "        #print(dfs_)\n",
    "        nX, nY, nA = dfs_.popleft()\n",
    "        nA += 1\n",
    "        next_codi = next_codi_finder(nX, nY, plane, visit_)\n",
    "        #print(\"next-codi ?? \",next_codi)\n",
    "        for n_codi in next_codi:\n",
    "            if n_codi == [itemX*2, itemY*2]:\n",
    "                return int(nA/2)\n",
    "            dfs_.append([n_codi[0], n_codi[1], nA])\n",
    "        \n",
    "    return answer"
   ]
  },
  {
   "cell_type": "code",
   "execution_count": 69,
   "metadata": {},
   "outputs": [
    {
     "name": "stdout",
     "output_type": "stream",
     "text": [
      "17\n"
     ]
    }
   ],
   "source": [
    "print(solution([[1,1,7,4],[3,2,5,5],[4,3,6,9],[2,6,8,8]], 1, 3, 7, 8)) #17"
   ]
  },
  {
   "cell_type": "code",
   "execution_count": null,
   "metadata": {
    "scrolled": false
   },
   "outputs": [],
   "source": []
  },
  {
   "cell_type": "code",
   "execution_count": null,
   "metadata": {},
   "outputs": [],
   "source": []
  },
  {
   "cell_type": "code",
   "execution_count": 20,
   "metadata": {},
   "outputs": [
    {
     "name": "stdout",
     "output_type": "stream",
     "text": [
      "work\n"
     ]
    }
   ],
   "source": [
    "a = -2\n",
    "if 1 < a < 4 or -3 < a < -1: print(\"work\")"
   ]
  },
  {
   "cell_type": "code",
   "execution_count": null,
   "metadata": {},
   "outputs": [],
   "source": []
  },
  {
   "cell_type": "code",
   "execution_count": null,
   "metadata": {},
   "outputs": [],
   "source": [
    "#acc100 Tuesday 220719\n",
    "#두배 해준 것 트라이얼 \n",
    "#2배를 안 해주니 못 가는 길(연결 안 되어 있는데 거리는 1인 경우를 그냥 가버림.. 그래서 문제를 잘못푸는 경우가 생김... )\n",
    "\n",
    "#acc 72.9, Tuesday, 220719, runtime error들이 남.. 다른 문제가 있을 듯!\n",
    "#런타임 에러 잡아보자  ->filler에서 에러남  \n",
    "\n",
    "#런타임 잡음! 입력 range가 50인 경우도 포함되므로 100인 경우도 포함되게 range 넓혀줌! 조건을 잘 숙지하다!\n",
    "되어 있는데 거리는 1인 경우를 그냥 가버림.. 그래서 문제를 잘못푸는 경우가 생김... )\n",
    "from collections import deque\n",
    "def filler(x1, y1, x2, y2, plane):\n",
    "    for i in range(x1, x2+1):\n",
    "        for j in range(y1, y2+1):\n",
    "            plane[i][j] = 1\n",
    "def eightcheck(i, j, plane):#True - > removable\n",
    "    #print(\"start eightcheck\")\n",
    "    if (    0 <= i-1  and 0 <= j-1 and i+1 < 101 and j+1 < 101 ):\n",
    "        #print('{}, {}'.format(i,j))\n",
    "        if (  plane[i-1][j] + plane[i-1][j-1] + plane[i-1][j+1]  #index 오류 주의.. 한번 놓침\n",
    "            + plane[i+1][j] + plane[i+1][j-1] + plane[i+1][j+1] \n",
    "            + plane[i][j-1] + plane[i][j+1] == 8):\n",
    "            \n",
    "            return True\n",
    "    return False\n",
    "def remover(plane): #여기서 border 빼고 지워야하는데 잘못 지워짐.. 왜냐하면 겹치는 것 처럼 보이기 때문(거리 1로 떨어져 있는 경우)\n",
    "    remove_codi = []\n",
    "    for i in range(101):\n",
    "        for j in range(101):\n",
    "            if eightcheck(i,j,plane): #8방향 다 차있어야 없애도 됨\n",
    "                remove_codi.append([i,j])\n",
    "    #print(remove_codi)\n",
    "    for i,j in remove_codi:\n",
    "        plane[i][j] = 0\n",
    "\n",
    "def next_codi_finder(x, y, plane, visit_):\n",
    "    n_codi = []\n",
    "    #4 directions\n",
    "    #print(\"in next_codi_finder : \", x, y )\n",
    "    if x-1 >= 0:#[nX-1, nY],\n",
    "        if plane[x-1][y] == 1 and visit_.get( str([x,y,x-1,y]) ) is None:\n",
    "            #print(\"1\")\n",
    "            n_codi.append( [ x-1, y])\n",
    "            visit_[ str([x,y,x-1,y]) ], visit_[ str([x-1,y,x,y]) ]=1,1\n",
    "    if x+1 < 101: #[nX+1, nY],\n",
    "        if plane[x+1][y] == 1 and visit_.get( str([x,y,x+1,y]) ) is None:\n",
    "            #print(\"2\")\n",
    "            n_codi.append( [ x+1, y])\n",
    "            visit_[ str([x,y,x+1,y]) ], visit_[ str([x+1,y,x,y]) ]=1,1\n",
    "    if y-1 >= 0: #[nX, nY-1], \n",
    "        if plane[x][y-1] == 1 and visit_.get( str([x,y,x,y-1]) ) is None: #복붙 과정에서 인덱스 잘못 써줌..왜 1로 썼지.. 무튼\n",
    "            #print(\"3\")\n",
    "            n_codi.append( [ x, y-1])\n",
    "            visit_[ str([x,y,x,y-1]) ], visit_[ str([x,y-1,x,y]) ]=1,1\n",
    "    if y+1 < 101: #[nX, nY+1]\n",
    "        if plane[x][y+1] == 1 and visit_.get( str([x,y,x,y+1]) ) is None:\n",
    "            #print(\"4\")\n",
    "            n_codi.append( [ x, y+1])\n",
    "            visit_[ str([x,y,x,y+1]) ], visit_[ str([x,y+1,x,y]) ]=1,1\n",
    "    \n",
    "    return n_codi\n",
    "def solution(rectangle, characterX, characterY, itemX, itemY):\n",
    "    answer = 0\n",
    "    plane = [[0] * 101 for _ in range(101) ]\n",
    "        \n",
    "    for rec in rectangle:\n",
    "        x1, y1, x2, y2 = rec\n",
    "        #그냥 다 두배\n",
    "        filler(x1*2, y1*2, x2*2, y2*2, plane)\n",
    "        \n",
    "    remover(plane)\n",
    "#     for i in range(50):\n",
    "#         print(plane[i])\n",
    "    \n",
    "    dfs_ = deque()\n",
    "    visit_ = {}\n",
    "    dfs_.append([ characterX*2, characterY*2, answer])\n",
    "    while len(dfs_) > 0:\n",
    "        #print(dfs_)\n",
    "        nX, nY, nA = dfs_.popleft()\n",
    "        nA += 1\n",
    "        next_codi = next_codi_finder(nX, nY, plane, visit_)\n",
    "        #print(\"next-codi ?? \",next_codi)\n",
    "        for n_codi in next_codi:\n",
    "            if n_codi == [itemX*2, itemY*2]:\n",
    "                return int(nA/2)\n",
    "            dfs_.append([n_codi[0], n_codi[1], nA])\n",
    "        \n",
    "    return answer"
   ]
  },
  {
   "cell_type": "code",
   "execution_count": null,
   "metadata": {},
   "outputs": [],
   "source": []
  },
  {
   "cell_type": "code",
   "execution_count": null,
   "metadata": {},
   "outputs": [],
   "source": []
  },
  {
   "cell_type": "code",
   "execution_count": null,
   "metadata": {},
   "outputs": [],
   "source": []
  },
  {
   "cell_type": "markdown",
   "metadata": {},
   "source": [
    "# Test Case  "
   ]
  },
  {
   "cell_type": "code",
   "execution_count": 78,
   "metadata": {},
   "outputs": [
    {
     "name": "stdout",
     "output_type": "stream",
     "text": [
      "6\n"
     ]
    }
   ],
   "source": [
    "print(solution(  [[1, 1, 4, 4], [2, 2, 5, 5], [3, 3, 7, 8]], 1, 1, 5, 3  ))#6"
   ]
  },
  {
   "cell_type": "code",
   "execution_count": 77,
   "metadata": {},
   "outputs": [
    {
     "name": "stdout",
     "output_type": "stream",
     "text": [
      "13\n"
     ]
    }
   ],
   "source": [
    "print(solution( [[1,1,3,7],[2,2,7,4],[4,3,6,6]] , 1 , 2, 6, 6  ))#-> 13"
   ]
  },
  {
   "cell_type": "code",
   "execution_count": null,
   "metadata": {},
   "outputs": [],
   "source": []
  },
  {
   "cell_type": "code",
   "execution_count": 71,
   "metadata": {},
   "outputs": [
    {
     "name": "stdout",
     "output_type": "stream",
     "text": [
      "8\n"
     ]
    }
   ],
   "source": [
    "print(solution([[1,1,2,6], [3,1,4,6], [0,2,5,3], [0,4,5,5]], 2, 2, 4, 4)) #8"
   ]
  },
  {
   "cell_type": "code",
   "execution_count": 73,
   "metadata": {},
   "outputs": [
    {
     "name": "stdout",
     "output_type": "stream",
     "text": [
      "26\n"
     ]
    }
   ],
   "source": [
    "print(solution( [[2, 1, 3, 9], [1, 6, 10, 8], [7, 2, 9, 10], [4, 3, 11, 4]], 2, 2, 9, 5 ))#26 "
   ]
  },
  {
   "cell_type": "code",
   "execution_count": 74,
   "metadata": {},
   "outputs": [
    {
     "name": "stdout",
     "output_type": "stream",
     "text": [
      "28\n"
     ]
    }
   ],
   "source": [
    "print(solution( [[2, 1, 3, 9], [1, 6, 10, 8], [7, 2, 9, 10], [4, 3, 11, 4]], 3, 6, 9, 8))# 28 ))"
   ]
  },
  {
   "cell_type": "code",
   "execution_count": 75,
   "metadata": {},
   "outputs": [
    {
     "name": "stdout",
     "output_type": "stream",
     "text": [
      "28\n"
     ]
    }
   ],
   "source": [
    "print(solution( [[2, 1, 3, 9], [1, 6, 10, 8], [7, 2, 9, 10], [4, 3, 11, 4]], 2, 8, 7, 3))# 28 ))"
   ]
  },
  {
   "cell_type": "code",
   "execution_count": 76,
   "metadata": {},
   "outputs": [
    {
     "name": "stdout",
     "output_type": "stream",
     "text": [
      "21\n"
     ]
    }
   ],
   "source": [
    "print(solution(  [[2, 1, 3, 9], [1, 6, 12, 8], [7, 2, 9, 10], [4, 3, 11, 5]], 2, 8, 6, 5  ))#, 21"
   ]
  },
  {
   "cell_type": "code",
   "execution_count": null,
   "metadata": {},
   "outputs": [],
   "source": []
  },
  {
   "cell_type": "code",
   "execution_count": null,
   "metadata": {},
   "outputs": [],
   "source": [
    "print(solution([[1,1,7,4],[3,2,5,5],[4,3,6,9],[2,6,8,8]], 1, 3, 7, 8)) #17"
   ]
  },
  {
   "cell_type": "code",
   "execution_count": null,
   "metadata": {},
   "outputs": [],
   "source": []
  },
  {
   "cell_type": "code",
   "execution_count": null,
   "metadata": {},
   "outputs": [],
   "source": []
  }
 ],
 "metadata": {
  "kernelspec": {
   "display_name": "Python 3 (ipykernel)",
   "language": "python",
   "name": "python3"
  },
  "language_info": {
   "codemirror_mode": {
    "name": "ipython",
    "version": 3
   },
   "file_extension": ".py",
   "mimetype": "text/x-python",
   "name": "python",
   "nbconvert_exporter": "python",
   "pygments_lexer": "ipython3",
   "version": "3.9.12"
  }
 },
 "nbformat": 4,
 "nbformat_minor": 4
}

{
 "cells": [
  {
   "cell_type": "markdown",
   "metadata": {},
   "source": [
    "## HEAP 중 더 맵게"
   ]
  },
  {
   "cell_type": "markdown",
   "metadata": {},
   "source": [
    " "
   ]
  },
  {
   "cell_type": "markdown",
   "metadata": {},
   "source": [
    "# 문제링크: https://programmers.co.kr/learn/courses/30/lessons/42626"
   ]
  },
  {
   "cell_type": "markdown",
   "metadata": {},
   "source": [
    " "
   ]
  },
  {
   "cell_type": "markdown",
   "metadata": {},
   "source": [
    "문제 읽기:  \n",
    "입력받은 scoville의 원소 중 입력 받은 K보다 작은 원소가 없어지는 최소 시행 출력  \n",
    "한번 시행마다 가장 작은 원소와 두번째로 작은 원소를 없앨 수 있는 대신  \n",
    "가장 작은 원소 값 + 2 * 두번째로 작은 원소 값을 scoville에 추가해야함  \n",
    "만들 수 없는 경우 -1 return  \n",
    "\n",
    "  \n",
    "입력값: scoville, K      \n",
    "출력값: 시행 회수    \n",
    "\n",
    "제한사항:    \n",
    "2 <= len(scoville) <= 1,000,000  \n",
    "0 <= K <= 1,000,000,000  \n",
    "0 <= element( in scoville ) <= 1,000,000  "
   ]
  },
  {
   "cell_type": "markdown",
   "metadata": {},
   "source": [
    "# 해결 코드:"
   ]
  },
  {
   "cell_type": "code",
   "execution_count": 1,
   "metadata": {},
   "outputs": [],
   "source": [
    "#2021.3.16 100%\n",
    "\n",
    "\n",
    "def solution(n, computers):\n",
    "    answer = 0\n",
    "    \n",
    "    dict_com = {}\n",
    "    \n",
    "    for i in range(n):\n",
    "        if i not in dict_com.keys():\n",
    "            #print(i)\n",
    "            \n",
    "            dict_com[i] = 'visited'\n",
    "            answer += 1\n",
    "            \n",
    "            #bfs\n",
    "            bfs_list = []\n",
    "            for j in range(n): #대칭같지만 대칭이 아니라니 진짜 장난하나\n",
    "                if computers[i][j] != 0 and j not in dict_com.keys():\n",
    "                    #print(j)\n",
    "                    \n",
    "                    dict_com[j] = 'visited'\n",
    "                    bfs_list.append(j)\n",
    "            \n",
    "            #print(bfs_list)\n",
    "            while len(bfs_list) > 0:\n",
    "                bfs_new_list = []\n",
    "                \n",
    "                for tmp in range(len(bfs_list)):\n",
    "                    nextval = bfs_list.pop()\n",
    "                    #print(\"nextval \", nextval)\n",
    "                    for n_index in range(n):\n",
    "                        #print(\"n_index candidate \", n_index)\n",
    "                        #print(\"two values are : \",computers[nextval][n_index],'  ',n_index)\n",
    "                        if computers[nextval][n_index] != 0 and n_index not in dict_com.keys():\n",
    "                            #print(n_index)\n",
    "                            \n",
    "                            dict_com[n_index] = 'visited'\n",
    "                            bfs_new_list.append(n_index)\n",
    "                bfs_list = bfs_new_list         \n",
    "             \n",
    "                \n",
    "    return answer\n",
    "\n",
    "\n"
   ]
  },
  {
   "cell_type": "markdown",
   "metadata": {},
   "source": [
    " "
   ]
  },
  {
   "cell_type": "markdown",
   "metadata": {},
   "source": [
    "# 해설:\n",
    "\n",
    "나의 풀이는 아래와 같음. 걍 bfs썼고 이미 방문한 노드의 경우 dictionary에서 체크해줌.  \n",
    "단 위의 그림 예시를 보고 대각행렬인 줄 알고 대각 위의 성분만 체크하는 함정?에 빠짐..  \n",
    "근데 이건 문제에서 좀 설명이 이상한 것 아니었나..? ㅋㅋㅋ(핑계인가..)  \n",
    "무튼,,  dict, bfs가 다 인데 index 저장해줘야하는 것이 조금 복잡할 수 있음  \n",
    "\n",
    "\n"
   ]
  },
  {
   "cell_type": "markdown",
   "metadata": {},
   "source": [
    "# 시행착오 코드: "
   ]
  },
  {
   "cell_type": "code",
   "execution_count": null,
   "metadata": {},
   "outputs": [],
   "source": []
  },
  {
   "cell_type": "code",
   "execution_count": null,
   "metadata": {},
   "outputs": [],
   "source": []
  }
 ],
 "metadata": {
  "kernelspec": {
   "display_name": "Python 3",
   "language": "python",
   "name": "python3"
  },
  "language_info": {
   "codemirror_mode": {
    "name": "ipython",
    "version": 3
   },
   "file_extension": ".py",
   "mimetype": "text/x-python",
   "name": "python",
   "nbconvert_exporter": "python",
   "pygments_lexer": "ipython3",
   "version": "3.8.3"
  }
 },
 "nbformat": 4,
 "nbformat_minor": 4
}

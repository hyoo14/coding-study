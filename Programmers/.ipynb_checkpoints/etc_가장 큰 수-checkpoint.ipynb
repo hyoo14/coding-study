{
 "cells": [
  {
   "cell_type": "markdown",
   "metadata": {},
   "source": [
    "## etc 중 가장 큰 수\n"
   ]
  },
  {
   "cell_type": "markdown",
   "metadata": {},
   "source": [
    "### sort 문제"
   ]
  },
  {
   "cell_type": "markdown",
   "metadata": {},
   "source": [
    " "
   ]
  },
  {
   "cell_type": "markdown",
   "metadata": {},
   "source": [
    "# 문제링크:   https://school.programmers.co.kr/learn/courses/30/lessons/42746"
   ]
  },
  {
   "cell_type": "markdown",
   "metadata": {},
   "source": [
    "문제 읽기:  \n"
   ]
  },
  {
   "cell_type": "markdown",
   "metadata": {},
   "source": [
    "# 해결 코드:"
   ]
  },
  {
   "cell_type": "code",
   "execution_count": 1,
   "metadata": {},
   "outputs": [],
   "source": [
    "#2023.01.24 100%\n",
    "\n",
    "#3 34 30\n",
    "# -> 34 3 30\n",
    "## 103 1034 1030\n",
    "## -> 1034 103 103\n",
    "## 103 1034 1032\n",
    "## -> 1034 1032 103\n",
    "from functools import cmp_to_key\n",
    "def cmp(num1, num2):\n",
    "    if int( str(num1) + str(num2) ) < int( str(num2) + str(num1) ):\n",
    "        return 1\n",
    "    elif int( str(num1) + str(num2) ) > int( str(num2) + str(num1) ):\n",
    "        return -1\n",
    "    else:\n",
    "        return 0   \n",
    "    \n",
    "\n",
    "def solution(numbers):\n",
    "    answer = ''\n",
    "    numbers = sorted(numbers, key=cmp_to_key(cmp) )\n",
    "    \n",
    "    #print(numbers)\n",
    "    for num in numbers:\n",
    "        answer += str(num)\n",
    "    \n",
    "    return str(int(answer))\n"
   ]
  },
  {
   "cell_type": "markdown",
   "metadata": {},
   "source": [
    " "
   ]
  },
  {
   "cell_type": "markdown",
   "metadata": {},
   "source": [
    "# 해설:\n",
    "\n",
    "\n",
    "\n",
    "\n",
    "\n"
   ]
  },
  {
   "cell_type": "markdown",
   "metadata": {},
   "source": [
    " # 시간복잡도:  \n",
    " \n",
    " \n",
    " \n",
    " 총: O(  )  "
   ]
  },
  {
   "cell_type": "markdown",
   "metadata": {},
   "source": [
    "# 시행착오 코드: "
   ]
  },
  {
   "cell_type": "code",
   "execution_count": 1,
   "metadata": {},
   "outputs": [],
   "source": [
    "# 23.01.24  (6/15)\n",
    "\n",
    "def cmp(num):\n",
    "    # 34 30 3\n",
    "    # -> 34 3 30\n",
    "    if len(str(num) ) == 1:\n",
    "        return 0\n",
    "    if int(str(num)[0]) > int(str(num)[1]):\n",
    "        return -1\n",
    "    return 1 \n",
    "    \n",
    "\n",
    "def solution(numbers):\n",
    "    answer = ''\n",
    "    \n",
    "    #print(numbers)\n",
    "    numbers = sorted(numbers, key=lambda x: (int(str(x)[0]), cmp(x), x), reverse=True)\n",
    "    #print(numbers)\n",
    "    \n",
    "    for num in numbers:\n",
    "        answer += str(num)\n",
    "    \n",
    "    \n",
    "    return answer"
   ]
  },
  {
   "cell_type": "code",
   "execution_count": null,
   "metadata": {},
   "outputs": [],
   "source": []
  },
  {
   "cell_type": "code",
   "execution_count": 8,
   "metadata": {},
   "outputs": [],
   "source": [
    "# 23.01.24  (5/15)\n",
    "from functools import cmp_to_key #내렴차순 1, 역 -1, 0은뭐지\n",
    "\n",
    "def cmp(num1, num2):\n",
    "    cmp_len = min(len(str(num1)), len(str(num2)) )\n",
    "    # [9, 5, 34, 3, 3020, 301, 30] \n",
    "    # ->  [9, 5,       34, 3, 30, 3020, 301] \n",
    "    # 3400 3000 3020 3010\n",
    "    # 첫번째 자리(앞 자리) 수가 커야함\n",
    "    num1s, num2s = str(num1), str(num2)\n",
    "    i = 0\n",
    "    while i < cmp_len:\n",
    "        if int( str(num1)[i] ) < int( str(num2)[i] ):    \n",
    "            return 1\n",
    "        elif int( str(num1)[i] ) > int( str(num2)[i] ):    \n",
    "            return -1\n",
    "        else:\n",
    "            i += 1\n",
    "    if len(num1s) == cmp_len:\n",
    "        if num2s[i-1] <= num2s[i]: \n",
    "            return 1\n",
    "        else: \n",
    "            return -1\n",
    "    else:\n",
    "        if num1s[i-1] <= num1s[i]: \n",
    "            return -1\n",
    "        else: \n",
    "            return 1\n",
    "        \n",
    "    \n",
    "    \n",
    "    \n",
    "def solution(numbers):\n",
    "    answer = ''\n",
    "    \n",
    "    #print(numbers)\n",
    "    numbers = sorted(numbers, key=cmp_to_key(cmp))\n",
    "    print(numbers)\n",
    "    \n",
    "    for num in numbers:\n",
    "        answer += str(num)\n",
    "    \n",
    "    \n",
    "    return answer"
   ]
  },
  {
   "cell_type": "code",
   "execution_count": null,
   "metadata": {},
   "outputs": [],
   "source": [
    "# 23.01.24 acc93.3(14/15)\n",
    "#3 34 30\n",
    "# -> 34 3 30\n",
    "## 103 1034 1030\n",
    "## -> 1034 103 103\n",
    "## 103 1034 1032\n",
    "## -> 1034 1032 103\n",
    "from functools import cmp_to_key\n",
    "def cmp(num1, num2):\n",
    "    if int( str(num1) + str(num2) ) < int( str(num2) + str(num1) ):\n",
    "        return 1\n",
    "    elif int( str(num1) + str(num2) ) > int( str(num2) + str(num1) ):\n",
    "        return -1\n",
    "    else:\n",
    "        return 0   \n",
    "    \n",
    "\n",
    "def solution(numbers):\n",
    "    answer = ''\n",
    "    numbers = sorted(numbers, key=cmp_to_key(cmp) )\n",
    "    \n",
    "    #print(numbers)\n",
    "    for num in numbers:\n",
    "        answer += str(num)\n",
    "    return answer"
   ]
  },
  {
   "cell_type": "code",
   "execution_count": 9,
   "metadata": {},
   "outputs": [
    {
     "name": "stdout",
     "output_type": "stream",
     "text": [
      "[9, 5, 34, 3, 301, 3002, 30]\n"
     ]
    },
    {
     "data": {
      "text/plain": [
       "'95343301300230'"
      ]
     },
     "execution_count": 9,
     "metadata": {},
     "output_type": "execute_result"
    }
   ],
   "source": [
    "solution([3, 30, 301, 3002, 34, 5, 9])"
   ]
  },
  {
   "cell_type": "code",
   "execution_count": 3,
   "metadata": {},
   "outputs": [
    {
     "data": {
      "text/plain": [
       "'12'"
      ]
     },
     "execution_count": 3,
     "metadata": {},
     "output_type": "execute_result"
    }
   ],
   "source": [
    "a = \"123\"\n",
    "\n",
    "a[:2]"
   ]
  },
  {
   "cell_type": "code",
   "execution_count": null,
   "metadata": {},
   "outputs": [],
   "source": []
  },
  {
   "cell_type": "code",
   "execution_count": null,
   "metadata": {},
   "outputs": [],
   "source": [
    "개발자를 희망하는 죠르디가 카카오에 면접을 보러 왔습니다.\n",
    "\n",
    "코로나 바이러스 감염 예방을 위해 응시자들은 거리를 둬서 대기를 해야하는데 개발 직군 면접인 만큼\n",
    "아래와 같은 규칙으로 대기실에 거리를 두고 앉도록 안내하고 있습니다.\n",
    "\n",
    "대기실은 5개이며, 각 대기실은 5x5 크기입니다.\n",
    "거리두기를 위하여 응시자들 끼리는 맨해튼 거리1가 2 이하로 앉지 말아 주세요.\n",
    "단 응시자가 앉아있는 자리 사이가 파티션으로 막혀"
   ]
  }
 ],
 "metadata": {
  "kernelspec": {
   "display_name": "Python 3 (ipykernel)",
   "language": "python",
   "name": "python3"
  },
  "language_info": {
   "codemirror_mode": {
    "name": "ipython",
    "version": 3
   },
   "file_extension": ".py",
   "mimetype": "text/x-python",
   "name": "python",
   "nbconvert_exporter": "python",
   "pygments_lexer": "ipython3",
   "version": "3.9.12"
  }
 },
 "nbformat": 4,
 "nbformat_minor": 4
}

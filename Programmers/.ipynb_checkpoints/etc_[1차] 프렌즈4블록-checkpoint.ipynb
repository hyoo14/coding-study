{
 "cells": [
  {
   "cell_type": "markdown",
   "metadata": {},
   "source": [
    "## etc 중 [1차] 프렌즈4블록"
   ]
  },
  {
   "cell_type": "markdown",
   "metadata": {},
   "source": [
    " "
   ]
  },
  {
   "cell_type": "markdown",
   "metadata": {},
   "source": [
    "# 문제링크: https://school.programmers.co.kr/learn/courses/30/lessons/17679?language=python3"
   ]
  },
  {
   "cell_type": "markdown",
   "metadata": {},
   "source": [
    " "
   ]
  },
  {
   "cell_type": "markdown",
   "metadata": {},
   "source": [
    "문제 읽기:  \n"
   ]
  },
  {
   "cell_type": "markdown",
   "metadata": {},
   "source": [
    "# 해결 코드:"
   ]
  },
  {
   "cell_type": "code",
   "execution_count": 1,
   "metadata": {},
   "outputs": [],
   "source": [
    "#2023.01.20 100%\n",
    "\n",
    "def solution(m, n, board):\n",
    "    answer = 0\n",
    "    board_mat = []\n",
    "    for row in board:\n",
    "        mat = []\n",
    "        for col in row:\n",
    "            mat.append(col)\n",
    "        board_mat.append(mat)\n",
    "    \n",
    "    while True:\n",
    "        remove_idx = {}\n",
    "        board = board_mat\n",
    "        for i in range(m-1):\n",
    "            for j in range(n-1):\n",
    "                if (board[i][j] != -1 and board[i][j] == board[i][j+1] and\n",
    "                   board[i][j+1] == board[i+1][j] and board[i+1][j] == board[i+1][j+1] ):\n",
    "                    remove_idx[str([i,j])]=[i,j]\n",
    "                    remove_idx[str([i,j+1])]=[i,j+1]\n",
    "                    remove_idx[str([i+1,j])]=[i+1,j]\n",
    "                    remove_idx[str([i+1,j+1])]=[i+1,j+1]\n",
    "        #remove mark\n",
    "        #print(remove_idx)\n",
    "        if len(remove_idx.keys()) == 0: break\n",
    "        for key in remove_idx.keys():\n",
    "            #print( remove_idx[key] )\n",
    "            board_mat[ remove_idx[key][0] ][ remove_idx[key][1] ] = -1\n",
    "            answer += 1\n",
    "        #print(board)\n",
    "        \n",
    "        \n",
    "        #remove\n",
    "        \n",
    "        #print(board_mat)\n",
    "        for i in range( m-1, 0, -1 ):\n",
    "            for x in range(m):\n",
    "                for j in range(n):\n",
    "\n",
    "                    if board_mat[i][j] == -1:\n",
    "                        #print(\"i, j are : \", i, j)\n",
    "                        for k in range(i, 0, -1):\n",
    "                            board_mat[k][j] = board_mat[k-1][j]\n",
    "                            #print('k is : ', k)\n",
    "                        board_mat[0][j] = -1\n",
    "            \n",
    "                    \n",
    "                    # tmp = board_mat[i][j] #swap\n",
    "                    # board_mat[i][j] = board_mat[i-1][j]\n",
    "                    # board_mat[i-1][j] = tmp\n",
    "        #print(\"after\")\n",
    "        #print(board_mat)\n",
    "        \n",
    "    \n",
    "    #print(board_mat)\n",
    "    #print(remove_idx)\n",
    "    return answer\n",
    "\n"
   ]
  },
  {
   "cell_type": "markdown",
   "metadata": {},
   "source": [
    " "
   ]
  },
  {
   "cell_type": "markdown",
   "metadata": {},
   "source": [
    "# 해설:\n",
    "\n",
    "\n",
    "\n",
    "\n",
    "\n"
   ]
  },
  {
   "cell_type": "markdown",
   "metadata": {},
   "source": [
    " # 시간복잡도:  \n",
    " \n",
    " \n",
    " \n",
    " 총: O(N  )  "
   ]
  },
  {
   "cell_type": "markdown",
   "metadata": {},
   "source": [
    "# 시행착오 코드: "
   ]
  },
  {
   "cell_type": "code",
   "execution_count": 1,
   "metadata": {},
   "outputs": [],
   "source": [
    "# 230120 acc 90.9% (10/11)\n",
    "\n",
    "def solution(m, n, board):\n",
    "    answer = 0\n",
    "    board_mat = []\n",
    "    for row in board:\n",
    "        mat = []\n",
    "        for col in row:\n",
    "            mat.append(col)\n",
    "        board_mat.append(mat)\n",
    "    \n",
    "    while True:\n",
    "        remove_idx = {}\n",
    "        board = board_mat\n",
    "        for i in range(m-1):\n",
    "            for j in range(n-1):\n",
    "                if (board[i][j] != -1 and board[i][j] == board[i][j+1] and\n",
    "                   board[i][j+1] == board[i+1][j] and board[i+1][j] == board[i+1][j+1] ):\n",
    "                    remove_idx[str([i,j])]=[i,j]\n",
    "                    remove_idx[str([i,j+1])]=[i,j+1]\n",
    "                    remove_idx[str([i+1,j])]=[i+1,j]\n",
    "                    remove_idx[str([i+1,j+1])]=[i+1,j+1]\n",
    "        #remove mark\n",
    "        #print(remove_idx)\n",
    "        if len(remove_idx.keys()) == 0: break\n",
    "        for key in remove_idx.keys():\n",
    "            #print( remove_idx[key] )\n",
    "            board_mat[ remove_idx[key][0] ][ remove_idx[key][1] ] = -1\n",
    "            answer += 1\n",
    "        #print(board)\n",
    "        \n",
    "        \n",
    "        #remove\n",
    "        \n",
    "        #print(board_mat)\n",
    "        for i in range( m-1, 0, -1 ):\n",
    "            for x in range(4):\n",
    "                for j in range(n):\n",
    "\n",
    "                    if board_mat[i][j] == -1:\n",
    "                        #print(\"i, j are : \", i, j)\n",
    "                        for k in range(i, 0, -1):\n",
    "                            board_mat[k][j] = board_mat[k-1][j]\n",
    "                            #print('k is : ', k)\n",
    "                        board_mat[0][j] = -1\n",
    "            \n",
    "                    \n",
    "                    # tmp = board_mat[i][j] #swap\n",
    "                    # board_mat[i][j] = board_mat[i-1][j]\n",
    "                    # board_mat[i-1][j] = tmp\n",
    "        #print(\"after\")\n",
    "        #print(board_mat)\n",
    "        \n",
    "    \n",
    "    #print(board_mat)\n",
    "    #print(remove_idx)\n",
    "    return answer"
   ]
  },
  {
   "cell_type": "code",
   "execution_count": null,
   "metadata": {},
   "outputs": [],
   "source": []
  }
 ],
 "metadata": {
  "kernelspec": {
   "display_name": "Python 3 (ipykernel)",
   "language": "python",
   "name": "python3"
  },
  "language_info": {
   "codemirror_mode": {
    "name": "ipython",
    "version": 3
   },
   "file_extension": ".py",
   "mimetype": "text/x-python",
   "name": "python",
   "nbconvert_exporter": "python",
   "pygments_lexer": "ipython3",
   "version": "3.9.12"
  }
 },
 "nbformat": 4,
 "nbformat_minor": 4
}

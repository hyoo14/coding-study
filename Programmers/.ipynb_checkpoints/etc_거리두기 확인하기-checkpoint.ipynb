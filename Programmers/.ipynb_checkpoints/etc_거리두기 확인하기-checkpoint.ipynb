{
 "cells": [
  {
   "cell_type": "markdown",
   "metadata": {},
   "source": [
    "## etc 중 거리두기 확인하기  \n"
   ]
  },
  {
   "cell_type": "markdown",
   "metadata": {},
   "source": [
    "### 리스트? 문제"
   ]
  },
  {
   "cell_type": "markdown",
   "metadata": {},
   "source": [
    " "
   ]
  },
  {
   "cell_type": "markdown",
   "metadata": {},
   "source": [
    "# 문제링크:   https://school.programmers.co.kr/learn/courses/30/lessons/81302"
   ]
  },
  {
   "cell_type": "markdown",
   "metadata": {},
   "source": [
    "문제 읽기:  \n"
   ]
  },
  {
   "cell_type": "markdown",
   "metadata": {},
   "source": [
    "# 해결 코드:"
   ]
  },
  {
   "cell_type": "code",
   "execution_count": 1,
   "metadata": {},
   "outputs": [],
   "source": [
    "#2023.01.24 100%\n",
    "\n"
   ]
  },
  {
   "cell_type": "markdown",
   "metadata": {},
   "source": [
    " "
   ]
  },
  {
   "cell_type": "markdown",
   "metadata": {},
   "source": [
    "# 해설:\n",
    "\n",
    "\n",
    "\n",
    "\n",
    "\n"
   ]
  },
  {
   "cell_type": "markdown",
   "metadata": {},
   "source": [
    " # 시간복잡도:  \n",
    " \n",
    " \n",
    " \n",
    " 총: O(  )  "
   ]
  },
  {
   "cell_type": "markdown",
   "metadata": {},
   "source": [
    "# 시행착오 코드: "
   ]
  },
  {
   "cell_type": "code",
   "execution_count": null,
   "metadata": {},
   "outputs": [],
   "source": [
    "# 23.01.26 acc83.5 (26/31)\n",
    "def check_wrong(j,i,place):\n",
    "    \n",
    "    if i+1 < 5 and place[j][i+1] == 'P': return True\n",
    "    if i+2 < 5 and place[j][i+2] == 'P' and place[j][i+1] != 'X': return True\n",
    "    if j+1 < 5 and place[j+1][i] == 'P': return True\n",
    "    if j+2 < 5 and place[j+2][i] == 'P' and place[j+1][i] != 'X': return True\n",
    "    if i+1 < 5 and j+1 < 5 and place[j+1][i+1] == 'P' and (place[j][i+1] != 'X' or place[j+1][i] != 'X'): return True\n",
    "    return False\n",
    "    \n",
    "    \n",
    "    \n",
    "    return True\n",
    "    \n",
    "def check_place(place):\n",
    "    for i in range(5):\n",
    "        for j in range(5):\n",
    "            if place[j][i] == 'P' and check_wrong(j,i,place):\n",
    "                return 0\n",
    "    return 1\n",
    "\n",
    "def solution(places):\n",
    "    answer = []\n",
    "    for place in places:\n",
    "        answer.append( check_place(place) )\n",
    "    return answer"
   ]
  }
 ],
 "metadata": {
  "kernelspec": {
   "display_name": "Python 3 (ipykernel)",
   "language": "python",
   "name": "python3"
  },
  "language_info": {
   "codemirror_mode": {
    "name": "ipython",
    "version": 3
   },
   "file_extension": ".py",
   "mimetype": "text/x-python",
   "name": "python",
   "nbconvert_exporter": "python",
   "pygments_lexer": "ipython3",
   "version": "3.9.12"
  }
 },
 "nbformat": 4,
 "nbformat_minor": 4
}

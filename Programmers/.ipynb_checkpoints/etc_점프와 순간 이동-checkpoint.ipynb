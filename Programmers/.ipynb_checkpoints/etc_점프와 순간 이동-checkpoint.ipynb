{
 "cells": [
  {
   "cell_type": "markdown",
   "metadata": {},
   "source": [
    "## etc 중 점프와 순간 이동\n"
   ]
  },
  {
   "cell_type": "markdown",
   "metadata": {},
   "source": [
    " "
   ]
  },
  {
   "cell_type": "markdown",
   "metadata": {},
   "source": [
    "# 문제링크: https://school.programmers.co.kr/learn/courses/30/lessons/12980"
   ]
  },
  {
   "cell_type": "markdown",
   "metadata": {},
   "source": [
    " "
   ]
  },
  {
   "cell_type": "markdown",
   "metadata": {},
   "source": [
    "문제 읽기:  \n"
   ]
  },
  {
   "cell_type": "markdown",
   "metadata": {},
   "source": [
    "# 해결 코드:"
   ]
  },
  {
   "cell_type": "code",
   "execution_count": 1,
   "metadata": {},
   "outputs": [],
   "source": [
    "#2023.01.21 100%\n",
    "\n",
    "\n",
    "def dp(n, ans):\n",
    "    if n == 1:\n",
    "        return ans + 1\n",
    "    \n",
    "    \n",
    "    if n % 2 != 0:\n",
    "        return dp(n-1, ans+1)\n",
    "    else:\n",
    "        return dp(int(n/2), ans) # 그냥 인트 씌웠더니 됨.. float type이라 연산이 더 오래 걸린건가? 오묘하구먼\n",
    "        \n",
    "    \n",
    "def solution(n):\n",
    "    ans = 0\n",
    "    \n",
    "    # [실행] 버튼을 누르면 출력 값을 볼 수 있습니다.\n",
    "    #print('Hello Python')\n",
    "    \n",
    "    \n",
    "    # 5 = 0 -> 1(+1) -> 2 -> 4 -> 5(+1)\n",
    "    # 6 = 0 -> 1(+1) -> 2 -> 3(+1) -> 6\n",
    "    \n",
    "    #5000 = 0 -> 1(+1) -> 2->4->8-> 1024*4 = 4096\n",
    "    #5000 -> 2500 -> 1250 -> 625 -> 624(-1) -> 312 -> 156 -> 78 -> 39 -> 38(-1) -> 17\n",
    "    return dp(n, ans)\n",
    "    \n",
    "\n",
    "    return ans\n"
   ]
  },
  {
   "cell_type": "markdown",
   "metadata": {},
   "source": [
    " "
   ]
  },
  {
   "cell_type": "markdown",
   "metadata": {},
   "source": [
    "# 해설:\n",
    "\n",
    "\n",
    "\n",
    "\n",
    "\n"
   ]
  },
  {
   "cell_type": "markdown",
   "metadata": {},
   "source": [
    " # 시간복잡도:  \n",
    " \n",
    " \n",
    " \n",
    " 총: O(N  )  "
   ]
  },
  {
   "cell_type": "markdown",
   "metadata": {},
   "source": [
    "# 시행착오 코드: "
   ]
  },
  {
   "cell_type": "code",
   "execution_count": 1,
   "metadata": {},
   "outputs": [],
   "source": [
    "# 230119 acc 84.0% (without time compleity: 18/18, considering time complexity: 6/10, total : 24/28)\n",
    "\n",
    "def backtrack(n, ans):\n",
    "    if n % 2 != 0:\n",
    "        n -= 1\n",
    "        ans += 1\n",
    "    else:\n",
    "        while True:\n",
    "            n /= 2\n",
    "            if n % 2 != 0: break\n",
    "    return n, ans\n",
    "        \n",
    "    \n",
    "def solution(n):\n",
    "    ans = 0\n",
    "    \n",
    "    # [실행] 버튼을 누르면 출력 값을 볼 수 있습니다.\n",
    "    #print('Hello Python')\n",
    "    while True:\n",
    "        n, ans = backtrack(n, ans)\n",
    "        if n == 0: break\n",
    "    \n",
    "    # 5 = 0 -> 1(+1) -> 2 -> 4 -> 5(+1)\n",
    "    # 6 = 0 -> 1(+1) -> 2 -> 3(+1) -> 6\n",
    "    \n",
    "    #5000 = 0 -> 1(+1) -> 2->4->8-> 1024*4 = 4096\n",
    "    #5000 -> 2500 -> 1250 -> 625 -> 624(-1) -> 312 -> 156 -> 78 -> 39 -> 38(-1) -> 17\n",
    "    \n",
    "    \n",
    "\n",
    "    return ans"
   ]
  },
  {
   "cell_type": "code",
   "execution_count": 2,
   "metadata": {},
   "outputs": [],
   "source": [
    "# dp trial - not success\n",
    "# 230120 acc 88.0% (without time compleity: 18/18, considering time complexity: 7/10, total : 25/28)\n",
    "\n",
    "def dp(n, ans):\n",
    "    if n == 1:\n",
    "        return ans + 1\n",
    "    \n",
    "    \n",
    "    if n % 2 != 0:\n",
    "        return dp(n-1, ans+1)\n",
    "    else:\n",
    "#         if n & (n-1) == 0:  # and 연산자 썼더니 1개 빼고 다 시간초과 뜸..\n",
    "#             return ans + 1\n",
    "        # while True:\n",
    "        #     n /= 2\n",
    "        #     if n % 2 != 0: break\n",
    "        return dp(n/2, ans)\n",
    "        \n",
    "    \n",
    "def solution(n):\n",
    "    ans = 0\n",
    "    \n",
    "    # [실행] 버튼을 누르면 출력 값을 볼 수 있습니다.\n",
    "    #print('Hello Python')\n",
    "    \n",
    "    \n",
    "    # 5 = 0 -> 1(+1) -> 2 -> 4 -> 5(+1)\n",
    "    # 6 = 0 -> 1(+1) -> 2 -> 3(+1) -> 6\n",
    "    \n",
    "    #5000 = 0 -> 1(+1) -> 2->4->8-> 1024*4 = 4096\n",
    "    #5000 -> 2500 -> 1250 -> 625 -> 624(-1) -> 312 -> 156 -> 78 -> 39 -> 38(-1) -> 17\n",
    "    return dp(n, ans)\n",
    "    \n",
    "\n",
    "    return ans"
   ]
  },
  {
   "cell_type": "code",
   "execution_count": 3,
   "metadata": {},
   "outputs": [
    {
     "data": {
      "text/plain": [
       "1"
      ]
     },
     "execution_count": 3,
     "metadata": {},
     "output_type": "execute_result"
    }
   ],
   "source": [
    "solution(1)"
   ]
  },
  {
   "cell_type": "code",
   "execution_count": 7,
   "metadata": {},
   "outputs": [
    {
     "data": {
      "text/plain": [
       "13"
      ]
     },
     "execution_count": 7,
     "metadata": {},
     "output_type": "execute_result"
    }
   ],
   "source": [
    "solution(1000000000)\n"
   ]
  },
  {
   "cell_type": "code",
   "execution_count": 9,
   "metadata": {},
   "outputs": [
    {
     "name": "stdout",
     "output_type": "stream",
     "text": [
      "0\n"
     ]
    }
   ],
   "source": [
    "print( 16 & 15)"
   ]
  },
  {
   "cell_type": "code",
   "execution_count": 10,
   "metadata": {},
   "outputs": [
    {
     "name": "stdout",
     "output_type": "stream",
     "text": [
      "9\n"
     ]
    }
   ],
   "source": [
    "print( 13 & 11)"
   ]
  },
  {
   "cell_type": "code",
   "execution_count": 11,
   "metadata": {},
   "outputs": [
    {
     "name": "stdout",
     "output_type": "stream",
     "text": [
      "0\n"
     ]
    }
   ],
   "source": [
    "print( 1073741824 & 1073741823)"
   ]
  },
  {
   "cell_type": "code",
   "execution_count": 6,
   "metadata": {},
   "outputs": [
    {
     "name": "stdout",
     "output_type": "stream",
     "text": [
      "1073741824\n"
     ]
    }
   ],
   "source": [
    "print( 2**30)"
   ]
  },
  {
   "cell_type": "code",
   "execution_count": 8,
   "metadata": {},
   "outputs": [
    {
     "data": {
      "text/plain": [
       "1"
      ]
     },
     "execution_count": 8,
     "metadata": {},
     "output_type": "execute_result"
    }
   ],
   "source": [
    "solution(1073741824)"
   ]
  },
  {
   "cell_type": "code",
   "execution_count": 11,
   "metadata": {},
   "outputs": [
    {
     "data": {
      "text/plain": [
       "3"
      ]
     },
     "execution_count": 11,
     "metadata": {},
     "output_type": "execute_result"
    }
   ],
   "source": [
    "solution(107374182400)"
   ]
  },
  {
   "cell_type": "code",
   "execution_count": 9,
   "metadata": {},
   "outputs": [
    {
     "name": "stdout",
     "output_type": "stream",
     "text": [
      "1073741824\n"
     ]
    }
   ],
   "source": [
    "print(2**30)"
   ]
  },
  {
   "cell_type": "code",
   "execution_count": null,
   "metadata": {},
   "outputs": [],
   "source": []
  }
 ],
 "metadata": {
  "kernelspec": {
   "display_name": "Python 3 (ipykernel)",
   "language": "python",
   "name": "python3"
  },
  "language_info": {
   "codemirror_mode": {
    "name": "ipython",
    "version": 3
   },
   "file_extension": ".py",
   "mimetype": "text/x-python",
   "name": "python",
   "nbconvert_exporter": "python",
   "pygments_lexer": "ipython3",
   "version": "3.9.12"
  }
 },
 "nbformat": 4,
 "nbformat_minor": 4
}

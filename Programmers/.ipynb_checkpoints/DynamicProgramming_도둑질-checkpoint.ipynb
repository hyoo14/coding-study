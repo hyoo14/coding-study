{
 "cells": [
  {
   "cell_type": "markdown",
   "metadata": {},
   "source": [
    "## 다이나믹프로그래밍 중 도둑질 문제  "
   ]
  },
  {
   "cell_type": "markdown",
   "metadata": {},
   "source": [
    "  "
   ]
  },
  {
   "cell_type": "markdown",
   "metadata": {},
   "source": [
    "# 문제링크: https://programmers.co.kr/learn/courses/30/lessons/42897  "
   ]
  },
  {
   "cell_type": "markdown",
   "metadata": {},
   "source": [
    "  "
   ]
  },
  {
   "cell_type": "markdown",
   "metadata": {},
   "source": [
    "문제 읽기: 원형 배열의 원소(값:돈)들이 있을 때,  \n",
    "두 원소가 연속되지 않도록 방문할 수 있는 최대 원소 값(돈)의 합  \n",
    "  \n",
    "입력값: money        \n",
    "출력값: 연속되지 않은 최대 돈의 값    \n",
    "\n",
    "제한사항:  \n",
    "0<= m(in money) <= 1,000   \n",
    "3<= len(money) <= 1,000,000  "
   ]
  },
  {
   "cell_type": "markdown",
   "metadata": {},
   "source": [
    "# 해결 코드:"
   ]
  },
  {
   "cell_type": "code",
   "execution_count": 2,
   "metadata": {},
   "outputs": [],
   "source": [
    "#21.03.14 acc100\n",
    "\n",
    "def solution(money):\n",
    "    answer = 0    \n",
    "    length = len(money)\n",
    "    #short exception like length is 3\n",
    "    if length == 3: return max(money)\n",
    "    \n",
    "    #money1,2 -> memoization for including zero and not including zero\n",
    "    money1 = money[:] #including zero index(first one)\n",
    "    money2 = money[:] #not including zero index   \n",
    "        \n",
    "    for i in range(2, length-1):\n",
    "        max1, max2 = 0,0 \n",
    "        if i-2 >= 0: max1 = money1[i-2]\n",
    "        if i-3 >= 0: max2 = money1[i-3]\n",
    "        money1[i] += max(max1, max2)\n",
    "    \n",
    "    for i in range(3, length):\n",
    "        max1, max2 = 0,0 \n",
    "        if i-2 >= 0: max1 = money2[i-2]\n",
    "        if i-3 > 0: max2 = money2[i-3]\n",
    "        money2[i] += max(max1, max2)\n",
    "        \n",
    "        \n",
    "        \n",
    "    #print(money1)\n",
    "    return max(max(money1), max(money2))\n"
   ]
  },
  {
   "cell_type": "markdown",
   "metadata": {},
   "source": [
    "# 테스트 케이스: "
   ]
  },
  {
   "cell_type": "code",
   "execution_count": null,
   "metadata": {},
   "outputs": [],
   "source": [
    "print(solution( 4,3,[[2,2]]) ) #4\n",
    "\n",
    "print(solution( 4,3,[[2,2], [2,3], ]) ) #3"
   ]
  },
  {
   "cell_type": "markdown",
   "metadata": {},
   "source": [
    "  "
   ]
  },
  {
   "cell_type": "markdown",
   "metadata": {},
   "source": [
    "# 해설:\n",
    "\n",
    "푸는 데 오래 걸림.. 우선 근본은 같으나 못 푼 경우(70%정확도)의 코드는 아래 시행착오 첫번째것과 같음  \n",
    "memoization은 money를 사용하고 lookup을 for문으로 리니어하게 문제를 풀었음  \n",
    "이게 처음에는 top-down으로 풀려고 했는데 막막했고 이중포문이 되버려서 고민을 많이 했음.  \n",
    "그래서 결과적으로는 bottom-up형식으로 풀게됨  \n",
    "예를 들어 4번째 집의 합계액은 1번째 집 또는 2번째 집의 액수 중 큰 값을 합쳐주는 식.  \n",
    "하지만 for문 하나로 모든 케이스를 커버하려다보니 예외(첫집 방문 경우와 방문 않는 경우)를 처리해줘야할 것들이 꽤 있었음.  \n",
    "그리고 앞서 괄호 안에 상술한 예외처리 때문에 정확도가 여기선 70%에 머문 것으로 추정.  \n",
    "memo를 만들어서 첫집을 방문한 경우를 처리해줬는데 문제가 생긴 것 같음.  \n",
    "하지만 문제 케이스를 찾지는 못 했고 그냥 대중적인? 투트랙인 첫집 방문과 첫집 안방문 두 케이스로 나눠서 풀어줌.  \n",
    "역시 리니어하기에 시간복잡도 문제는 통과. 그리고 정확도도 통과.  \n",
    "  \n",
    "  \n",
    "  \n",
    "위에 푼 코드가 바로 2가지 케이스로 나눠서 푸는데 성공한 코드..  \n",
    "2 케이스로 나는 것은 힌트를 얻어서 생각하였다… 큰 힌트를 블로그에서 봄..  \n",
    "  \n",
    "  "
   ]
  },
  {
   "cell_type": "markdown",
   "metadata": {},
   "source": [
    "# 시간복잡도:  \n",
    "  \n",
    "case1 : O(N)  \n",
    "case2 : O(N)    \n",
    "\n",
    "total:  O(N)    "
   ]
  },
  {
   "cell_type": "markdown",
   "metadata": {},
   "source": [
    "# 다시 풀어본 코드:  "
   ]
  },
  {
   "cell_type": "code",
   "execution_count": null,
   "metadata": {},
   "outputs": [],
   "source": []
  },
  {
   "cell_type": "code",
   "execution_count": null,
   "metadata": {},
   "outputs": [],
   "source": []
  },
  {
   "cell_type": "markdown",
   "metadata": {},
   "source": [
    "# 시행착오 코드: "
   ]
  },
  {
   "cell_type": "code",
   "execution_count": null,
   "metadata": {},
   "outputs": [],
   "source": [
    "#2021.03.14 acc70%  \n",
    "\n",
    "def solution(money):\n",
    "    answer = 0    \n",
    "    \n",
    "    #money -> memoization1\n",
    "    \n",
    "    memo = [1] #->memoization2 for checking zero index belonging\n",
    "    \n",
    "    for i in range(1, len(money)): memo.append(0)\n",
    "        \n",
    "    if len(money) == 3: return max(money)\n",
    "         \n",
    "    #look-up\n",
    "    # index 2인 경우(0,1,2 중에) 예외처리, 2에다가 0인 경우 넣어줄지 안 넣어줄지\n",
    "    cmp1, cmp2 = money[0], 0\n",
    "    if len(money)-1 -2 > 1: cmp2 += money[-1]\n",
    "    if cmp1 > cmp2: #이 경우만 넣어줌\n",
    "        money[2] += money[0]\n",
    "        memo[2] = memo[0]\n",
    "    \n",
    "    print('money, memo check ', money, '  ', memo)\n",
    "    \n",
    "    for i in range(3, len(money)): \n",
    "        max1, max2 = 0,0\n",
    "        \n",
    "        if i == len(money)-1: #마지막 인덱스까지 도달하였을 경우\n",
    "            \n",
    "            if memo[i-2] == 0: max1 = money[i-2]\n",
    "            if memo[i-3] == 0: max2 = money[i-3]\n",
    "            money[i] += max(max1, max2)\n",
    "            \n",
    "        else: #마지막 인덱스에 도달하기 이전의 경우\n",
    "            #index0이 들어갈 경우 양자택일이 일어남,, 0일거냐 마지막일거냐..\n",
    "            max1, max2 = money[i-2], money[i-3]\n",
    "            \n",
    "            if i-3 == 0 and len(money)-1 - (i-2) > 1: max1 += money[-1] \n",
    "            #이 친구는 마지막 것이 포함되겠지 &&단, 마지막 것이 바로 옆이 아니어야함\n",
    "            \n",
    "            #money[i] += max(max1, max2)\n",
    "            if max(max1, max2) == max1: \n",
    "                money[i] += money[i-2]\n",
    "                memo[i] = memo[i-2]\n",
    "            else:\n",
    "                money[i] += money[i-3]\n",
    "                memo[i] = memo[i-3]\n",
    "            \n",
    "            \n",
    "            \"\"\"money[i] += max( money[i-2], money[i-3] )\n",
    "            memo[i] = max( memo[i-2], memo[i-3])\"\"\"\n",
    "    \n",
    "    return  max(money)\n"
   ]
  },
  {
   "cell_type": "code",
   "execution_count": null,
   "metadata": {},
   "outputs": [],
   "source": [
    "#21.03.14 acc100\n",
    "\n",
    "def solution(money):\n",
    "    answer = 0    \n",
    "    length = len(money)\n",
    "    #short exception like length is 3\n",
    "    if length == 3: return max(money)\n",
    "    \n",
    "    #money1,2 -> memoization for including zero and not including zero\n",
    "    money1 = money[:] #including zero index(first one)\n",
    "    money2 = money[:] #not including zero index   \n",
    "        \n",
    "    for i in range(2, length-1):\n",
    "        max1, max2 = 0,0 \n",
    "        if i-2 >= 0: max1 = money1[i-2]\n",
    "        if i-3 >= 0: max2 = money1[i-3]\n",
    "        money1[i] += max(max1, max2)\n",
    "    \n",
    "    for i in range(3, length):\n",
    "        max1, max2 = 0,0 \n",
    "        if i-2 >= 0: max1 = money2[i-2]\n",
    "        if i-3 > 0: max2 = money2[i-3]\n",
    "        money2[i] += max(max1, max2)\n",
    "        \n",
    "        \n",
    "        \n",
    "    #print(money1)\n",
    "    return max(max(money1), max(money2))\n"
   ]
  },
  {
   "cell_type": "code",
   "execution_count": null,
   "metadata": {},
   "outputs": [],
   "source": []
  },
  {
   "cell_type": "code",
   "execution_count": null,
   "metadata": {},
   "outputs": [],
   "source": []
  },
  {
   "cell_type": "code",
   "execution_count": null,
   "metadata": {},
   "outputs": [],
   "source": []
  },
  {
   "cell_type": "code",
   "execution_count": null,
   "metadata": {},
   "outputs": [],
   "source": []
  }
 ],
 "metadata": {
  "kernelspec": {
   "display_name": "Python 3",
   "language": "python",
   "name": "python3"
  },
  "language_info": {
   "codemirror_mode": {
    "name": "ipython",
    "version": 3
   },
   "file_extension": ".py",
   "mimetype": "text/x-python",
   "name": "python",
   "nbconvert_exporter": "python",
   "pygments_lexer": "ipython3",
   "version": "3.8.5"
  }
 },
 "nbformat": 4,
 "nbformat_minor": 4
}

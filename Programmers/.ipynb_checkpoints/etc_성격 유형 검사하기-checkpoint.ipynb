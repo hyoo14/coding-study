{
 "cells": [
  {
   "cell_type": "markdown",
   "metadata": {},
   "source": [
    "## etc 중 성격 유형 검사하기"
   ]
  },
  {
   "cell_type": "markdown",
   "metadata": {},
   "source": [
    " "
   ]
  },
  {
   "cell_type": "markdown",
   "metadata": {},
   "source": [
    "# 문제링크: https://school.programmers.co.kr/learn/courses/30/lessons/118666"
   ]
  },
  {
   "cell_type": "markdown",
   "metadata": {},
   "source": [
    " "
   ]
  },
  {
   "cell_type": "markdown",
   "metadata": {},
   "source": [
    "문제 읽기:  \n"
   ]
  },
  {
   "cell_type": "markdown",
   "metadata": {},
   "source": [
    "# 해결 코드:"
   ]
  },
  {
   "cell_type": "code",
   "execution_count": 1,
   "metadata": {},
   "outputs": [],
   "source": [
    "#2023.01.12 100%\n",
    "\n",
    "def val_return(strval, scr):\n",
    "    #1234567\n",
    "    #3210123\n",
    "    scr_num = '3210123'\n",
    "    if scr < 4: return strval[0], int(scr_num[scr-1])\n",
    "    elif scr > 4: return strval[1], int(scr_num[scr-1])\n",
    "    else: return False\n",
    "\n",
    "\n",
    "\n",
    "def bq_connection(req, val):\n",
    "    an = \"\"\n",
    "    #1\n",
    "    d, l = {}, 'RTCFJMAN' #rtcfjman'\n",
    "    for v in l: d[v] = 0\n",
    "    for i in range(len(req)):\n",
    "        val_ret = val_return(req[i], val[i])\n",
    "        if val_ret: d[ val_ret[0] ] += val_ret[1]\n",
    "    if d[l[0]] >= d[l[1]]: an += l[0]\n",
    "    else: an += l[1]\n",
    "    if d[l[2]] >= d[l[3]]: an += l[2]\n",
    "    else: an += l[3]\n",
    "    if d[l[4]] >= d[l[5]]: an += l[4]\n",
    "    else: an += l[5]\n",
    "    if d[l[6]] >= d[l[7]]: an += l[6]\n",
    "    else: an += l[7]\n",
    "\n",
    "\n",
    "    #print(an)\n",
    "\n",
    "    return an\n",
    "\n",
    "def solution(survey, choices):\n",
    "    answer = ''\n",
    "    return bq_connection(survey, choices)"
   ]
  },
  {
   "cell_type": "markdown",
   "metadata": {},
   "source": [
    " "
   ]
  },
  {
   "cell_type": "markdown",
   "metadata": {},
   "source": [
    "# 해설:\n",
    "\n",
    "\n",
    "\n",
    "\n",
    "\n"
   ]
  },
  {
   "cell_type": "markdown",
   "metadata": {},
   "source": [
    " # 시간복잡도:  \n",
    " \n",
    " \n",
    " \n",
    " 총: O(N  )  "
   ]
  },
  {
   "cell_type": "markdown",
   "metadata": {},
   "source": [
    "# 시행착오 코드: "
   ]
  },
  {
   "cell_type": "code",
   "execution_count": null,
   "metadata": {},
   "outputs": [],
   "source": []
  },
  {
   "cell_type": "code",
   "execution_count": null,
   "metadata": {},
   "outputs": [],
   "source": []
  }
 ],
 "metadata": {
  "kernelspec": {
   "display_name": "Python 3 (ipykernel)",
   "language": "python",
   "name": "python3"
  },
  "language_info": {
   "codemirror_mode": {
    "name": "ipython",
    "version": 3
   },
   "file_extension": ".py",
   "mimetype": "text/x-python",
   "name": "python",
   "nbconvert_exporter": "python",
   "pygments_lexer": "ipython3",
   "version": "3.9.12"
  }
 },
 "nbformat": 4,
 "nbformat_minor": 4
}

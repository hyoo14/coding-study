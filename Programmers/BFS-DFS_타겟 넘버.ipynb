{
 "cells": [
  {
   "cell_type": "markdown",
   "metadata": {},
   "source": [
    "## DFS/BFS 중 타겟 넘버"
   ]
  },
  {
   "cell_type": "markdown",
   "metadata": {},
   "source": [
    " "
   ]
  },
  {
   "cell_type": "markdown",
   "metadata": {},
   "source": [
    "# 문제링크: https://programmers.co.kr/learn/courses/30/lessons/43165"
   ]
  },
  {
   "cell_type": "markdown",
   "metadata": {},
   "source": [
    " "
   ]
  },
  {
   "cell_type": "markdown",
   "metadata": {},
   "source": [
    "문제 읽기: n개의 음이 아닌 정수를 순서대로 더하기나 빼서 \n",
    "타겟넘버를 만들 수 있는 경우의 수 반환\n",
    "  \n",
    "입력값: numbers, target  \n",
    "출력값: 경우의 수\n",
    "\n",
    "제한사항:  \n",
    "2<= n(=len(numbers)) <= 20\n",
    "1<= i(in numbers) <= 50\n",
    "1<= target <= 1,000"
   ]
  },
  {
   "cell_type": "markdown",
   "metadata": {},
   "source": [
    "# 해결 코드:"
   ]
  },
  {
   "cell_type": "code",
   "execution_count": 1,
   "metadata": {},
   "outputs": [],
   "source": [
    "#2021.3.15 100%\n",
    "\n",
    "\n",
    "\n",
    "def solution(numbers, target):\n",
    "    answer = 0\n",
    "    length = len(numbers)\n",
    "    bfs_list = []\n",
    "    #bfs로 해보자\n",
    "    bfs_list.append(numbers[0])\n",
    "    bfs_list.append(-1* numbers[0])\n",
    "    for i in range(1, length):\n",
    "        \n",
    "        bfs_list_length = len(bfs_list)\n",
    "        new_bfs_list = []\n",
    "        for j in range(bfs_list_length):\n",
    "            new_value = bfs_list.pop()\n",
    "            \n",
    "            new_bfs_list.append( new_value + numbers[i]) #insert로 해주어서 시간초과인 것인가? insert는 O(N)\n",
    "            new_bfs_list.append( new_value - numbers[i])\n",
    "        \n",
    "        bfs_list = new_bfs_list\n",
    "        \n",
    "        \n",
    "    \n",
    "    \n",
    "    for i in bfs_list:\n",
    "        if i == target: answer += 1\n",
    "    \n",
    "    \n",
    "    return answer\n",
    "\n"
   ]
  },
  {
   "cell_type": "markdown",
   "metadata": {},
   "source": [
    " "
   ]
  },
  {
   "cell_type": "markdown",
   "metadata": {},
   "source": [
    "# 해설:\n",
    "\n",
    "bfs로 풀었음… 메모할 점은 insert는 O(N)이다. 기억하자 정도..\n",
    "\n",
    "\n"
   ]
  },
  {
   "cell_type": "markdown",
   "metadata": {},
   "source": [
    "# 시간복잡도:\n",
    "\n",
    "total: O(N * 2^N)  "
   ]
  },
  {
   "cell_type": "markdown",
   "metadata": {},
   "source": [
    "# 다시 풀어 본 코드:  "
   ]
  },
  {
   "cell_type": "code",
   "execution_count": null,
   "metadata": {},
   "outputs": [],
   "source": [
    "#20220306 다시품. acc100\n",
    "def solution(numbers, target):\n",
    "    answer = 0\n",
    "    bfs_list = [numbers[0], -1*numbers[0]]\n",
    "    N = len(numbers)\n",
    "    for i in range(1, N): #O(N * 2^N) ->time complexity가 심각하네; 무튼 통과함\n",
    "        num = numbers[i]\n",
    "        new_bfs_list = []\n",
    "        #print(bfs_list)\n",
    "        while bfs_list: #O( 2^N )\n",
    "            popVal = bfs_list.pop()\n",
    "            new_bfs_list.append( popVal + num)\n",
    "            new_bfs_list.append( popVal - num)\n",
    "        bfs_list = new_bfs_list\n",
    "    for num in bfs_list:\n",
    "        if num == target:\n",
    "            answer += 1\n",
    "    return answer"
   ]
  },
  {
   "cell_type": "code",
   "execution_count": null,
   "metadata": {},
   "outputs": [],
   "source": []
  },
  {
   "cell_type": "code",
   "execution_count": null,
   "metadata": {},
   "outputs": [],
   "source": []
  },
  {
   "cell_type": "code",
   "execution_count": 2,
   "metadata": {},
   "outputs": [],
   "source": [
    "#언제 풀어 본 지는 기억이 안 나는 코드 acc100?\n",
    "def solution(numbers, target):\n",
    "    answer = 0\n",
    "    N = len(numbers)\n",
    "    bfs, bfs_len = [], 2\n",
    "    bfs.append(numbers[0])\n",
    "    bfs.append(-numbers[0])\n",
    "    \n",
    "    for i in range(1, N):\n",
    "        #print(bfs)\n",
    "        num = numbers[i]\n",
    "        new_bfs, new_bfs_len = [], 0\n",
    "        while bfs_len > 0:\n",
    "            tmp = bfs.pop()\n",
    "            bfs_len -= 1\n",
    "            new_bfs.append( tmp + num)\n",
    "            new_bfs.append( tmp - num)\n",
    "            new_bfs_len += 2\n",
    "        #print(new_bfs)\n",
    "        bfs = new_bfs\n",
    "        bfs_len = new_bfs_len\n",
    "    \n",
    "    for num in bfs:\n",
    "        if num == target: answer += 1\n",
    "            \n",
    "            \n",
    "    \n",
    "    \n",
    "    \n",
    "    return answer"
   ]
  },
  {
   "cell_type": "markdown",
   "metadata": {},
   "source": [
    "다시 풀어 본 두 코드 모두 근본적으로는 같음  \n",
    "bfs로 케이스 다 가보는 것.  \n",
    "이를 위해 bfs다 pop하여 새 value 만들어 보고 모두 새 bfs에 넣어줌  \n",
    "이 과정을 반복  "
   ]
  },
  {
   "cell_type": "markdown",
   "metadata": {},
   "source": [
    "# 시행착오 코드: "
   ]
  },
  {
   "cell_type": "code",
   "execution_count": null,
   "metadata": {},
   "outputs": [],
   "source": []
  },
  {
   "cell_type": "code",
   "execution_count": null,
   "metadata": {},
   "outputs": [],
   "source": []
  }
 ],
 "metadata": {
  "kernelspec": {
   "display_name": "Python 3 (ipykernel)",
   "language": "python",
   "name": "python3"
  },
  "language_info": {
   "codemirror_mode": {
    "name": "ipython",
    "version": 3
   },
   "file_extension": ".py",
   "mimetype": "text/x-python",
   "name": "python",
   "nbconvert_exporter": "python",
   "pygments_lexer": "ipython3",
   "version": "3.9.7"
  }
 },
 "nbformat": 4,
 "nbformat_minor": 4
}

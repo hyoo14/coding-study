{
 "cells": [
  {
   "cell_type": "markdown",
   "metadata": {},
   "source": [
    "## DFS/BFS 중 타겟 넘버"
   ]
  },
  {
   "cell_type": "markdown",
   "metadata": {},
   "source": [
    " "
   ]
  },
  {
   "cell_type": "markdown",
   "metadata": {},
   "source": [
    "# 문제링크: https://programmers.co.kr/learn/courses/30/lessons/43165"
   ]
  },
  {
   "cell_type": "markdown",
   "metadata": {},
   "source": [
    " "
   ]
  },
  {
   "cell_type": "markdown",
   "metadata": {},
   "source": [
    "문제 읽기: n개의 음이 아닌 정수를 순서대로 더하기나 빼서 \n",
    "타겟넘버를 만들 수 있는 경우의 수 반환\n",
    "  \n",
    "입력값: numbers, target  \n",
    "출력값: 경우의 수\n",
    "\n",
    "제한사항:  \n",
    "2<= n(=len(numbers)) <= 20\n",
    "1<= i(in numbers) <= 50\n",
    "1<= target <= 1,000"
   ]
  },
  {
   "cell_type": "markdown",
   "metadata": {},
   "source": [
    "# 해결 코드:"
   ]
  },
  {
   "cell_type": "code",
   "execution_count": 1,
   "metadata": {},
   "outputs": [],
   "source": [
    "#2021.3.15 100%\n",
    "\n",
    "\n",
    "\n",
    "def solution(numbers, target):\n",
    "    answer = 0\n",
    "    length = len(numbers)\n",
    "    bfs_list = []\n",
    "    #bfs로 해보자\n",
    "    bfs_list.append(numbers[0])\n",
    "    bfs_list.append(-1* numbers[0])\n",
    "    for i in range(1, length):\n",
    "        \n",
    "        bfs_list_length = len(bfs_list)\n",
    "        new_bfs_list = []\n",
    "        for j in range(bfs_list_length):\n",
    "            new_value = bfs_list.pop()\n",
    "            \n",
    "            new_bfs_list.append( new_value + numbers[i]) #insert로 해주어서 시간초과인 것인가? insert는 O(N)\n",
    "            new_bfs_list.append( new_value - numbers[i])\n",
    "        \n",
    "        bfs_list = new_bfs_list\n",
    "        \n",
    "        \n",
    "    \n",
    "    \n",
    "    for i in bfs_list:\n",
    "        if i == target: answer += 1\n",
    "    \n",
    "    \n",
    "    return answer\n",
    "\n"
   ]
  },
  {
   "cell_type": "markdown",
   "metadata": {},
   "source": [
    " "
   ]
  },
  {
   "cell_type": "markdown",
   "metadata": {},
   "source": [
    "# 해설:\n",
    "\n",
    "bfs로 풀었음… 메모할 점은 insert는 O(N)이다. 기억하자 정도..\n",
    "\n",
    "\n"
   ]
  },
  {
   "cell_type": "markdown",
   "metadata": {},
   "source": [
    "# 시행착오 코드: "
   ]
  },
  {
   "cell_type": "code",
   "execution_count": null,
   "metadata": {},
   "outputs": [],
   "source": []
  },
  {
   "cell_type": "code",
   "execution_count": null,
   "metadata": {},
   "outputs": [],
   "source": []
  }
 ],
 "metadata": {
  "kernelspec": {
   "display_name": "Python 3",
   "language": "python",
   "name": "python3"
  },
  "language_info": {
   "codemirror_mode": {
    "name": "ipython",
    "version": 3
   },
   "file_extension": ".py",
   "mimetype": "text/x-python",
   "name": "python",
   "nbconvert_exporter": "python",
   "pygments_lexer": "ipython3",
   "version": "3.8.3"
  }
 },
 "nbformat": 4,
 "nbformat_minor": 4
}

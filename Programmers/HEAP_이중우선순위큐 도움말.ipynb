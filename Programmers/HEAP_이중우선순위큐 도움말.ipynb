{
 "cells": [
  {
   "cell_type": "markdown",
   "metadata": {},
   "source": [
    "## HEAP 중 이중우선순위큐"
   ]
  },
  {
   "cell_type": "markdown",
   "metadata": {},
   "source": [
    " "
   ]
  },
  {
   "cell_type": "markdown",
   "metadata": {},
   "source": [
    "# 문제링크: https://programmers.co.kr/learn/courses/30/lessons/42628"
   ]
  },
  {
   "cell_type": "markdown",
   "metadata": {},
   "source": [
    " "
   ]
  },
  {
   "cell_type": "markdown",
   "metadata": {},
   "source": [
    "문제 읽기:  \n",
    "operations(요구 작업들) 모두 처리 후  \n",
    "이중 우선순위 큐에 남아 있는 [최대값, 최소값] 반환  \n",
    "비어있으면 [0,0] 반환  \n",
    "  \n",
    "입력값: operations    \n",
    "출력값: 큐의 최대, 최소값      \n",
    "\n",
    "제한사항:    \n",
    "1 <= len(operations) <= 1,000,000  \n",
    "operation(in operations)는 \"명령어 데이터\" 형식  \n",
    "명령어는 아래 3가지임    \n",
    "I 숫자 - 숫자 삽입  \n",
    "D 1    - 큐에서 최대값 삭제  \n",
    "D -1   - 큐에서 최소값 삭제  \n",
    "\n"
   ]
  },
  {
   "cell_type": "markdown",
   "metadata": {},
   "source": [
    "# 해결 코드:"
   ]
  },
  {
   "cell_type": "code",
   "execution_count": 1,
   "metadata": {},
   "outputs": [],
   "source": [
    "#2020.09.02? 100%\n",
    "\n",
    "from heapq import heapify, heappush, heappop\n",
    "def maxpop(heap):\n",
    "    if len(heap) == 0: return\n",
    "    max_num = int(len(heap)/2) + 1\n",
    "    max_list = []\n",
    "    for i in range(max_num):\n",
    "        \n",
    "        if i == 0: max_list.append(heap[len(heap)-1])\n",
    "        else:\n",
    "            if int(max_list[0]) > int(heap[len(heap)-1]): max_list.append(heap[len(heap)-1])\n",
    "            else: max_list.insert(0, heap[len(heap)-1])\n",
    "        del heap[len(heap)-1]\n",
    "        #print(max_list)\n",
    "        \n",
    "    max_value = max_list[0]\n",
    "    del max_list[0]\n",
    "    \n",
    "    for i in range(len(max_list)):\n",
    "        heappush(heap, max_list[i])\n",
    "    \n",
    "    return max_value\n",
    "        \n",
    "\n",
    "def solution(operations):\n",
    "    answer = []   \n",
    "    heap_pq = []\n",
    "    \n",
    "    for ops in operations:\n",
    "        ops = ops.split(' ')\n",
    "        #print(ops, end=' ')\n",
    "        if ops[0] == 'I':\n",
    "            heappush(heap_pq, int(ops[1]))\n",
    "        elif ops[0] == 'D':\n",
    "            if ops[1] == '1':\n",
    "                maxpop(heap_pq)\n",
    "            elif ops[1] == '-1':\n",
    "                if len(heap_pq) > 0: heappop(heap_pq)\n",
    "        print(heap_pq)\n",
    "    if len(heap_pq) == 0 : return [0,0]\n",
    "    else:\n",
    "        return [maxpop(heap_pq), heappop(heap_pq)]\n",
    "    \n",
    "    \n",
    "    return answer\n",
    "\n"
   ]
  },
  {
   "cell_type": "markdown",
   "metadata": {},
   "source": [
    " "
   ]
  },
  {
   "cell_type": "markdown",
   "metadata": {},
   "source": [
    "# 해설:\n",
    "\n",
    "맥스힙, 민힙 두개를 쓸까 고민하다가  \n",
    "그냥 민힙(파이썬 내장)을 사용하며, 맥스값만 찾아서 지워주는 맥스팝을 만들었다.  \n",
    "맥스팝은 정말 간단하게, 민힙의 끝 chlid들을 뽑아서 가장 큰 애를 맥스 밸류로 리턴해주고 남은 애들은 다시 힙에 푸쉬해주는 함수이다.  \n",
    "왜냐하면 여기서 내장 힙을 사용했는데 이것이 민힙이기 때문에 끝 child들 중에는 맥스값이 있기 때문이다.  \n",
    "사실 맥스힙을 안 쓴 이유는 어떻게 내장을 사용하며 맥스힙을 구현할까 아이디어를 생각해내지 못 했기 때문이다.  \n",
    "다른 사람의 풀이를 보니 민힙의 모든 밸류에 -1을 곱해서 민히피파이하면  \n",
    "민힙을 맥스힙처럼 사용할 수 있었다.  \n",
    "두 힙을 쓸 경우 동기화에 문제가 생길 수 있는데  \n",
    "다른 사람 풀이에서는 개수를 통해 힙이 모두 비워진 경우를 세서 체크하였다.  \n",
    "이는 아래와 같다. 아 그리고 비교해줄 때 str을 int로 안 바꾸면 이상하게 비교된다.  \n",
    "heappush할 때도 주의해야한다. 타입 str과 int를!  \n",
    "\n",
    "\n",
    "\n"
   ]
  },
  {
   "cell_type": "markdown",
   "metadata": {},
   "source": [
    "  "
   ]
  },
  {
   "cell_type": "markdown",
   "metadata": {},
   "source": [
    "# 시행착오 코드: "
   ]
  },
  {
   "cell_type": "code",
   "execution_count": null,
   "metadata": {},
   "outputs": [],
   "source": []
  },
  {
   "cell_type": "code",
   "execution_count": null,
   "metadata": {},
   "outputs": [],
   "source": []
  }
 ],
 "metadata": {
  "kernelspec": {
   "display_name": "Python 3",
   "language": "python",
   "name": "python3"
  },
  "language_info": {
   "codemirror_mode": {
    "name": "ipython",
    "version": 3
   },
   "file_extension": ".py",
   "mimetype": "text/x-python",
   "name": "python",
   "nbconvert_exporter": "python",
   "pygments_lexer": "ipython3",
   "version": "3.8.3"
  }
 },
 "nbformat": 4,
 "nbformat_minor": 4
}

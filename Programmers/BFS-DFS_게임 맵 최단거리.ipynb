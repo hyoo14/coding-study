{
 "cells": [
  {
   "cell_type": "markdown",
   "metadata": {},
   "source": [
    "## DFS/BFS 중 게임 맵 최단거리  "
   ]
  },
  {
   "cell_type": "markdown",
   "metadata": {},
   "source": [
    " "
   ]
  },
  {
   "cell_type": "markdown",
   "metadata": {},
   "source": [
    "# 문제링크: https://school.programmers.co.kr/learn/courses/30/lessons/1844"
   ]
  },
  {
   "cell_type": "markdown",
   "metadata": {},
   "source": [
    " "
   ]
  },
  {
   "cell_type": "markdown",
   "metadata": {},
   "source": [
    "문제 읽기:  \n",
    "\n",
    "  \n",
    "입력값:  \n",
    "출력값:  \n",
    "\n",
    "제한사항:    \n",
    "1 <= n <= 200  "
   ]
  },
  {
   "cell_type": "markdown",
   "metadata": {},
   "source": [
    "# 해결 코드:"
   ]
  },
  {
   "cell_type": "code",
   "execution_count": 1,
   "metadata": {},
   "outputs": [],
   "source": [
    "from collections import deque\n",
    "\n",
    "#deq = deque()\n",
    "def sum_list(a,b):\n",
    "    n = len(a)\n",
    "    c = []\n",
    "    for i in range(n):\n",
    "        c.append(a[i] + b[i])\n",
    "    return c\n",
    "def check_minus(a, n, m):\n",
    "    #print(a)\n",
    "    #print(elem)\n",
    "    left, right = a\n",
    "    if left < 0 or right < 0 or left > n or right > m:\n",
    "        return False\n",
    "    return True\n",
    "def check_maps(next_coordinates, maps):\n",
    "    x, y = next_coordinates\n",
    "    #print('{},  {}'.format(x,y))\n",
    "    if maps[x][y] == 1:\n",
    "        return True\n",
    "    return False\n",
    "def check_checklist(next_coordinates, next_answer, checklist, maps):\n",
    "    next_codi1 = str(next_coordinates)    \n",
    "    #print(checklist.get(next_codi1))\n",
    "    if checklist.get(next_codi1) is None or checklist[next_codi1] > next_answer :\n",
    "        if check_maps(next_coordinates, maps):\n",
    "            \n",
    "            checklist[next_codi1] = next_answer\n",
    "            #print( next_codi1,'-->',checklist[next_codi1])\n",
    "            return True    \n",
    "    return False\n",
    "\n",
    "    \n",
    "    \n",
    "\n",
    "def solution(maps):\n",
    "    answer = 1\n",
    "    n, m = len(maps)-1, len(maps[0])-1\n",
    "    #print(n, '  ' ,m)\n",
    "    \n",
    "    start, end = [0,0], [n,m]\n",
    "    move = [ [1,0], [-1,0], [0,1], [0,-1] ] \n",
    "    \n",
    "    dfs_list = deque() #[ [start, answer] ]\n",
    "    dfs_list.append( [start, answer] )\n",
    "    visit_list = {}  #coordinates and answer are in list. answer작은건ok\n",
    "    visit_list[ str([0,0]) ] = 1\n",
    "    while len(dfs_list) > 0:\n",
    "        \n",
    "        now_coordinates, now_answer = dfs_list.popleft()\n",
    "        \n",
    "        for next_ in move:\n",
    "            next_coordinates = sum_list(now_coordinates, next_)            \n",
    "            next_answer = now_answer + 1          \n",
    "            if next_coordinates == end and check_maps(next_coordinates, maps):\n",
    "                #print(\" next_c : {}, end : {} \".format(next_coordinates,end) )\n",
    "                return next_answer\n",
    "            #print(\"--\",next_coordinates)\n",
    "            if check_minus(next_coordinates, n, m) and check_checklist(next_coordinates, next_answer, visit_list, maps):\n",
    "                dfs_list.append( [ next_coordinates, next_answer ])\n",
    "                #print(\"-- pick --\",next_coordinates, '  ',next_answer,'   ', visit_list)\n",
    "                \n",
    "    return -1\n",
    "            \n",
    "        \n",
    "    \n",
    "    \n",
    "    \n",
    "    \n",
    "    \n",
    "    #return answer"
   ]
  },
  {
   "cell_type": "code",
   "execution_count": null,
   "metadata": {},
   "outputs": [],
   "source": []
  },
  {
   "cell_type": "markdown",
   "metadata": {},
   "source": [
    " "
   ]
  },
  {
   "cell_type": "markdown",
   "metadata": {},
   "source": [
    "# 해설:\n",
    "\n",
    "bfs\n",
    "\n"
   ]
  },
  {
   "cell_type": "markdown",
   "metadata": {},
   "source": [
    "# 시간 복잡도:  \n",
    "  \n",
    "최초 엣지 탐색 : O(N^2)  \n",
    "BFS : O(N + E)  \n",
    "\n",
    "총 : O(N^2 + E)"
   ]
  },
  {
   "cell_type": "markdown",
   "metadata": {},
   "source": [
    "# 다시 풀어 본 코드  "
   ]
  },
  {
   "cell_type": "code",
   "execution_count": null,
   "metadata": {},
   "outputs": [],
   "source": []
  },
  {
   "cell_type": "markdown",
   "metadata": {},
   "source": [
    "# 시행착오 코드: "
   ]
  },
  {
   "cell_type": "code",
   "execution_count": null,
   "metadata": {},
   "outputs": [],
   "source": []
  },
  {
   "cell_type": "code",
   "execution_count": 4,
   "metadata": {},
   "outputs": [],
   "source": [
    "from collections import deque"
   ]
  },
  {
   "cell_type": "code",
   "execution_count": 5,
   "metadata": {},
   "outputs": [],
   "source": [
    "i = deque()"
   ]
  },
  {
   "cell_type": "code",
   "execution_count": 6,
   "metadata": {},
   "outputs": [
    {
     "name": "stdout",
     "output_type": "stream",
     "text": [
      "deque([0])\n"
     ]
    }
   ],
   "source": [
    "i.append(0)\n",
    "print(i)"
   ]
  },
  {
   "cell_type": "code",
   "execution_count": 7,
   "metadata": {},
   "outputs": [
    {
     "name": "stdout",
     "output_type": "stream",
     "text": [
      "1\n"
     ]
    }
   ],
   "source": [
    "print(len(i))"
   ]
  },
  {
   "cell_type": "code",
   "execution_count": 8,
   "metadata": {},
   "outputs": [
    {
     "name": "stdout",
     "output_type": "stream",
     "text": [
      "[1, 2, 3, 4]\n"
     ]
    }
   ],
   "source": [
    "a = [1,2]\n",
    "b = [3,4]\n",
    "c = a+b\n",
    "print(c)"
   ]
  },
  {
   "cell_type": "code",
   "execution_count": 9,
   "metadata": {},
   "outputs": [],
   "source": [
    "def sum_list(a,b):\n",
    "    n = len(a)\n",
    "    c = []\n",
    "    for i in range(n):\n",
    "        c.append(a[i] + b[i])\n",
    "    return c\n",
    "        "
   ]
  },
  {
   "cell_type": "code",
   "execution_count": 11,
   "metadata": {},
   "outputs": [
    {
     "name": "stdout",
     "output_type": "stream",
     "text": [
      "[4, 6]\n"
     ]
    }
   ],
   "source": [
    "c = sum_list(a,b)\n",
    "print(c)"
   ]
  },
  {
   "cell_type": "code",
   "execution_count": 12,
   "metadata": {},
   "outputs": [],
   "source": [
    "aa ={}"
   ]
  },
  {
   "cell_type": "code",
   "execution_count": 13,
   "metadata": {},
   "outputs": [],
   "source": [
    "aa['a'] = 1"
   ]
  },
  {
   "cell_type": "code",
   "execution_count": 14,
   "metadata": {},
   "outputs": [
    {
     "name": "stdout",
     "output_type": "stream",
     "text": [
      "{'a': 1}\n"
     ]
    }
   ],
   "source": [
    "print(aa)"
   ]
  },
  {
   "cell_type": "code",
   "execution_count": 15,
   "metadata": {},
   "outputs": [
    {
     "data": {
      "text/plain": [
       "1"
      ]
     },
     "execution_count": 15,
     "metadata": {},
     "output_type": "execute_result"
    }
   ],
   "source": [
    "aa.get('a')"
   ]
  },
  {
   "cell_type": "code",
   "execution_count": 16,
   "metadata": {},
   "outputs": [],
   "source": [
    "aa.get('b')"
   ]
  },
  {
   "cell_type": "code",
   "execution_count": 17,
   "metadata": {},
   "outputs": [],
   "source": [
    "if aa.get('b'):\n",
    "    print(\"work?\")"
   ]
  },
  {
   "cell_type": "code",
   "execution_count": 129,
   "metadata": {},
   "outputs": [],
   "source": []
  },
  {
   "cell_type": "code",
   "execution_count": 130,
   "metadata": {},
   "outputs": [
    {
     "name": "stdout",
     "output_type": "stream",
     "text": [
      "5\n"
     ]
    }
   ],
   "source": [
    "print( solution( [[1, 1, 1, 1, 1]] ))"
   ]
  },
  {
   "cell_type": "code",
   "execution_count": null,
   "metadata": {},
   "outputs": [],
   "source": []
  },
  {
   "cell_type": "code",
   "execution_count": null,
   "metadata": {},
   "outputs": [],
   "source": []
  },
  {
   "cell_type": "code",
   "execution_count": 110,
   "metadata": {},
   "outputs": [
    {
     "name": "stdout",
     "output_type": "stream",
     "text": [
      "11\n"
     ]
    }
   ],
   "source": [
    "print( solution([[1,0,1,1,1],[1,0,1,0,1],[1,0,1,1,1],[1,1,1,0,1],[0,0,0,0,1]]))"
   ]
  },
  {
   "cell_type": "code",
   "execution_count": 111,
   "metadata": {},
   "outputs": [
    {
     "name": "stdout",
     "output_type": "stream",
     "text": [
      "-1\n"
     ]
    }
   ],
   "source": [
    "print( solution( [[1,0,1,1,1],[1,0,1,0,1],[1,0,1,1,1],[1,1,1,0,0],[0,0,0,0,1]] ))"
   ]
  },
  {
   "cell_type": "code",
   "execution_count": 112,
   "metadata": {},
   "outputs": [
    {
     "name": "stdout",
     "output_type": "stream",
     "text": [
      "12\n"
     ]
    }
   ],
   "source": [
    "print( solution([[1,0,1,1,1],[1,0,1,0,1],[1,0,1,1,1],[1,1,1,0,1],[0,0,0,0,1],[0,0,0,0,1]]))"
   ]
  },
  {
   "cell_type": "code",
   "execution_count": 115,
   "metadata": {},
   "outputs": [
    {
     "name": "stdout",
     "output_type": "stream",
     "text": [
      "-1\n"
     ]
    }
   ],
   "source": [
    "print( solution([[1,0,1,1,1],[1,0,1,0,1],[1,0,1,1,1],[1,1,1,0,1],[0,0,0,0,1],[0,0,0,1,0]]))"
   ]
  },
  {
   "cell_type": "code",
   "execution_count": null,
   "metadata": {},
   "outputs": [],
   "source": []
  },
  {
   "cell_type": "code",
   "execution_count": null,
   "metadata": {},
   "outputs": [],
   "source": []
  },
  {
   "cell_type": "code",
   "execution_count": null,
   "metadata": {},
   "outputs": [],
   "source": []
  },
  {
   "cell_type": "code",
   "execution_count": null,
   "metadata": {},
   "outputs": [],
   "source": []
  },
  {
   "cell_type": "code",
   "execution_count": null,
   "metadata": {},
   "outputs": [],
   "source": []
  },
  {
   "cell_type": "code",
   "execution_count": null,
   "metadata": {},
   "outputs": [],
   "source": [
    "#시행착오\n",
    "from collections import deque\n",
    "\n",
    "#deq = deque()\n",
    "def sum_list(a,b):\n",
    "    n = len(a)\n",
    "    c = []\n",
    "    for i in range(n):\n",
    "        c.append(a[i] + b[i])\n",
    "    return c\n",
    "def check_minus(a):\n",
    "    #print(a)\n",
    "    #print(elem)\n",
    "    left, right = a\n",
    "    if left < 0 or right < 0 or left > 4 or right > 4:\n",
    "        return False\n",
    "    return True\n",
    "def check_maps(next_coordinates, maps):\n",
    "    x, y = next_coordinates\n",
    "    if maps[x][y] == 1:\n",
    "        return True\n",
    "    return False\n",
    "def check_checklist(next_coordinates, next_answer, checklist, maps):\n",
    "    next_codi1 = str(next_coordinates)    \n",
    "    #print(checklist.get(next_codi1))\n",
    "    if checklist.get(next_codi1) is None or checklist[next_codi1] > next_answer :\n",
    "        if check_maps(next_coordinates, maps):\n",
    "            \n",
    "            checklist[next_codi1] = next_answer\n",
    "            #print( next_codi1,'-->',checklist[next_codi1])\n",
    "            return True    \n",
    "    return False\n",
    "\n",
    "    \n",
    "    \n",
    "\n",
    "def solution(maps):\n",
    "    answer = 1\n",
    "    n, m = len(maps)-1, len(maps[0])-1\n",
    "    print(n, '  ' ,m)\n",
    "    \n",
    "    start, end = [0,0], [n,m]\n",
    "    move = [ [1,0], [-1,0], [0,1], [0,-1] ] \n",
    "    \n",
    "    dfs_list = deque() #[ [start, answer] ]\n",
    "    dfs_list.append( [start, answer] )\n",
    "    visit_list = {}  #coordinates and answer are in list. answer작은건ok\n",
    "    visit_list[ str([0,0]) ] = 1\n",
    "    while len(dfs_list) > 0:\n",
    "        \n",
    "        now_coordinates, now_answer = dfs_list.popleft()\n",
    "        \n",
    "        for next_ in move:\n",
    "            next_coordinates = sum_list(now_coordinates, next_)            \n",
    "            next_answer = now_answer + 1          \n",
    "            if next_coordinates == end and check_maps(next_coordinates, maps):\n",
    "                #print(\" next_c : {}, end : {} \".format(next_coordinates,end) )\n",
    "                return next_answer\n",
    "            #print(\"--\",next_coordinates)\n",
    "            if check_minus(next_coordinates) and check_checklist(next_coordinates, next_answer, visit_list, maps):\n",
    "                dfs_list.append( [ next_coordinates, next_answer ])\n",
    "                #print(\"-- pick --\",next_coordinates, '  ',next_answer,'   ', visit_list)\n",
    "                \n",
    "    return -1\n",
    "            \n",
    "        \n",
    "    \n",
    "    \n",
    "    \n",
    "    \n",
    "    \n",
    "    #return answer"
   ]
  },
  {
   "cell_type": "code",
   "execution_count": null,
   "metadata": {},
   "outputs": [],
   "source": []
  }
 ],
 "metadata": {
  "kernelspec": {
   "display_name": "Python 3 (ipykernel)",
   "language": "python",
   "name": "python3"
  },
  "language_info": {
   "codemirror_mode": {
    "name": "ipython",
    "version": 3
   },
   "file_extension": ".py",
   "mimetype": "text/x-python",
   "name": "python",
   "nbconvert_exporter": "python",
   "pygments_lexer": "ipython3",
   "version": "3.9.7"
  }
 },
 "nbformat": 4,
 "nbformat_minor": 4
}

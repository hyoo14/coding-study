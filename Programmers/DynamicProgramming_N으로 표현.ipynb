{
 "cells": [
  {
   "cell_type": "markdown",
   "metadata": {},
   "source": [
    "## 다이나믹프로그래밍 중 N으로 표현 문제"
   ]
  },
  {
   "cell_type": "markdown",
   "metadata": {},
   "source": []
  },
  {
   "cell_type": "markdown",
   "metadata": {},
   "source": [
    "# 문제링크: https://programmers.co.kr/learn/courses/30/lessons/42895"
   ]
  },
  {
   "cell_type": "markdown",
   "metadata": {},
   "source": []
  },
  {
   "cell_type": "markdown",
   "metadata": {},
   "source": [
    "문제 읽기: 숫자 N들과 사칙연산을 사용하여 number를 표현.  \n",
    "이 때, N을 최소한으로 사용한 경우를 찾는 것.  \n",
    "리턴값은 N의 사용횟수\n",
    "  \n",
    "입력값: N, number  \n",
    "출력값: 최소 사용횟수  \n",
    "\n",
    "제한사항:  \n",
    "1<= N <= 9  \n",
    "1<= number <= 32,000  \n",
    "사칙연산만 가능, 나누기 연산서 나머지 무시  \n",
    "최소값이 8보다 크면 -1 리턴  "
   ]
  },
  {
   "cell_type": "markdown",
   "metadata": {},
   "source": [
    "# 해결 코드:"
   ]
  },
  {
   "cell_type": "code",
   "execution_count": 1,
   "metadata": {},
   "outputs": [],
   "source": [
    "#2021.2.28 100%\n",
    "\n",
    "def solution(N, number):    #N이 재료, number가 타겟\n",
    "    mem = []    \n",
    "    mem.append({})    \n",
    "    mem[0][N] = 0      \n",
    "    \n",
    "    if N == number: return 1 #이거 예외처리 해줘야함.. 마지막 테케인듯\n",
    "    \n",
    "    for i in range(1, 8):\n",
    "        flag, dict_new = memoize( i, N, number, mem[i-1] , mem)\n",
    "        mem.append(dict_new)\n",
    "        #print(\"dict_new : \", dict_new)\n",
    "        if flag == 1: return i+1\n",
    "    \n",
    "    return -1\n",
    "\n",
    "\n",
    "\n",
    "def memoize( i,  N, number, dict_past, mem  ): #make memoization dict_list and also check up     \n",
    "    #고려 안 한 것이 하나 있다 N, NN, NNN 이거\n",
    "    #dict_past 말고 dict_past_past(더 이전 것들)의 조합도 고려해줘야함!\n",
    "    # 0인 경우 빼줘야.\n",
    "    dict_new = {}\n",
    "    flag = 0\n",
    "    #print(\"i+1 is sum  : \" , i+1)\n",
    "    \n",
    "    for idx1 in range(1,  int( (i+1) / 2  + 1) ): #range(2,2) ->none\n",
    "        idx2 = (i+1) - idx1\n",
    "        \n",
    "        #print('       idx1, ixd2         is       ', idx1, '  ', idx2)\n",
    "        if idx1 == 1:            \n",
    "            for num in dict_past.keys():\n",
    "                dict_new[num + N] = i\n",
    "                if abs(num - N) != 0 : dict_new[abs(num - N)] = i\n",
    "                dict_new[num * N] = i\n",
    "                if int(num / N) !=0 : dict_new[int(num / N)] = i\n",
    "                if int(N / num) !=0 : dict_new[int(N / num)] = i #나누기는 거꾸로 일 수도 있구나.. 이거 생각 못 함\n",
    "\n",
    "                dict_new[ int( N *    ( (10 ** (i+1) -1 ) / 9 ) )  ] = i #NN, NNN ...\n",
    "\n",
    "                if (num+N == number or abs(num-N) == number or num*N == number \n",
    "                    or int(num/N) == number or int(N/num) == number or int( N *    ( (10 ** (i+1) -1 ) / 9 ) ) == number): \n",
    "                    #print('num: ', num, ' N: ', N, ' i: ', i)\n",
    "                    flag = 1      \n",
    "                    return flag, dict_new\n",
    "            \n",
    "        else:        \n",
    "            for num1 in mem[idx1-1]:\n",
    "                for num2 in mem[idx2-1]:\n",
    "                    dict_new[num1 + num2] = i\n",
    "                    if abs(num1 - num2) != 0 : dict_new[abs( num1 - num2 )] = i\n",
    "                    dict_new[num1 * num2] = i\n",
    "                    if int(num1 / num2) !=0 :dict_new[int( num1 / num2 )] = i\n",
    "                    if int(num2 / num1) !=0 :dict_new[int( num2 / num1 )] = i #나누기 거꾸로인 경우\n",
    "\n",
    "                    if (num1 + num2 == number or abs( num1 - num2 ) == number or num1 * num2 == number \n",
    "                        or int( num1 / num2 ) == number or int( num2 / num1 ) == number):\n",
    "                        flag = 1\n",
    "                        return flag, dict_new\n",
    "\n",
    "    \n",
    "    \n",
    "    \n",
    "    return flag, dict_new\n"
   ]
  },
  {
   "cell_type": "markdown",
   "metadata": {},
   "source": []
  },
  {
   "cell_type": "markdown",
   "metadata": {},
   "source": [
    "# 해설:\n",
    "\n",
    "컨셉을 먼저 설명하자면 다음과 같다.  \n",
    "다이내믹프로그래밍의 기본인 메모이제이션과 룩업(바틈업 또는 탑다운)을 생각하여 구현하였다.  \n",
    "우선 메모이제이션에서 사칙연산과 숫자 붙이기(22, 222, 2222, 22222..같은거)(오칙연산)를 늘려주었다.  \n",
    "재료(N) 1개로 만들 수 있는 것에서 시작하여 사칙연산, 숫자 붙이기를 추가하여 재료 2개, 3개 … 로 만들 수 있는 것을 저장해 준 것이다.  \n",
    "여기서 룩업도 같이 들어가는데  \n",
    "재료 여러개로 만드는 경우 단순하게 이전 것에서 오칙연산만 해주는 것이 아니라 이전의 이전 것과 2의 조합 등도 생각해야 하는데 이 때 룩업을 사용한 것이다.  \n",
    "말이 이상해서 좀 더 자세히 설명해보면  \n",
    "숫자 5로 83을 만든다 치면 정답은 8개 인데  \n",
    "60 + 23 = (55+5) + (5*5 - (5+5)/5 )이고 이는 5가 3개인 경우와 5개인 경우의 조합인 것이다.  \n",
    "즉, 단순하게 7개인 경우에서 1개인 오칙연산을 추가하는 것으로는 찾을 수 없다.  \n",
    "그래서 룩업을 할 때 int(  i / 2 )로 만들어서 룩업 경우를 생각해주었다.  \n",
    "예를 들어 7인 경우 1,2,3 을 룩업(1은 1+6, 2는 2+5, 3은 3+4).  \n",
    "그 외에 예외 처리가 많았는데 코드에 주석을 잘 달아주었으니 참고 바란다.  \n",
    "\n",
    "\n"
   ]
  },
  {
   "cell_type": "markdown",
   "metadata": {},
   "source": [
    "# 시행착오 코드: "
   ]
  },
  {
   "cell_type": "code",
   "execution_count": null,
   "metadata": {},
   "outputs": [],
   "source": []
  },
  {
   "cell_type": "code",
   "execution_count": null,
   "metadata": {},
   "outputs": [],
   "source": []
  }
 ],
 "metadata": {
  "kernelspec": {
   "display_name": "Python 3",
   "language": "python",
   "name": "python3"
  },
  "language_info": {
   "codemirror_mode": {
    "name": "ipython",
    "version": 3
   },
   "file_extension": ".py",
   "mimetype": "text/x-python",
   "name": "python",
   "nbconvert_exporter": "python",
   "pygments_lexer": "ipython3",
   "version": "3.8.3"
  }
 },
 "nbformat": 4,
 "nbformat_minor": 4
}

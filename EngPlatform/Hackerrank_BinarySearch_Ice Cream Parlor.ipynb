{
 "cells": [
  {
   "cell_type": "markdown",
   "metadata": {},
   "source": [
    "## \"Ice Cream Parlor\" prob in Binary Search"
   ]
  },
  {
   "cell_type": "markdown",
   "metadata": {},
   "source": [
    "  "
   ]
  },
  {
   "cell_type": "markdown",
   "metadata": {},
   "source": [
    "# Problem Link: https://www.hackerrank.com/challenges/icecream-parlor/problem"
   ]
  },
  {
   "cell_type": "markdown",
   "metadata": {},
   "source": [
    "  "
   ]
  },
  {
   "cell_type": "markdown",
   "metadata": {},
   "source": [
    "Problem:   \n",
    "함수 arr의 원소 두개를 골라서 m을 만들면 됨  \n",
    "이 때 두 원소의 index+1을 반환  \n",
    "  \n",
    "Input: m, arr \n",
    "Output: m을 만드는 arr의 index(1더해줘야함)\n",
    "\n",
    "Assumptions:  \n",
    "항상 유니크한 정답이 있음"
   ]
  },
  {
   "cell_type": "markdown",
   "metadata": {},
   "source": [
    "# Solved code:"
   ]
  },
  {
   "cell_type": "code",
   "execution_count": 1,
   "metadata": {},
   "outputs": [],
   "source": [
    "#21.12.31 100% correctness100, performance100, no-timeout100\n",
    "\n",
    "def bsearch(m, arr):\n",
    "    #m인 index 찾기 #새로만든 v_and_i에 대한 index!\n",
    "    N = len(arr)\n",
    "    start = 0\n",
    "    end = N-1\n",
    "    \n",
    "    \n",
    "    while start <= end:\n",
    "        \n",
    "        mid = (start + end) // 2\n",
    "        print(\" start : %d, end : %d, mid : %d \"%(start, end, mid), \"  \",arr)\n",
    "        if arr[mid][0] == m: return mid\n",
    "        else:\n",
    "            if arr[mid][0] < m: start = mid + 1\n",
    "            else: end = mid - 1\n",
    "                \n",
    "                \n",
    "    return -1\n",
    "def bsearch_modi(m, arr):\n",
    "    #m과 같거나 1 작은 index 찾기 #새로만든 v_and_i에 대한 index!\n",
    "    N = len(arr)\n",
    "    m_original = m\n",
    "    \n",
    "    while m > 0:\n",
    "        \n",
    "        start = 0\n",
    "        end = N-1\n",
    "        \n",
    "        while start <= end:\n",
    "            mid = (start + end) // 2\n",
    "            print(\" start : %d, end : %d, mid : %d \"%(start, end, mid))\n",
    "\n",
    "            if arr[mid][0] == m: \n",
    "                if m == m_original: return arr[:mid] #i제외\n",
    "                \n",
    "                while mid + 1 < N:\n",
    "                    if arr[mid][0] == arr[mid+1][0]: mid += 1\n",
    "                    else: break\n",
    "                \n",
    "                return arr[:mid+1] #i포함\n",
    "            else:\n",
    "                print( \"what is wrong?    \",      arr[mid][0]   )\n",
    "                if arr[mid][0] < m: start = mid + 1\n",
    "                else: end = mid - 1\n",
    "        m -= 1\n",
    "    \n",
    "    return [-1]    \n",
    "\n",
    "def icecreamParlor(m, arr):\n",
    "    N = len(arr)\n",
    "    v_and_i = []\n",
    "    for i in range(N):v_and_i.append([arr[i], i] )\n",
    "    print(v_and_i)\n",
    "    v_and_i = sorted(v_and_i)\n",
    "    print(v_and_i)\n",
    "    \n",
    "    v_and_i = bsearch_modi(m, v_and_i)\n",
    "    print(v_and_i)\n",
    "    \n",
    "    for i in range(len(v_and_i)):\n",
    "        findVal = m - v_and_i[i][0]\n",
    "        j = bsearch(findVal, v_and_i[i+1:])\n",
    "        print(\"       findVal : %d,   i : %d  \"%(findVal, j) )\n",
    "        if j != -1:\n",
    "            retList = [v_and_i[i][1] +1,  v_and_i[i+1:][j][1] +1]\n",
    "            return sorted(retList)\n",
    "    \n",
    "\n",
    "    \n",
    "    \n",
    "    \n",
    "#print( icecreamParlor(4, [1, 4, 5, 3, 2]))"
   ]
  },
  {
   "cell_type": "markdown",
   "metadata": {},
   "source": [
    "# Test cases"
   ]
  },
  {
   "cell_type": "code",
   "execution_count": 1,
   "metadata": {},
   "outputs": [],
   "source": [
    "# print( icecreamParlor(4, [1, 4, 5, 3, 2])) #[1 4]\n",
    "#icecreamParlor(100, [5, 75 ,25]) # 2 3\n",
    "#icecreamParlor(200, [150,24,79,50,88,345,3] ) #1 4\n",
    "#icecreamParlor(8, [2,1,9,4,4,56,90,3]) #4 5"
   ]
  },
  {
   "cell_type": "code",
   "execution_count": null,
   "metadata": {},
   "outputs": [],
   "source": [
    "\"\"\"                    #29 46\n",
    "m=542\n",
    "ar_text = \"230 863 916 585 981 404 316 785 88 12 70 435 384 778 887 755 740 337 86 92 325 422 815 650 920 125 277 336 221 847 168 23 677 61 400 136 874 363 394 199 863 997 794 587 124 321 212 957 764 173 314 422 927 783 930 282 306 506 44 926 691 568 68 730 933 737 531 180 414 751 28 546 60 371 493 370 527 387 43 541 13 457 328 227 652 365 430 803 59 858 538 427 583 368 375 173 809 896 370 789\"\n",
    "arr = ar_text.split(\" \")\n",
    "for i in range(len(arr)): arr[i] = int(arr[i])\n",
    "icecreamParlor(m, arr)\n",
    "\"\"\""
   ]
  },
  {
   "cell_type": "code",
   "execution_count": null,
   "metadata": {},
   "outputs": [],
   "source": [
    "\"\"\"                  #11 56\n",
    "m=789\n",
    "ar_text = \"591 955 829 805 312 83 764 841 12 744 104 773 627 306 731 539 349 811 662 341 465 300 491 423 569 405 508 802 500 747 689 506 129 325 918 606 918 370 623 905 321 670 879 607 140 543 997 530 356 446 444 184 787 199 614 685 778 929 819 612 737 344 471 645 726\"\n",
    "arr = ar_text.split(\" \")\n",
    "for i in range(len(arr)): arr[i] = int(arr[i])\n",
    "icecreamParlor(m, arr)\n",
    "\"\"\""
   ]
  },
  {
   "cell_type": "code",
   "execution_count": null,
   "metadata": {},
   "outputs": [],
   "source": [
    "\"\"\"              #4 5\n",
    "m=101\n",
    "ar_text = \"722 600 905 54 47\"\n",
    "arr = ar_text.split(\" \")\n",
    "for i in range(len(arr)): arr[i] = int(arr[i])\n",
    "icecreamParlor(m, arr)\n",
    "\"\"\""
   ]
  },
  {
   "cell_type": "markdown",
   "metadata": {},
   "source": [
    " "
   ]
  },
  {
   "cell_type": "markdown",
   "metadata": {},
   "source": [
    "# Commentary:\n",
    "\n",
    "이진 탐색 두개 짜면 됨  \n",
    "하나는 m과 같거나 m 다음으로 작은 수를 찾아주는 것(index)  \n",
    "또 하나는 m과 같은 수 찾아주는 것(index)  \n",
    "위 두개를 이용해서 탐색 바운더리 좁혀주고  \n",
    "원하는 두 index를 찾음  \n",
    "\n",
    "시행착오의 경우, 같은 수가 여러개 올 수 있다는 것을 고려해야  \n",
    "그리고 최종적으로 index출력할 때 increasing order여야함  \n",
    "조건에 없는 것 같은데 sorting 땜에 조금 애먹음  \n"
   ]
  },
  {
   "cell_type": "markdown",
   "metadata": {},
   "source": [
    "  "
   ]
  },
  {
   "cell_type": "markdown",
   "metadata": {},
   "source": [
    " # Time complexity:\n",
    " \n",
    "sorting: O(NlogN)  \n",
    "1st binary search: O(NlogN)  \n",
    "2nd binary search: O(NlogN)  \n",
    "\n",
    "\n",
    "total: O(NlogN)  \n",
    " "
   ]
  },
  {
   "cell_type": "markdown",
   "metadata": {},
   "source": [
    "  "
   ]
  },
  {
   "cell_type": "markdown",
   "metadata": {},
   "source": [
    "# Re-trial code: "
   ]
  },
  {
   "cell_type": "code",
   "execution_count": null,
   "metadata": {},
   "outputs": [],
   "source": []
  },
  {
   "cell_type": "markdown",
   "metadata": {},
   "source": [
    "  "
   ]
  },
  {
   "cell_type": "markdown",
   "metadata": {},
   "source": [
    " "
   ]
  },
  {
   "cell_type": "markdown",
   "metadata": {},
   "source": [
    "# Trial code: "
   ]
  },
  {
   "cell_type": "code",
   "execution_count": 7,
   "metadata": {},
   "outputs": [],
   "source": [
    "#acc 100 21.12.31 erase korean comment\n",
    "def bsearch(m, arr):\n",
    "    #m whose index's value is. index from v_and_i\n",
    "    N = len(arr)\n",
    "    start = 0\n",
    "    end = N-1\n",
    "    \n",
    "    \n",
    "    while start <= end:\n",
    "        \n",
    "        mid = (start + end) // 2\n",
    "        #print(\" start : %d, end : %d, mid : %d \"%(start, end, mid), \"  \",arr)\n",
    "        if arr[mid][0] == m: return mid\n",
    "        else:\n",
    "            if arr[mid][0] < m: start = mid + 1\n",
    "            else: end = mid - 1\n",
    "                \n",
    "                \n",
    "    return -1\n",
    "def bsearch_modi(m, arr):\n",
    "    #m or m-1 (find index whose value is, and index is about v_and_i)\n",
    "    N = len(arr)\n",
    "    m_original = m\n",
    "    \n",
    "    while m > 0:\n",
    "        \n",
    "        start = 0\n",
    "        end = N-1\n",
    "        \n",
    "        while start <= end:\n",
    "            mid = (start + end) // 2\n",
    "            #print(\" start : %d, end : %d, mid : %d \"%(start, end, mid))\n",
    "\n",
    "            if arr[mid][0] == m: \n",
    "                if m == m_original: return arr[:mid] \n",
    "                \n",
    "                while mid + 1 < N:\n",
    "                    if arr[mid][0] == arr[mid+1][0]: mid += 1\n",
    "                    else: break\n",
    "                \n",
    "                return arr[:mid+1] \n",
    "            else:\n",
    "                if arr[mid][0] < m: start = mid + 1\n",
    "                else: end = mid - 1\n",
    "        m -= 1\n",
    "    \n",
    "    return [-1]    \n",
    "\n",
    "def icecreamParlor(m, arr):\n",
    "    N = len(arr)\n",
    "    v_and_i = []\n",
    "    for i in range(N):v_and_i.append([arr[i], i] )\n",
    "    #print(v_and_i)\n",
    "    v_and_i = sorted(v_and_i)\n",
    "    #print(v_and_i)\n",
    "    \n",
    "    v_and_i = bsearch_modi(m, v_and_i)\n",
    "    #print(v_and_i)\n",
    "    \n",
    "    for i in range(len(v_and_i)):\n",
    "        findVal = m - v_and_i[i][0]\n",
    "        j = bsearch(findVal, v_and_i[i+1:])\n",
    "        #print(\"       findVal : %d,   i : %d  \"%(findVal, j) )\n",
    "        if j != -1:\n",
    "            retList = [v_and_i[i][1] +1,  v_and_i[i+1:][j][1] +1]\n",
    "            return sorted(retList)\n",
    "    \n"
   ]
  },
  {
   "cell_type": "code",
   "execution_count": null,
   "metadata": {},
   "outputs": [],
   "source": []
  },
  {
   "cell_type": "code",
   "execution_count": null,
   "metadata": {},
   "outputs": [],
   "source": []
  },
  {
   "cell_type": "code",
   "execution_count": null,
   "metadata": {},
   "outputs": [],
   "source": [
    "\n",
    "\n"
   ]
  },
  {
   "cell_type": "code",
   "execution_count": null,
   "metadata": {},
   "outputs": [],
   "source": []
  },
  {
   "cell_type": "code",
   "execution_count": null,
   "metadata": {},
   "outputs": [],
   "source": []
  },
  {
   "cell_type": "code",
   "execution_count": null,
   "metadata": {},
   "outputs": [],
   "source": []
  },
  {
   "cell_type": "code",
   "execution_count": null,
   "metadata": {},
   "outputs": [],
   "source": []
  },
  {
   "cell_type": "code",
   "execution_count": null,
   "metadata": {},
   "outputs": [],
   "source": []
  },
  {
   "cell_type": "code",
   "execution_count": null,
   "metadata": {},
   "outputs": [],
   "source": []
  },
  {
   "cell_type": "code",
   "execution_count": null,
   "metadata": {},
   "outputs": [],
   "source": []
  },
  {
   "cell_type": "code",
   "execution_count": null,
   "metadata": {},
   "outputs": [],
   "source": []
  },
  {
   "cell_type": "code",
   "execution_count": null,
   "metadata": {},
   "outputs": [],
   "source": []
  },
  {
   "cell_type": "code",
   "execution_count": null,
   "metadata": {},
   "outputs": [],
   "source": []
  },
  {
   "cell_type": "code",
   "execution_count": null,
   "metadata": {},
   "outputs": [],
   "source": []
  },
  {
   "cell_type": "code",
   "execution_count": null,
   "metadata": {},
   "outputs": [],
   "source": []
  }
 ],
 "metadata": {
  "kernelspec": {
   "display_name": "Python 3",
   "language": "python",
   "name": "python3"
  },
  "language_info": {
   "codemirror_mode": {
    "name": "ipython",
    "version": 3
   },
   "file_extension": ".py",
   "mimetype": "text/x-python",
   "name": "python",
   "nbconvert_exporter": "python",
   "pygments_lexer": "ipython3",
   "version": "3.8.5"
  }
 },
 "nbformat": 4,
 "nbformat_minor": 4
}

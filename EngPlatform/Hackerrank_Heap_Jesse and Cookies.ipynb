{
 "cells": [
  {
   "cell_type": "markdown",
   "metadata": {},
   "source": [
    "## \"Jesse and Cookies\" prob in Heap"
   ]
  },
  {
   "cell_type": "markdown",
   "metadata": {},
   "source": [
    "  "
   ]
  },
  {
   "cell_type": "markdown",
   "metadata": {},
   "source": [
    "# Problem Link: https://www.hackerrank.com/challenges/jesse-and-cookies/problem"
   ]
  },
  {
   "cell_type": "markdown",
   "metadata": {},
   "source": [
    "  "
   ]
  },
  {
   "cell_type": "markdown",
   "metadata": {},
   "source": [
    "Problem:   \n",
    "최소 임계치 k와 수치들 A를 받아서  \n",
    "A의 가장 낮은 수치가 k 보다 낮을 경우, A의 가장 낮은 수치 + A의 두번째로 낮은 수치 * 2로 변경(두 수치는 하나의 수치가 됨)  \n",
    "위 과정을 몇번 거쳐야 모든 수치가 최소 임계치 보다 크거나 같이져야 하는지를 구하는 문제  \n",
    "  \n",
    "Input: k, A   \n",
    "Output: 수치 변경 프로세스 반복 회수  \n",
    "\n",
    "Assumptions:  \n",
    "불가능한 경우 -1  "
   ]
  },
  {
   "cell_type": "markdown",
   "metadata": {},
   "source": [
    "# Solved code:"
   ]
  },
  {
   "cell_type": "code",
   "execution_count": 1,
   "metadata": {},
   "outputs": [],
   "source": [
    "#22.01.01 100% correctness100, performance100, no-timeout100, no-runtimeError100\n",
    "\n",
    "\n",
    "import heapq\n",
    "from heapq import heappush, heappop, heapify\n",
    "def cookies(k, A):\n",
    "    # Write your code here\n",
    "    A = sorted(A)\n",
    "    answer = 0\n",
    "    heapify(A)\n",
    "    \n",
    "    #print(A)\n",
    "    \n",
    "    \n",
    "    while len(A) > 0:\n",
    "        first = heappop(A)\n",
    "        #print(first)\n",
    "        if  first >= k: return answer\n",
    "        \n",
    "        if len(A) == 0: return -1\n",
    "        \n",
    "        second = heappop(A)\n",
    "        answer += 1\n",
    "        \n",
    "        heappush(A,  first + 2 * second)\n",
    "        \n",
    "    return -1\n"
   ]
  },
  {
   "cell_type": "markdown",
   "metadata": {},
   "source": [
    "# Test cases"
   ]
  },
  {
   "cell_type": "code",
   "execution_count": 1,
   "metadata": {},
   "outputs": [],
   "source": [
    "cookies(7, [1, 2, 3, 9, 10, 12]  )"
   ]
  },
  {
   "cell_type": "code",
   "execution_count": null,
   "metadata": {},
   "outputs": [],
   "source": []
  },
  {
   "cell_type": "code",
   "execution_count": null,
   "metadata": {},
   "outputs": [],
   "source": []
  },
  {
   "cell_type": "code",
   "execution_count": null,
   "metadata": {},
   "outputs": [],
   "source": [
    "\"\"\"              #4 5\n",
    "m=101\n",
    "ar_text = \"722 600 905 54 47\"\n",
    "arr = ar_text.split(\" \")\n",
    "for i in range(len(arr)): arr[i] = int(arr[i])\n",
    "icecreamParlor(m, arr)\n",
    "\"\"\""
   ]
  },
  {
   "cell_type": "markdown",
   "metadata": {},
   "source": [
    " "
   ]
  },
  {
   "cell_type": "markdown",
   "metadata": {},
   "source": [
    "# Commentary:\n",
    "\n",
    "heapq써서 푸는 문제  \n",
    "자료구조 heap이 timecomplexity가 낮으므로..  \n",
    "근데 programmers의 스코빌 지수(매운맛 문제)와 똑같음  \n",
    "어디가 보고 만들었는지는 모르겠으나..  "
   ]
  },
  {
   "cell_type": "markdown",
   "metadata": {},
   "source": [
    "  "
   ]
  },
  {
   "cell_type": "markdown",
   "metadata": {},
   "source": [
    " # Time complexity:\n",
    " \n",
    "sorting: O(NlonN)  \n",
    "array update: O(NlogN)  \n",
    "\n",
    "total: O(NlogN)    \n",
    " "
   ]
  },
  {
   "cell_type": "markdown",
   "metadata": {},
   "source": [
    "  "
   ]
  },
  {
   "cell_type": "markdown",
   "metadata": {},
   "source": [
    "# Re-trial code: "
   ]
  },
  {
   "cell_type": "code",
   "execution_count": null,
   "metadata": {},
   "outputs": [],
   "source": []
  },
  {
   "cell_type": "markdown",
   "metadata": {},
   "source": [
    "  "
   ]
  },
  {
   "cell_type": "markdown",
   "metadata": {},
   "source": [
    " "
   ]
  },
  {
   "cell_type": "markdown",
   "metadata": {},
   "source": [
    "# Trial code: "
   ]
  },
  {
   "cell_type": "code",
   "execution_count": 13,
   "metadata": {},
   "outputs": [],
   "source": [
    "#acc 22/28 timelimit 0/28 runtimeError 6/28  22.01.01 \n",
    "import heapq\n",
    "from heapq import heappush, heappop, heapify\n",
    "def cookies(k, A):\n",
    "    # Write your code here\n",
    "    A = sorted(A)\n",
    "    answer = 0\n",
    "    heapify(A)\n",
    "    \n",
    "    #print(A)\n",
    "    \n",
    "    \n",
    "    while len(A) > 0:\n",
    "        first = heappop(A)\n",
    "        #print(first)\n",
    "        if  first >= k: return answer\n",
    "        \n",
    "        second = heappop(A)\n",
    "        answer += 1\n",
    "        \n",
    "        heappush(A,  first + 2 * second)\n",
    "        \n",
    "    return -1\n",
    "        \n",
    "        \n",
    "    \n",
    "    \n",
    "\n",
    "    "
   ]
  },
  {
   "cell_type": "code",
   "execution_count": 15,
   "metadata": {},
   "outputs": [],
   "source": [
    "#acc 28/28 timelimit 0/28 runtimeError 0/28  22.01.01 \n",
    "import heapq\n",
    "from heapq import heappush, heappop, heapify\n",
    "def cookies(k, A):\n",
    "    # Write your code here\n",
    "    A = sorted(A)\n",
    "    answer = 0\n",
    "    heapify(A)\n",
    "    \n",
    "    #print(A)\n",
    "    \n",
    "    \n",
    "    while len(A) > 0:\n",
    "        first = heappop(A)\n",
    "        #print(first)\n",
    "        if  first >= k: return answer\n",
    "        \n",
    "        if len(A) == 0: return -1\n",
    "        \n",
    "        second = heappop(A)\n",
    "        answer += 1\n",
    "        \n",
    "        heappush(A,  first + 2 * second)\n",
    "        \n",
    "    return -1\n",
    "        "
   ]
  },
  {
   "cell_type": "code",
   "execution_count": 16,
   "metadata": {},
   "outputs": [
    {
     "data": {
      "text/plain": [
       "2"
      ]
     },
     "execution_count": 16,
     "metadata": {},
     "output_type": "execute_result"
    }
   ],
   "source": [
    "cookies(7, [1, 2, 3, 9, 10, 12]  )"
   ]
  },
  {
   "cell_type": "code",
   "execution_count": 18,
   "metadata": {},
   "outputs": [],
   "source": [
    "\n"
   ]
  },
  {
   "cell_type": "code",
   "execution_count": null,
   "metadata": {},
   "outputs": [],
   "source": []
  },
  {
   "cell_type": "code",
   "execution_count": null,
   "metadata": {},
   "outputs": [],
   "source": []
  },
  {
   "cell_type": "code",
   "execution_count": null,
   "metadata": {},
   "outputs": [],
   "source": []
  },
  {
   "cell_type": "code",
   "execution_count": null,
   "metadata": {},
   "outputs": [],
   "source": []
  },
  {
   "cell_type": "code",
   "execution_count": null,
   "metadata": {},
   "outputs": [],
   "source": [
    "\n",
    "\n"
   ]
  },
  {
   "cell_type": "code",
   "execution_count": null,
   "metadata": {},
   "outputs": [],
   "source": []
  },
  {
   "cell_type": "code",
   "execution_count": null,
   "metadata": {},
   "outputs": [],
   "source": []
  },
  {
   "cell_type": "code",
   "execution_count": null,
   "metadata": {},
   "outputs": [],
   "source": []
  },
  {
   "cell_type": "code",
   "execution_count": null,
   "metadata": {},
   "outputs": [],
   "source": []
  },
  {
   "cell_type": "code",
   "execution_count": null,
   "metadata": {},
   "outputs": [],
   "source": []
  },
  {
   "cell_type": "code",
   "execution_count": null,
   "metadata": {},
   "outputs": [],
   "source": []
  },
  {
   "cell_type": "code",
   "execution_count": null,
   "metadata": {},
   "outputs": [],
   "source": []
  },
  {
   "cell_type": "code",
   "execution_count": null,
   "metadata": {},
   "outputs": [],
   "source": []
  },
  {
   "cell_type": "code",
   "execution_count": null,
   "metadata": {},
   "outputs": [],
   "source": []
  },
  {
   "cell_type": "code",
   "execution_count": null,
   "metadata": {},
   "outputs": [],
   "source": []
  },
  {
   "cell_type": "code",
   "execution_count": null,
   "metadata": {},
   "outputs": [],
   "source": []
  },
  {
   "cell_type": "code",
   "execution_count": null,
   "metadata": {},
   "outputs": [],
   "source": []
  }
 ],
 "metadata": {
  "kernelspec": {
   "display_name": "Python 3",
   "language": "python",
   "name": "python3"
  },
  "language_info": {
   "codemirror_mode": {
    "name": "ipython",
    "version": 3
   },
   "file_extension": ".py",
   "mimetype": "text/x-python",
   "name": "python",
   "nbconvert_exporter": "python",
   "pygments_lexer": "ipython3",
   "version": "3.8.3"
  }
 },
 "nbformat": 4,
 "nbformat_minor": 4
}

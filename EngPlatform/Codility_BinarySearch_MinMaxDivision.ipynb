{
 "cells": [
  {
   "cell_type": "markdown",
   "metadata": {},
   "source": [
    "## \"MinMaxDivision\" prob in Binary Search"
   ]
  },
  {
   "cell_type": "markdown",
   "metadata": {},
   "source": [
    "  "
   ]
  },
  {
   "cell_type": "markdown",
   "metadata": {},
   "source": [
    "# Problem Link: https://app.codility.com/programmers/lessons/14-binary_search_algorithm/min_max_division/"
   ]
  },
  {
   "cell_type": "markdown",
   "metadata": {},
   "source": [
    "  "
   ]
  },
  {
   "cell_type": "markdown",
   "metadata": {},
   "source": [
    "Problem: 입력받은 array A를 K개의 블록으로 나누어야함  \n",
    "블록의 크기는 0과 N 사이  \n",
    "A의 원소들은 어느 블록이던 속해있어야함  \n",
    "각 블록들은 블록에 속한 원소들의 sum값을 가짐  \n",
    "이 sum값들 중 가장 큰 값이 가장 작아지도록 하는 경우의 sum값을 리턴  \n",
    "\n",
    "  \n",
    "Input: K, M, A(len = N, A[i] <= M)  \n",
    "Output: 블록들의 sum값 중 가장 큰 값      \n",
    "\n",
    "Assumptions:  \n",
    "length of A is N  \n",
    "N, K are integers within the range [1, 100,000]  \n",
    "M is integer within the range [0, 10,000]  \n",
    "A[i] is an integer within the range [0, M]  "
   ]
  },
  {
   "cell_type": "markdown",
   "metadata": {},
   "source": [
    "# Solved code:"
   ]
  },
  {
   "cell_type": "code",
   "execution_count": null,
   "metadata": {},
   "outputs": [],
   "source": [
    "#21.12.18 100% correctness100, efficience100, no-timeout100\n",
    "\n"
   ]
  },
  {
   "cell_type": "markdown",
   "metadata": {},
   "source": [
    "# Test cases"
   ]
  },
  {
   "cell_type": "code",
   "execution_count": 31,
   "metadata": {},
   "outputs": [],
   "source": [
    "#solution(3, 5, [2,1,5,1,2,2,2])\n"
   ]
  },
  {
   "cell_type": "markdown",
   "metadata": {},
   "source": [
    " "
   ]
  },
  {
   "cell_type": "markdown",
   "metadata": {},
   "source": [
    "# Commentary:\n",
    "\n",
    "i  "
   ]
  },
  {
   "cell_type": "markdown",
   "metadata": {},
   "source": [
    "  "
   ]
  },
  {
   "cell_type": "markdown",
   "metadata": {},
   "source": [
    " # Time complexity:\n",
    " \n",
    "range sorting 시 nlog(n)  \n",
    "nail 당 binary search 하므로 mlog(n)  \n",
    "\n",
    "총: (n+m)log(n)  \n",
    " "
   ]
  },
  {
   "cell_type": "markdown",
   "metadata": {},
   "source": [
    "  "
   ]
  },
  {
   "cell_type": "markdown",
   "metadata": {},
   "source": [
    "# Re-trial code: "
   ]
  },
  {
   "cell_type": "code",
   "execution_count": null,
   "metadata": {},
   "outputs": [],
   "source": []
  },
  {
   "cell_type": "markdown",
   "metadata": {},
   "source": [
    "  "
   ]
  },
  {
   "cell_type": "markdown",
   "metadata": {},
   "source": [
    " "
   ]
  },
  {
   "cell_type": "markdown",
   "metadata": {},
   "source": [
    "# Trial code: "
   ]
  },
  {
   "cell_type": "code",
   "execution_count": 5,
   "metadata": {},
   "outputs": [],
   "source": [
    "#21.12.20 75% correctness66, performance83, no-timeout100\n",
    "\n",
    "\n",
    "def judge(mid, K, A):\n",
    "    K -= 1 #K블록일 경우 now는 처음 빼면 K-1번 더 바뀔 수 있음\n",
    "    now = 0\n",
    "    for a in A:\n",
    "        \n",
    "        print(\"     mid: %.d,  now : %.d,  a : %.d, K : %.d, \"%(mid, now,a,K))\n",
    "        \n",
    "        if now + a > mid:\n",
    "            now = a\n",
    "            K -= 1\n",
    "        else:\n",
    "            now += a\n",
    "        \n",
    "        if K < 0: return -1\n",
    "    print(\"     mid: %.d,  now : %.d,  a : %.d, K : %.d, \"%(mid, now,a,K))\n",
    "        \n",
    "    if now > mid: return -1\n",
    "    \n",
    "    return 1               \n",
    "\n",
    "\n",
    "def binary_search(K, A):\n",
    "\n",
    "    start = 0\n",
    "    end = 0\n",
    "    for a in A: end += a\n",
    "\n",
    "    while start <= end:\n",
    "        \n",
    "        mid = (start + end) // 2\n",
    "        print(\"start : %.d, end : %.d, mid : %.d \"%(start, end, mid))\n",
    "        \n",
    "        if judge(mid, K, A) == 1:\n",
    "            if mid <= 0: return mid \n",
    "            else: \n",
    "                if judge(mid-1, K, A) == -1: return mid\n",
    "                else: end = mid - 1\n",
    "            \n",
    "        else:\n",
    "            start = mid + 1\n",
    "\n",
    "\n",
    "\n",
    "def solution(K, M, A):\n",
    "    # write your code in Python 3.6\n",
    "    #pass\n",
    "\n",
    "    #    0 < large_sum <= sum of A\n",
    "    return binary_search(K, A)\n",
    "\n",
    "    \n"
   ]
  },
  {
   "cell_type": "code",
   "execution_count": null,
   "metadata": {},
   "outputs": [],
   "source": []
  },
  {
   "cell_type": "code",
   "execution_count": 14,
   "metadata": {},
   "outputs": [
    {
     "name": "stdout",
     "output_type": "stream",
     "text": [
      "start : 0, end : 10, mid : 5 \n",
      "     mid: 5,  now : 0,  a : 5, K : 9, \n",
      "     mid: 5,  now : 5,  a : 5, K : 9, \n",
      "     mid: 5,  now : 5,  a : 5, K : 8, \n",
      "     mid: 4,  now : 0,  a : 5, K : 9, \n",
      "     mid: 4,  now : 5,  a : 5, K : 8, \n",
      "     mid: 4,  now : 5,  a : 5, K : 7, \n"
     ]
    },
    {
     "data": {
      "text/plain": [
       "5"
      ]
     },
     "execution_count": 14,
     "metadata": {},
     "output_type": "execute_result"
    }
   ],
   "source": [
    "\"\"\"extreme_min_max\n",
    "maximal / minimal values✘WRONG ANSWER\n",
    "got 0 expected 10000\"\"\"\n",
    "\n",
    "solution(10, 10, [5, 5])"
   ]
  },
  {
   "cell_type": "code",
   "execution_count": null,
   "metadata": {},
   "outputs": [],
   "source": [
    "\"\"\"medium_zeros\n",
    "many zeros and 99 in the middle, length = 15,000✘WRONG ANSWER\n",
    "got 0 expected 99\"\"\""
   ]
  },
  {
   "cell_type": "code",
   "execution_count": null,
   "metadata": {},
   "outputs": [],
   "source": []
  },
  {
   "cell_type": "code",
   "execution_count": 7,
   "metadata": {},
   "outputs": [
    {
     "name": "stdout",
     "output_type": "stream",
     "text": [
      "start : 0, end : 50, mid : 25 \n",
      "     mid: 25,  now : 0,  a : 3, K : 2, \n",
      "     mid: 25,  now : 3,  a : 3, K : 2, \n",
      "     mid: 25,  now : 6,  a : 3, K : 2, \n",
      "     mid: 25,  now : 9,  a : 3, K : 2, \n",
      "     mid: 25,  now : 12,  a : 3, K : 2, \n",
      "     mid: 25,  now : 15,  a : 10, K : 2, \n",
      "     mid: 25,  now : 25,  a : 10, K : 2, \n",
      "     mid: 25,  now : 10,  a : 2, K : 1, \n",
      "     mid: 25,  now : 12,  a : 1, K : 1, \n",
      "     mid: 25,  now : 13,  a : 5, K : 1, \n",
      "     mid: 25,  now : 18,  a : 1, K : 1, \n",
      "     mid: 25,  now : 19,  a : 2, K : 1, \n",
      "     mid: 25,  now : 21,  a : 2, K : 1, \n",
      "     mid: 25,  now : 23,  a : 2, K : 1, \n",
      "     mid: 25,  now : 25,  a : 2, K : 1, \n",
      "     mid: 24,  now : 0,  a : 3, K : 2, \n",
      "     mid: 24,  now : 3,  a : 3, K : 2, \n",
      "     mid: 24,  now : 6,  a : 3, K : 2, \n",
      "     mid: 24,  now : 9,  a : 3, K : 2, \n",
      "     mid: 24,  now : 12,  a : 3, K : 2, \n",
      "     mid: 24,  now : 15,  a : 10, K : 2, \n",
      "     mid: 24,  now : 10,  a : 10, K : 1, \n",
      "     mid: 24,  now : 20,  a : 2, K : 1, \n",
      "     mid: 24,  now : 22,  a : 1, K : 1, \n",
      "     mid: 24,  now : 23,  a : 5, K : 1, \n",
      "     mid: 24,  now : 5,  a : 1, K : 0, \n",
      "     mid: 24,  now : 6,  a : 2, K : 0, \n",
      "     mid: 24,  now : 8,  a : 2, K : 0, \n",
      "     mid: 24,  now : 10,  a : 2, K : 0, \n",
      "     mid: 24,  now : 12,  a : 2, K : 0, \n",
      "start : 0, end : 24, mid : 12 \n",
      "     mid: 12,  now : 0,  a : 3, K : 2, \n",
      "     mid: 12,  now : 3,  a : 3, K : 2, \n",
      "     mid: 12,  now : 6,  a : 3, K : 2, \n",
      "     mid: 12,  now : 9,  a : 3, K : 2, \n",
      "     mid: 12,  now : 12,  a : 3, K : 2, \n",
      "     mid: 12,  now : 3,  a : 10, K : 1, \n",
      "     mid: 12,  now : 10,  a : 10, K : 0, \n",
      "start : 13, end : 24, mid : 18 \n",
      "     mid: 18,  now : 0,  a : 3, K : 2, \n",
      "     mid: 18,  now : 3,  a : 3, K : 2, \n",
      "     mid: 18,  now : 6,  a : 3, K : 2, \n",
      "     mid: 18,  now : 9,  a : 3, K : 2, \n",
      "     mid: 18,  now : 12,  a : 3, K : 2, \n",
      "     mid: 18,  now : 15,  a : 10, K : 2, \n",
      "     mid: 18,  now : 10,  a : 10, K : 1, \n",
      "     mid: 18,  now : 10,  a : 2, K : 0, \n",
      "     mid: 18,  now : 12,  a : 1, K : 0, \n",
      "     mid: 18,  now : 13,  a : 5, K : 0, \n",
      "     mid: 18,  now : 18,  a : 1, K : 0, \n",
      "start : 19, end : 24, mid : 21 \n",
      "     mid: 21,  now : 0,  a : 3, K : 2, \n",
      "     mid: 21,  now : 3,  a : 3, K : 2, \n",
      "     mid: 21,  now : 6,  a : 3, K : 2, \n",
      "     mid: 21,  now : 9,  a : 3, K : 2, \n",
      "     mid: 21,  now : 12,  a : 3, K : 2, \n",
      "     mid: 21,  now : 15,  a : 10, K : 2, \n",
      "     mid: 21,  now : 10,  a : 10, K : 1, \n",
      "     mid: 21,  now : 20,  a : 2, K : 1, \n",
      "     mid: 21,  now : 2,  a : 1, K : 0, \n",
      "     mid: 21,  now : 3,  a : 5, K : 0, \n",
      "     mid: 21,  now : 8,  a : 1, K : 0, \n",
      "     mid: 21,  now : 9,  a : 2, K : 0, \n",
      "     mid: 21,  now : 11,  a : 2, K : 0, \n",
      "     mid: 21,  now : 13,  a : 2, K : 0, \n",
      "     mid: 21,  now : 15,  a : 2, K : 0, \n",
      "     mid: 20,  now : 0,  a : 3, K : 2, \n",
      "     mid: 20,  now : 3,  a : 3, K : 2, \n",
      "     mid: 20,  now : 6,  a : 3, K : 2, \n",
      "     mid: 20,  now : 9,  a : 3, K : 2, \n",
      "     mid: 20,  now : 12,  a : 3, K : 2, \n",
      "     mid: 20,  now : 15,  a : 10, K : 2, \n",
      "     mid: 20,  now : 10,  a : 10, K : 1, \n",
      "     mid: 20,  now : 20,  a : 2, K : 1, \n",
      "     mid: 20,  now : 2,  a : 1, K : 0, \n",
      "     mid: 20,  now : 3,  a : 5, K : 0, \n",
      "     mid: 20,  now : 8,  a : 1, K : 0, \n",
      "     mid: 20,  now : 9,  a : 2, K : 0, \n",
      "     mid: 20,  now : 11,  a : 2, K : 0, \n",
      "     mid: 20,  now : 13,  a : 2, K : 0, \n",
      "     mid: 20,  now : 15,  a : 2, K : 0, \n",
      "start : 19, end : 20, mid : 19 \n",
      "     mid: 19,  now : 0,  a : 3, K : 2, \n",
      "     mid: 19,  now : 3,  a : 3, K : 2, \n",
      "     mid: 19,  now : 6,  a : 3, K : 2, \n",
      "     mid: 19,  now : 9,  a : 3, K : 2, \n",
      "     mid: 19,  now : 12,  a : 3, K : 2, \n",
      "     mid: 19,  now : 15,  a : 10, K : 2, \n",
      "     mid: 19,  now : 10,  a : 10, K : 1, \n",
      "     mid: 19,  now : 10,  a : 2, K : 0, \n",
      "     mid: 19,  now : 12,  a : 1, K : 0, \n",
      "     mid: 19,  now : 13,  a : 5, K : 0, \n",
      "     mid: 19,  now : 18,  a : 1, K : 0, \n",
      "     mid: 19,  now : 19,  a : 2, K : 0, \n",
      "start : 20, end : 20, mid : 20 \n",
      "     mid: 20,  now : 0,  a : 3, K : 2, \n",
      "     mid: 20,  now : 3,  a : 3, K : 2, \n",
      "     mid: 20,  now : 6,  a : 3, K : 2, \n",
      "     mid: 20,  now : 9,  a : 3, K : 2, \n",
      "     mid: 20,  now : 12,  a : 3, K : 2, \n",
      "     mid: 20,  now : 15,  a : 10, K : 2, \n",
      "     mid: 20,  now : 10,  a : 10, K : 1, \n",
      "     mid: 20,  now : 20,  a : 2, K : 1, \n",
      "     mid: 20,  now : 2,  a : 1, K : 0, \n",
      "     mid: 20,  now : 3,  a : 5, K : 0, \n",
      "     mid: 20,  now : 8,  a : 1, K : 0, \n",
      "     mid: 20,  now : 9,  a : 2, K : 0, \n",
      "     mid: 20,  now : 11,  a : 2, K : 0, \n",
      "     mid: 20,  now : 13,  a : 2, K : 0, \n",
      "     mid: 20,  now : 15,  a : 2, K : 0, \n",
      "     mid: 19,  now : 0,  a : 3, K : 2, \n",
      "     mid: 19,  now : 3,  a : 3, K : 2, \n",
      "     mid: 19,  now : 6,  a : 3, K : 2, \n",
      "     mid: 19,  now : 9,  a : 3, K : 2, \n",
      "     mid: 19,  now : 12,  a : 3, K : 2, \n",
      "     mid: 19,  now : 15,  a : 10, K : 2, \n",
      "     mid: 19,  now : 10,  a : 10, K : 1, \n",
      "     mid: 19,  now : 10,  a : 2, K : 0, \n",
      "     mid: 19,  now : 12,  a : 1, K : 0, \n",
      "     mid: 19,  now : 13,  a : 5, K : 0, \n",
      "     mid: 19,  now : 18,  a : 1, K : 0, \n",
      "     mid: 19,  now : 19,  a : 2, K : 0, \n"
     ]
    },
    {
     "data": {
      "text/plain": [
       "20"
      ]
     },
     "execution_count": 7,
     "metadata": {},
     "output_type": "execute_result"
    }
   ],
   "source": [
    "solution(3, 10, [3,3,3,3,3,10,10,2,1,5,1,2,2,2])"
   ]
  },
  {
   "cell_type": "code",
   "execution_count": 6,
   "metadata": {},
   "outputs": [
    {
     "name": "stdout",
     "output_type": "stream",
     "text": [
      "start : 0, end : 15, mid : 7 \n",
      "     mid: 7,  now : 0,  a : 2, K : 2, \n",
      "     mid: 7,  now : 2,  a : 1, K : 2, \n",
      "     mid: 7,  now : 3,  a : 5, K : 2, \n",
      "     mid: 7,  now : 5,  a : 1, K : 1, \n",
      "     mid: 7,  now : 6,  a : 2, K : 1, \n",
      "     mid: 7,  now : 2,  a : 2, K : 0, \n",
      "     mid: 7,  now : 4,  a : 2, K : 0, \n",
      "     mid: 7,  now : 6,  a : 2, K : 0, \n",
      "     mid: 6,  now : 0,  a : 2, K : 2, \n",
      "     mid: 6,  now : 2,  a : 1, K : 2, \n",
      "     mid: 6,  now : 3,  a : 5, K : 2, \n",
      "     mid: 6,  now : 5,  a : 1, K : 1, \n",
      "     mid: 6,  now : 6,  a : 2, K : 1, \n",
      "     mid: 6,  now : 2,  a : 2, K : 0, \n",
      "     mid: 6,  now : 4,  a : 2, K : 0, \n",
      "     mid: 6,  now : 6,  a : 2, K : 0, \n",
      "start : 0, end : 6, mid : 3 \n",
      "     mid: 3,  now : 0,  a : 2, K : 2, \n",
      "     mid: 3,  now : 2,  a : 1, K : 2, \n",
      "     mid: 3,  now : 3,  a : 5, K : 2, \n",
      "     mid: 3,  now : 5,  a : 1, K : 1, \n",
      "     mid: 3,  now : 1,  a : 2, K : 0, \n",
      "     mid: 3,  now : 3,  a : 2, K : 0, \n",
      "start : 4, end : 6, mid : 5 \n",
      "     mid: 5,  now : 0,  a : 2, K : 2, \n",
      "     mid: 5,  now : 2,  a : 1, K : 2, \n",
      "     mid: 5,  now : 3,  a : 5, K : 2, \n",
      "     mid: 5,  now : 5,  a : 1, K : 1, \n",
      "     mid: 5,  now : 1,  a : 2, K : 0, \n",
      "     mid: 5,  now : 3,  a : 2, K : 0, \n",
      "     mid: 5,  now : 5,  a : 2, K : 0, \n",
      "start : 6, end : 6, mid : 6 \n",
      "     mid: 6,  now : 0,  a : 2, K : 2, \n",
      "     mid: 6,  now : 2,  a : 1, K : 2, \n",
      "     mid: 6,  now : 3,  a : 5, K : 2, \n",
      "     mid: 6,  now : 5,  a : 1, K : 1, \n",
      "     mid: 6,  now : 6,  a : 2, K : 1, \n",
      "     mid: 6,  now : 2,  a : 2, K : 0, \n",
      "     mid: 6,  now : 4,  a : 2, K : 0, \n",
      "     mid: 6,  now : 6,  a : 2, K : 0, \n",
      "     mid: 5,  now : 0,  a : 2, K : 2, \n",
      "     mid: 5,  now : 2,  a : 1, K : 2, \n",
      "     mid: 5,  now : 3,  a : 5, K : 2, \n",
      "     mid: 5,  now : 5,  a : 1, K : 1, \n",
      "     mid: 5,  now : 1,  a : 2, K : 0, \n",
      "     mid: 5,  now : 3,  a : 2, K : 0, \n",
      "     mid: 5,  now : 5,  a : 2, K : 0, \n"
     ]
    },
    {
     "data": {
      "text/plain": [
       "6"
      ]
     },
     "execution_count": 6,
     "metadata": {},
     "output_type": "execute_result"
    }
   ],
   "source": [
    "solution(3, 5, [2,1,5,1,2,2,2])"
   ]
  },
  {
   "cell_type": "code",
   "execution_count": null,
   "metadata": {},
   "outputs": [],
   "source": []
  },
  {
   "cell_type": "code",
   "execution_count": null,
   "metadata": {},
   "outputs": [],
   "source": []
  },
  {
   "cell_type": "code",
   "execution_count": null,
   "metadata": {},
   "outputs": [],
   "source": []
  },
  {
   "cell_type": "code",
   "execution_count": null,
   "metadata": {},
   "outputs": [],
   "source": []
  }
 ],
 "metadata": {
  "kernelspec": {
   "display_name": "Python 3",
   "language": "python",
   "name": "python3"
  },
  "language_info": {
   "codemirror_mode": {
    "name": "ipython",
    "version": 3
   },
   "file_extension": ".py",
   "mimetype": "text/x-python",
   "name": "python",
   "nbconvert_exporter": "python",
   "pygments_lexer": "ipython3",
   "version": "3.8.3"
  }
 },
 "nbformat": 4,
 "nbformat_minor": 4
}

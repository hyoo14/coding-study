{
 "cells": [
  {
   "cell_type": "markdown",
   "metadata": {},
   "source": [
    "## \"MinMaxDivision\" prob in Binary Search"
   ]
  },
  {
   "cell_type": "markdown",
   "metadata": {},
   "source": [
    "  "
   ]
  },
  {
   "cell_type": "markdown",
   "metadata": {},
   "source": [
    "# Problem Link: https://app.codility.com/programmers/lessons/14-binary_search_algorithm/min_max_division/"
   ]
  },
  {
   "cell_type": "markdown",
   "metadata": {},
   "source": [
    "  "
   ]
  },
  {
   "cell_type": "markdown",
   "metadata": {},
   "source": [
    "Problem: 입력받은 array A를 K개의 블록으로 나누어야함  \n",
    "블록의 크기는 0과 N 사이  \n",
    "A의 원소들은 어느 블록이던 속해있어야함  \n",
    "각 블록들은 블록에 속한 원소들의 sum값을 가짐  \n",
    "이 sum값들 중 가장 큰 값이 가장 작아지도록 하는 경우의 sum값을 리턴  \n",
    "\n",
    "  \n",
    "Input: K, M, A(len = N, A[i] <= M)  \n",
    "Output: 블록들의 sum값 중 가장 큰 값      \n",
    "\n",
    "Assumptions:  \n",
    "length of A is N  \n",
    "N, K are integers within the range [1, 100,000]  \n",
    "M is integer within the range [0, 10,000]  \n",
    "A[i] is an integer within the range [0, M]  "
   ]
  },
  {
   "cell_type": "markdown",
   "metadata": {},
   "source": [
    "# Solved code:"
   ]
  },
  {
   "cell_type": "code",
   "execution_count": null,
   "metadata": {},
   "outputs": [],
   "source": [
    "#21.12.21 100% correctness100, performance100, no-timeout100\n",
    "\n",
    "\n",
    "def judge(mid, K, A):\n",
    "    K -= 1 #K블록일 경우 now는 처음 빼면 K-1번 더 바뀔 수 있음\n",
    "    now = 0\n",
    "    maxVal = -1 \n",
    "    #K가 감소하면서 now가 reset됨. 근데 이거와 관계 없이 mid값 보다 커지면 \n",
    "    #mid값은 invalid함.. --> 이 점이 어려웠음\n",
    "    \n",
    "    for a in A:\n",
    "        \n",
    "        print(\"     mid: %.d,  now : %.d,  a : %.d, K : %.d, \"%(mid, now,a,K))\n",
    "        \n",
    "        if now + a > mid:\n",
    "            if now > a: maxVal = now\n",
    "            else: maxVal = a\n",
    "                \n",
    "            now = a\n",
    "            K -= 1\n",
    "        else:\n",
    "            now += a\n",
    "        \n",
    "        if maxVal > mid: return -1 ##이부분..\n",
    "        \n",
    "        if K < 0: return -1\n",
    "    print(\"     mid: %.d,  now : %.d,  a : %.d, K : %.d, \"%(mid, now,a,K))\n",
    "        \n",
    "    if now > mid: return -1\n",
    "    \n",
    "    return 1               \n",
    "\n",
    "\n",
    "def binary_search(K, A):\n",
    "\n",
    "    start = 0\n",
    "    end = 0\n",
    "    for a in A: end += a\n",
    "\n",
    "    while start <= end:\n",
    "        \n",
    "        mid = (start + end) // 2\n",
    "        print(\"start : %.d, end : %.d, mid : %.d \"%(start, end, mid))\n",
    "        \n",
    "        if judge(mid, K, A) == 1:\n",
    "            if mid <= 0: return mid \n",
    "            else: \n",
    "                if judge(mid-1, K, A) == -1: return mid\n",
    "                else: end = mid - 1\n",
    "            \n",
    "        else:\n",
    "            start = mid + 1\n",
    "\n",
    "\n",
    "\n",
    "def solution(K, M, A):\n",
    "    # write your code in Python 3.6\n",
    "    #pass\n",
    "\n",
    "    #    0 < large_sum <= sum of A\n",
    "    return binary_search(K, A)\n",
    "\n",
    "    \n"
   ]
  },
  {
   "cell_type": "markdown",
   "metadata": {},
   "source": [
    "# Test cases"
   ]
  },
  {
   "cell_type": "code",
   "execution_count": 14,
   "metadata": {},
   "outputs": [
    {
     "data": {
      "text/plain": [
       "'medium_zeros\\nmany zeros and 99 in the middle, length = 15,000✘WRONG ANSWER\\ngot 0 expected 99'"
      ]
     },
     "execution_count": 14,
     "metadata": {},
     "output_type": "execute_result"
    }
   ],
   "source": [
    "# solution(3, 5, [2,1,5,1,2,2,2]) #6 #기본 케이스\n",
    "\n",
    "\"\"\"extreme_min_max\n",
    "maximal / minimal values✘WRONG ANSWER\n",
    "got 0 expected 10000\"\"\"\n",
    "\n",
    "\"\"\"medium_zeros\n",
    "many zeros and 99 in the middle, length = 15,000✘WRONG ANSWER\n",
    "got 0 expected 99\"\"\"\n",
    "\n",
    "\n",
    "# solution(5, 99, [0,0,0,0,0,0,99,0,0,0,0,0,0,0]) #99 #max체크 안 해주면 이거 통과 못함\n",
    "\n",
    "# solution(3, 10, [3,3,3,3,3,10,10,2,1,5,1,2,2,2]) #20\n",
    "# solution(10, 10, [5, 5]) #5"
   ]
  },
  {
   "cell_type": "markdown",
   "metadata": {},
   "source": [
    " "
   ]
  },
  {
   "cell_type": "markdown",
   "metadata": {},
   "source": [
    "# Commentary:\n",
    "\n",
    "[프로그래머스 이분탐색 징검다리 문제](https://github.com/hyoo14/coding-study/blob/main/Programmers/BinarySearch_%EC%A7%95%EA%B2%80%EB%8B%A4%EB%A6%AC.ipynb) 와 유사함  \n",
    "바이너리서치로 minmax값 찾는 것  \n",
    "프로그래머스 문제에서는 돌을 제거하는 것이었다면, 여기서는 K의 수를 감소시키는 것(비슷).  \n",
    "다만, K가 감소하면서 now가 reset되도, reset된 값이 mid값 보다 커질 수 있고  \n",
    "이 경우를 maxVal을 줘서 체크해줘야함  \n",
    "maxVal이 mid보다 더 커지면 이 mid값은 invalid하니깐..( --> 이 점이 어려웠음)  \n"
   ]
  },
  {
   "cell_type": "markdown",
   "metadata": {},
   "source": [
    "  "
   ]
  },
  {
   "cell_type": "markdown",
   "metadata": {},
   "source": [
    " # Time complexity:\n",
    " \n",
    "binary search 로 mid값 대입해볼 때, mid의 max는 A 모든 원소의 합인데,  \n",
    "A의 원소는 최대 M임..  \n",
    "그러므로 max는 N*M이니까 binary search 자체는 log(M * N)  \n",
    "  \n",
    "판정함수 judge에서 A원소들 리니어하게 탐색해보므로 N  \n",
    "\n",
    "총: (N)log(N * M)  \n",
    " "
   ]
  },
  {
   "cell_type": "markdown",
   "metadata": {},
   "source": [
    "  "
   ]
  },
  {
   "cell_type": "markdown",
   "metadata": {},
   "source": [
    "# Re-trial code: "
   ]
  },
  {
   "cell_type": "code",
   "execution_count": null,
   "metadata": {},
   "outputs": [],
   "source": [
    "#22.03.07 total acc 66->91->100\n",
    "\n",
    " # you can write to stdout for debugging purposes, e.g.\n",
    "# print(\"this is a debug message\")\n",
    "def judge(midVal, K, A, N):\n",
    "    #N = len(A)\n",
    "    nowVal = 0\n",
    "    for i in range(N):\n",
    "        \n",
    "        val = A[i] \n",
    "        \n",
    "        nowVal += val\n",
    "        \n",
    "        #print(f'val : {val}, K : {K}, nowVal : {nowVal}')\n",
    "        if nowVal > midVal:\n",
    "            nowVal = val\n",
    "            K -= 1\n",
    "            ###########################cover this t.c :solution(1, 99, [0,0,0,0,99,99,0,0,0,0]) #99 -> total acc 91 to 100\n",
    "            ###########################remove below if statement. it was useless\n",
    "            #if nowVal == midVal\n",
    "             #   nowVal, K = 0, K-1\n",
    "              #  if i == N-1: K += 1 #cover this t.c : solution(2, 5, [3, 5]) #5  -> total acc 66 to 91\n",
    "            \n",
    "            if K < 0 or val > midVal : return False\n",
    "    return True\n",
    "\n",
    "def solution(K, M, A):\n",
    "    # write your code in Python 3.6\n",
    "    #pass\n",
    "    K -= 1\n",
    "    N = len(A)\n",
    "    \n",
    "    startVal, endVal = 0, 0\n",
    "    for val in A: endVal += val\n",
    "    \n",
    "    before_minVal, before_before_minVal = -1, -1\n",
    "    candidates = []\n",
    "    while startVal <= endVal: # O( N*logMN)\n",
    "        midVal = (startVal + endVal) // 2\n",
    "        #print(f'startVal : {startVal}, endVal : {endVal}, midVal : {midVal}')\n",
    "        if judge(midVal, K, A, N): \n",
    "            candidates.append(midVal)\n",
    "            endVal = midVal-1\n",
    "            \n",
    "        else:\n",
    "            startVal = midVal+1\n",
    "    return min(candidates)"
   ]
  },
  {
   "cell_type": "markdown",
   "metadata": {},
   "source": [
    "특이사항이라면 candidates 리스트를 만들어서 true인 경우를 모아둠  \n",
    "그리고 candidates 중 min값을 리턴하였음  \n",
    "(worst case인 logMN 다 돌도록 한 것)  \n",
    "\n",
    "\n",
    "judge함수에서 K가 0보다 작아지거나 A의 원소 하나인 val이 midVal보다 클 경우 false를 리턴  \n",
    "\n",
    "\n",
    "K의 값이 변화되는 과정을 fix한 과정은 아래와 같음  \n"
   ]
  },
  {
   "cell_type": "code",
   "execution_count": null,
   "metadata": {},
   "outputs": [],
   "source": [
    "#최초 시도 solution(2, 5, [3, 5]) #5 이 케이스 커버 못 함\n",
    "if nowVal > midVal:\n",
    "    nowVal = val\n",
    "    K -= 1\n",
    "    if nowVal == midVal\n",
    "        nowVal, K = 0, K-1"
   ]
  },
  {
   "cell_type": "code",
   "execution_count": null,
   "metadata": {},
   "outputs": [],
   "source": [
    "#개선으로 직전에 안 된 케이스 커버. 하지만 (1, 99, [0,0,0,0,99,99,0,0,0,0]) #99 케이스 커버 못 함\n",
    "if nowVal > midVal:\n",
    "    nowVal = val\n",
    "    K -= 1\n",
    "    if nowVal == midVal\n",
    "        nowVal, K = 0, K-1\n",
    "        if i == N-1: K += 1 #cover this t.c : solution(2, 5, [3, 5]) #5  -> total acc 66 to 91\n"
   ]
  },
  {
   "cell_type": "code",
   "execution_count": null,
   "metadata": {},
   "outputs": [],
   "source": [
    "#그냥 nowVal == midVal 인 경우 다음 loop에서 고려하게끔 아래 있던 if statement 다 지워주고 모든 케이스 커버\n",
    "if nowVal > midVal:\n",
    "    nowVal = val\n",
    "    K -= 1"
   ]
  },
  {
   "cell_type": "code",
   "execution_count": null,
   "metadata": {},
   "outputs": [],
   "source": []
  },
  {
   "cell_type": "markdown",
   "metadata": {},
   "source": [
    "  "
   ]
  },
  {
   "cell_type": "markdown",
   "metadata": {},
   "source": [
    " "
   ]
  },
  {
   "cell_type": "markdown",
   "metadata": {},
   "source": [
    "# Trial code: "
   ]
  },
  {
   "cell_type": "code",
   "execution_count": 7,
   "metadata": {},
   "outputs": [],
   "source": [
    "#21.12.20 75% correctness66, performance83, no-timeout100\n",
    "\n",
    "\n",
    "def judge(mid, K, A):\n",
    "    K -= 1 #K블록일 경우 now는 처음 빼면 K-1번 더 바뀔 수 있음\n",
    "    now = 0\n",
    "    for a in A:\n",
    "        \n",
    "        print(\"     mid: %.d,  now : %.d,  a : %.d, K : %.d, \"%(mid, now,a,K))\n",
    "        \n",
    "        if now + a > mid:\n",
    "            now = a\n",
    "            K -= 1\n",
    "        else:\n",
    "            now += a\n",
    "        \n",
    "        if K < 0: return -1\n",
    "    print(\"     mid: %.d,  now : %.d,  a : %.d, K : %.d, \"%(mid, now,a,K))\n",
    "        \n",
    "    if now > mid: return -1\n",
    "    \n",
    "    return 1               \n",
    "\n",
    "\n",
    "def binary_search(K, A):\n",
    "\n",
    "    start = 0\n",
    "    end = 0\n",
    "    for a in A: end += a\n",
    "\n",
    "    while start <= end:\n",
    "        \n",
    "        mid = (start + end) // 2\n",
    "        print(\"start : %.d, end : %.d, mid : %.d \"%(start, end, mid))\n",
    "        \n",
    "        if judge(mid, K, A) == 1:\n",
    "            if mid <= 0: return mid \n",
    "            else: \n",
    "                if judge(mid-1, K, A) == -1: return mid\n",
    "                else: end = mid - 1\n",
    "            \n",
    "        else:\n",
    "            start = mid + 1\n",
    "\n",
    "\n",
    "\n",
    "def solution(K, M, A):\n",
    "    # write your code in Python 3.6\n",
    "    #pass\n",
    "\n",
    "    #    0 < large_sum <= sum of A\n",
    "    return binary_search(K, A)"
   ]
  },
  {
   "cell_type": "code",
   "execution_count": null,
   "metadata": {},
   "outputs": [],
   "source": [
    "#21.12.21 100% correctness100, performance100, no-timeout100\n",
    "\n",
    "\n",
    "def judge(mid, K, A):\n",
    "    K -= 1 #K블록일 경우 now는 처음 빼면 K-1번 더 바뀔 수 있음\n",
    "    now = 0\n",
    "    maxVal = -1 \n",
    "    #K가 감소하면서 now가 reset됨. 근데 이거와 관계 없이 mid값 보다 커지면 \n",
    "    #mid값은 invalid함.. --> 이 점이 어려웠음\n",
    "    \n",
    "    for a in A:\n",
    "        \n",
    "        print(\"     mid: %.d,  now : %.d,  a : %.d, K : %.d, \"%(mid, now,a,K))\n",
    "        \n",
    "        if now + a > mid:\n",
    "            if now > a: maxVal = now\n",
    "            else: maxVal = a\n",
    "                \n",
    "            now = a\n",
    "            K -= 1\n",
    "        else:\n",
    "            now += a\n",
    "        \n",
    "        if maxVal > mid: return -1 ##이부분..\n",
    "        \n",
    "        if K < 0: return -1\n",
    "    print(\"     mid: %.d,  now : %.d,  a : %.d, K : %.d, \"%(mid, now,a,K))\n",
    "        \n",
    "    if now > mid: return -1\n",
    "    \n",
    "    return 1               \n",
    "\n",
    "\n",
    "def binary_search(K, A):\n",
    "\n",
    "    start = 0\n",
    "    end = 0\n",
    "    for a in A: end += a\n",
    "\n",
    "    while start <= end:\n",
    "        \n",
    "        mid = (start + end) // 2\n",
    "        print(\"start : %.d, end : %.d, mid : %.d \"%(start, end, mid))\n",
    "        \n",
    "        if judge(mid, K, A) == 1:\n",
    "            if mid <= 0: return mid \n",
    "            else: \n",
    "                if judge(mid-1, K, A) == -1: return mid\n",
    "                else: end = mid - 1\n",
    "            \n",
    "        else:\n",
    "            start = mid + 1\n",
    "\n",
    "\n",
    "\n",
    "def solution(K, M, A):\n",
    "    # write your code in Python 3.6\n",
    "    #pass\n",
    "\n",
    "    #    0 < large_sum <= sum of A\n",
    "    return binary_search(K, A)\n",
    "\n",
    "    \n"
   ]
  },
  {
   "cell_type": "code",
   "execution_count": null,
   "metadata": {},
   "outputs": [],
   "source": []
  },
  {
   "cell_type": "code",
   "execution_count": null,
   "metadata": {},
   "outputs": [],
   "source": [
    "\n",
    "\n"
   ]
  },
  {
   "cell_type": "code",
   "execution_count": null,
   "metadata": {},
   "outputs": [],
   "source": []
  },
  {
   "cell_type": "code",
   "execution_count": null,
   "metadata": {},
   "outputs": [],
   "source": []
  },
  {
   "cell_type": "code",
   "execution_count": null,
   "metadata": {},
   "outputs": [],
   "source": []
  },
  {
   "cell_type": "code",
   "execution_count": null,
   "metadata": {},
   "outputs": [],
   "source": []
  },
  {
   "cell_type": "code",
   "execution_count": null,
   "metadata": {},
   "outputs": [],
   "source": []
  },
  {
   "cell_type": "code",
   "execution_count": null,
   "metadata": {},
   "outputs": [],
   "source": []
  },
  {
   "cell_type": "code",
   "execution_count": null,
   "metadata": {},
   "outputs": [],
   "source": []
  },
  {
   "cell_type": "code",
   "execution_count": null,
   "metadata": {},
   "outputs": [],
   "source": []
  },
  {
   "cell_type": "code",
   "execution_count": null,
   "metadata": {},
   "outputs": [],
   "source": []
  },
  {
   "cell_type": "code",
   "execution_count": null,
   "metadata": {},
   "outputs": [],
   "source": []
  },
  {
   "cell_type": "code",
   "execution_count": null,
   "metadata": {},
   "outputs": [],
   "source": []
  },
  {
   "cell_type": "code",
   "execution_count": null,
   "metadata": {},
   "outputs": [],
   "source": []
  }
 ],
 "metadata": {
  "kernelspec": {
   "display_name": "Python 3 (ipykernel)",
   "language": "python",
   "name": "python3"
  },
  "language_info": {
   "codemirror_mode": {
    "name": "ipython",
    "version": 3
   },
   "file_extension": ".py",
   "mimetype": "text/x-python",
   "name": "python",
   "nbconvert_exporter": "python",
   "pygments_lexer": "ipython3",
   "version": "3.9.7"
  }
 },
 "nbformat": 4,
 "nbformat_minor": 4
}

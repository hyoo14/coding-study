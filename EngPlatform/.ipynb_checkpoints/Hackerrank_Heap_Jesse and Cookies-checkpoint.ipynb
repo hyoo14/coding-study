{
 "cells": [
  {
   "cell_type": "markdown",
   "metadata": {},
   "source": [
    "## \"Jesse and Cookies\" prob in Heap"
   ]
  },
  {
   "cell_type": "markdown",
   "metadata": {},
   "source": [
    "  "
   ]
  },
  {
   "cell_type": "markdown",
   "metadata": {},
   "source": [
    "# Problem Link: https://www.hackerrank.com/challenges/jesse-and-cookies/problem"
   ]
  },
  {
   "cell_type": "markdown",
   "metadata": {},
   "source": [
    "  "
   ]
  },
  {
   "cell_type": "markdown",
   "metadata": {},
   "source": [
    "Problem:   \n",
    "node개수, edge들 입력 받고  \n",
    "시작점은 s로 주어짐   \n",
    "만약 모든 시작점이 1이라면    \n",
    "1에서 2 .. n으로 가는 최단거리 리스트 반환해야  \n",
    "  \n",
    "Input: n, edges   \n",
    "Output: [s부터 1 최단, s부터 2최단, .. , s부터 n최단]  \n",
    "\n",
    "Assumptions:  \n",
    "경로 없는 경우는 -1  "
   ]
  },
  {
   "cell_type": "markdown",
   "metadata": {},
   "source": [
    "# Solved code:"
   ]
  },
  {
   "cell_type": "code",
   "execution_count": 1,
   "metadata": {},
   "outputs": [],
   "source": [
    "#22.01.01 100% correctness100, performance100, no-timeout100, no-runtimeError100\n",
    "\n",
    "\n",
    "import heapq\n",
    "from heapq import heappush, heappop, heapify\n",
    "def cookies(k, A):\n",
    "    # Write your code here\n",
    "    A = sorted(A)\n",
    "    answer = 0\n",
    "    heapify(A)\n",
    "    \n",
    "    #print(A)\n",
    "    \n",
    "    \n",
    "    while len(A) > 0:\n",
    "        first = heappop(A)\n",
    "        #print(first)\n",
    "        if  first >= k: return answer\n",
    "        \n",
    "        if len(A) == 0: return -1\n",
    "        \n",
    "        second = heappop(A)\n",
    "        answer += 1\n",
    "        \n",
    "        heappush(A,  first + 2 * second)\n",
    "        \n",
    "    return -1\n"
   ]
  },
  {
   "cell_type": "markdown",
   "metadata": {},
   "source": [
    "# Test cases"
   ]
  },
  {
   "cell_type": "code",
   "execution_count": 1,
   "metadata": {},
   "outputs": [],
   "source": [
    "cookies(7, [1, 2, 3, 9, 10, 12]  )"
   ]
  },
  {
   "cell_type": "code",
   "execution_count": null,
   "metadata": {},
   "outputs": [],
   "source": []
  },
  {
   "cell_type": "code",
   "execution_count": null,
   "metadata": {},
   "outputs": [],
   "source": []
  },
  {
   "cell_type": "code",
   "execution_count": null,
   "metadata": {},
   "outputs": [],
   "source": [
    "\"\"\"              #4 5\n",
    "m=101\n",
    "ar_text = \"722 600 905 54 47\"\n",
    "arr = ar_text.split(\" \")\n",
    "for i in range(len(arr)): arr[i] = int(arr[i])\n",
    "icecreamParlor(m, arr)\n",
    "\"\"\""
   ]
  },
  {
   "cell_type": "markdown",
   "metadata": {},
   "source": [
    " "
   ]
  },
  {
   "cell_type": "markdown",
   "metadata": {},
   "source": [
    "# Commentary:\n",
    "\n",
    "BFS 짜는 것인데..  \n",
    "edge 방문한 경우 재방문 안 하도록 edge_visited 사전을 사용  \n",
    "자꾸 time complexity가 났던 이유는 vertex 방문하여 이 vertex에서 갈 수 있는 다른 vertex를 이미 모두 bfs에 넣은 경우를 고려치 못 함  \n",
    "즉, vertex 이미 방문한 경우 지워줘야함.  \n",
    "이거 처리해서 문제 풀음  "
   ]
  },
  {
   "cell_type": "markdown",
   "metadata": {},
   "source": [
    "  "
   ]
  },
  {
   "cell_type": "markdown",
   "metadata": {},
   "source": [
    " # Time complexity:\n",
    " \n",
    "edge 방문: O(N)  \n",
    "vertex 방문: O(M)  \n",
    "\n",
    "total: O(N+M)    \n",
    " "
   ]
  },
  {
   "cell_type": "markdown",
   "metadata": {},
   "source": [
    "  "
   ]
  },
  {
   "cell_type": "markdown",
   "metadata": {},
   "source": [
    "# Re-trial code: "
   ]
  },
  {
   "cell_type": "code",
   "execution_count": null,
   "metadata": {},
   "outputs": [],
   "source": []
  },
  {
   "cell_type": "markdown",
   "metadata": {},
   "source": [
    "  "
   ]
  },
  {
   "cell_type": "markdown",
   "metadata": {},
   "source": [
    " "
   ]
  },
  {
   "cell_type": "markdown",
   "metadata": {},
   "source": [
    "# Trial code: "
   ]
  },
  {
   "cell_type": "code",
   "execution_count": 13,
   "metadata": {},
   "outputs": [],
   "source": [
    "#acc 22/28 timelimit 0/28 runtimeError 6/28  22.01.01 \n",
    "import heapq\n",
    "from heapq import heappush, heappop, heapify\n",
    "def cookies(k, A):\n",
    "    # Write your code here\n",
    "    A = sorted(A)\n",
    "    answer = 0\n",
    "    heapify(A)\n",
    "    \n",
    "    #print(A)\n",
    "    \n",
    "    \n",
    "    while len(A) > 0:\n",
    "        first = heappop(A)\n",
    "        #print(first)\n",
    "        if  first >= k: return answer\n",
    "        \n",
    "        second = heappop(A)\n",
    "        answer += 1\n",
    "        \n",
    "        heappush(A,  first + 2 * second)\n",
    "        \n",
    "    return -1\n",
    "        \n",
    "        \n",
    "    \n",
    "    \n",
    "\n",
    "    "
   ]
  },
  {
   "cell_type": "code",
   "execution_count": 15,
   "metadata": {},
   "outputs": [],
   "source": [
    "#acc 28/28 timelimit 0/28 runtimeError 0/28  22.01.01 \n",
    "import heapq\n",
    "from heapq import heappush, heappop, heapify\n",
    "def cookies(k, A):\n",
    "    # Write your code here\n",
    "    A = sorted(A)\n",
    "    answer = 0\n",
    "    heapify(A)\n",
    "    \n",
    "    #print(A)\n",
    "    \n",
    "    \n",
    "    while len(A) > 0:\n",
    "        first = heappop(A)\n",
    "        #print(first)\n",
    "        if  first >= k: return answer\n",
    "        \n",
    "        if len(A) == 0: return -1\n",
    "        \n",
    "        second = heappop(A)\n",
    "        answer += 1\n",
    "        \n",
    "        heappush(A,  first + 2 * second)\n",
    "        \n",
    "    return -1\n",
    "        "
   ]
  },
  {
   "cell_type": "code",
   "execution_count": 16,
   "metadata": {},
   "outputs": [
    {
     "data": {
      "text/plain": [
       "2"
      ]
     },
     "execution_count": 16,
     "metadata": {},
     "output_type": "execute_result"
    }
   ],
   "source": [
    "cookies(7, [1, 2, 3, 9, 10, 12]  )"
   ]
  },
  {
   "cell_type": "code",
   "execution_count": 18,
   "metadata": {},
   "outputs": [],
   "source": [
    "\n"
   ]
  },
  {
   "cell_type": "code",
   "execution_count": null,
   "metadata": {},
   "outputs": [],
   "source": []
  },
  {
   "cell_type": "code",
   "execution_count": null,
   "metadata": {},
   "outputs": [],
   "source": []
  },
  {
   "cell_type": "code",
   "execution_count": null,
   "metadata": {},
   "outputs": [],
   "source": []
  },
  {
   "cell_type": "code",
   "execution_count": null,
   "metadata": {},
   "outputs": [],
   "source": []
  },
  {
   "cell_type": "code",
   "execution_count": null,
   "metadata": {},
   "outputs": [],
   "source": [
    "\n",
    "\n"
   ]
  },
  {
   "cell_type": "code",
   "execution_count": null,
   "metadata": {},
   "outputs": [],
   "source": []
  },
  {
   "cell_type": "code",
   "execution_count": null,
   "metadata": {},
   "outputs": [],
   "source": []
  },
  {
   "cell_type": "code",
   "execution_count": null,
   "metadata": {},
   "outputs": [],
   "source": []
  },
  {
   "cell_type": "code",
   "execution_count": null,
   "metadata": {},
   "outputs": [],
   "source": []
  },
  {
   "cell_type": "code",
   "execution_count": null,
   "metadata": {},
   "outputs": [],
   "source": []
  },
  {
   "cell_type": "code",
   "execution_count": null,
   "metadata": {},
   "outputs": [],
   "source": []
  },
  {
   "cell_type": "code",
   "execution_count": null,
   "metadata": {},
   "outputs": [],
   "source": []
  },
  {
   "cell_type": "code",
   "execution_count": null,
   "metadata": {},
   "outputs": [],
   "source": []
  },
  {
   "cell_type": "code",
   "execution_count": null,
   "metadata": {},
   "outputs": [],
   "source": []
  },
  {
   "cell_type": "code",
   "execution_count": null,
   "metadata": {},
   "outputs": [],
   "source": []
  },
  {
   "cell_type": "code",
   "execution_count": null,
   "metadata": {},
   "outputs": [],
   "source": []
  },
  {
   "cell_type": "code",
   "execution_count": null,
   "metadata": {},
   "outputs": [],
   "source": []
  }
 ],
 "metadata": {
  "kernelspec": {
   "display_name": "Python 3",
   "language": "python",
   "name": "python3"
  },
  "language_info": {
   "codemirror_mode": {
    "name": "ipython",
    "version": 3
   },
   "file_extension": ".py",
   "mimetype": "text/x-python",
   "name": "python",
   "nbconvert_exporter": "python",
   "pygments_lexer": "ipython3",
   "version": "3.8.3"
  }
 },
 "nbformat": 4,
 "nbformat_minor": 4
}

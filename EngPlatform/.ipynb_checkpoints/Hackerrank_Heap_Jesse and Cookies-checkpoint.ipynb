{
 "cells": [
  {
   "cell_type": "markdown",
   "metadata": {},
   "source": [
    "## \"Jesse and Cookies\" prob in Heap"
   ]
  },
  {
   "cell_type": "markdown",
   "metadata": {},
   "source": [
    "  "
   ]
  },
  {
   "cell_type": "markdown",
   "metadata": {},
   "source": [
    "# Problem Link: https://www.hackerrank.com/challenges/jesse-and-cookies/problem"
   ]
  },
  {
   "cell_type": "markdown",
   "metadata": {},
   "source": [
    "  "
   ]
  },
  {
   "cell_type": "markdown",
   "metadata": {},
   "source": [
    "Problem:   \n",
    "최소 임계치 k와 수치들 A를 받아서  \n",
    "A의 가장 낮은 수치가 k 보다 낮을 경우, A의 가장 낮은 수치 + A의 두번째로 낮은 수치 * 2로 변경(두 수치는 하나의 수치가 됨)  \n",
    "위 과정을 몇번 거쳐야 모든 수치가 최소 임계치 보다 크거나 같이져야 하는지를 구하는 문제  \n",
    "  \n",
    "Input: k, A   \n",
    "Output: 수치 변경 프로세스 반복 회수  \n",
    "\n",
    "Assumptions:  \n",
    "불가능한 경우 -1  "
   ]
  },
  {
   "cell_type": "markdown",
   "metadata": {},
   "source": [
    "# Solved code:"
   ]
  },
  {
   "cell_type": "code",
   "execution_count": 1,
   "metadata": {},
   "outputs": [],
   "source": [
    "#22.01.01 100% correctness100, performance100, no-timeout100, no-runtimeError100\n",
    "\n",
    "\n",
    "import heapq\n",
    "from heapq import heappush, heappop, heapify\n",
    "def cookies(k, A):\n",
    "    # Write your code here\n",
    "    A = sorted(A)\n",
    "    answer = 0\n",
    "    heapify(A)\n",
    "    \n",
    "    #print(A)\n",
    "    \n",
    "    \n",
    "    while len(A) > 0:\n",
    "        first = heappop(A)\n",
    "        #print(first)\n",
    "        if  first >= k: return answer\n",
    "        \n",
    "        if len(A) == 0: return -1\n",
    "        \n",
    "        second = heappop(A)\n",
    "        answer += 1\n",
    "        \n",
    "        heappush(A,  first + 2 * second)\n",
    "        \n",
    "    return -1\n"
   ]
  },
  {
   "cell_type": "markdown",
   "metadata": {},
   "source": [
    "# Test cases"
   ]
  },
  {
   "cell_type": "code",
   "execution_count": 1,
   "metadata": {},
   "outputs": [],
   "source": [
    "cookies(7, [1, 2, 3, 9, 10, 12]  )"
   ]
  },
  {
   "cell_type": "code",
   "execution_count": null,
   "metadata": {},
   "outputs": [],
   "source": [
    "cookies(10, [1,1,1])"
   ]
  },
  {
   "cell_type": "code",
   "execution_count": null,
   "metadata": {},
   "outputs": [],
   "source": []
  },
  {
   "cell_type": "code",
   "execution_count": null,
   "metadata": {},
   "outputs": [],
   "source": [
    "\"\"\"              #4 5\n",
    "m=101\n",
    "ar_text = \"722 600 905 54 47\"\n",
    "arr = ar_text.split(\" \")\n",
    "for i in range(len(arr)): arr[i] = int(arr[i])\n",
    "icecreamParlor(m, arr)\n",
    "\"\"\""
   ]
  },
  {
   "cell_type": "markdown",
   "metadata": {},
   "source": [
    " "
   ]
  },
  {
   "cell_type": "markdown",
   "metadata": {},
   "source": [
    "# Commentary:\n",
    "\n",
    "heapq써서 푸는 문제  \n",
    "자료구조 heap이 timecomplexity가 낮으므로..  \n",
    "근데 programmers의 스코빌 지수(매운맛 문제)와 똑같음  \n",
    "어디가 보고 만들었는지는 모르겠으나..  "
   ]
  },
  {
   "cell_type": "markdown",
   "metadata": {},
   "source": [
    "  "
   ]
  },
  {
   "cell_type": "markdown",
   "metadata": {},
   "source": [
    " # Time complexity:\n",
    " \n",
    "sorting: O(NlonN)  \n",
    "array update: O(NlogN)  \n",
    "\n",
    "total: O(NlogN)    \n",
    " "
   ]
  },
  {
   "cell_type": "markdown",
   "metadata": {},
   "source": [
    "  "
   ]
  },
  {
   "cell_type": "markdown",
   "metadata": {},
   "source": [
    "# Re-trial code: "
   ]
  },
  {
   "cell_type": "code",
   "execution_count": null,
   "metadata": {},
   "outputs": [],
   "source": []
  },
  {
   "cell_type": "code",
   "execution_count": null,
   "metadata": {},
   "outputs": [],
   "source": [
    "#acc100, Wednesday, 220720  \n",
    "import heapq\n",
    "def cookies(k, A):\n",
    "    # Write your code here\n",
    "    hque = []\n",
    "    answer = 0\n",
    "    for a in A:\n",
    "        heapq.heappush(hque, a)\n",
    "    \n",
    "    while True:\n",
    "        num = heapq.heappop(hque)\n",
    "        if num > k:\n",
    "            return answer\n",
    "        answer += 1\n",
    "        num2 = heapq.heappop(hque)\n",
    "        heapq.heappush(hque,  num + num2 * 2 )\n",
    "    return -1"
   ]
  },
  {
   "cell_type": "code",
   "execution_count": null,
   "metadata": {},
   "outputs": [],
   "source": []
  },
  {
   "cell_type": "code",
   "execution_count": 1,
   "metadata": {},
   "outputs": [
    {
     "name": "stdout",
     "output_type": "stream",
     "text": [
      "[1, 2, 3, 5]\n"
     ]
    }
   ],
   "source": [
    "a = [1,3,5, 2]\n",
    "a = sorted(a)\n",
    "print(a)\n",
    "#오름차순이 기본"
   ]
  },
  {
   "cell_type": "code",
   "execution_count": 11,
   "metadata": {},
   "outputs": [
    {
     "name": "stdout",
     "output_type": "stream",
     "text": [
      "deque([8, 3, 1, 4, 0, 9])\n",
      "[0, 1, 3, 4, 8, 9]\n",
      "0\n"
     ]
    }
   ],
   "source": [
    "k = [8,3,1,4,0,9]\n",
    "from collections import deque\n",
    "a = deque()\n",
    "for i in k:\n",
    "    a.append(i)\n",
    "print(a)\n",
    "a = sorted(a)\n",
    "print(a)\n",
    "#deque도 sorted 됨  근데 list가 되어버림\n",
    "\n",
    "#a = \n",
    "a = deque(a) #deque에 다시 넣어주면 됨\n",
    "print(a.popleft())"
   ]
  },
  {
   "cell_type": "code",
   "execution_count": null,
   "metadata": {},
   "outputs": [],
   "source": []
  },
  {
   "cell_type": "code",
   "execution_count": 4,
   "metadata": {},
   "outputs": [],
   "source": [
    "#기본 이진탐색, 원소 인덱스 찾기 #reculsive\n",
    "def bsearch(start, end, num, A):\n",
    "    print(\"Start   \")\n",
    "    mid = int( (start+end)/2 )\n",
    "    print(mid)\n",
    "    if A[mid] == num:\n",
    "        return mid\n",
    "    elif A[mid] < num:\n",
    "        start = mid + 1\n",
    "        return bsaerch(start, end, num, A)\n",
    "    else:\n",
    "        end = mid - 1\n",
    "        return bsaerch(start, end, num, A)"
   ]
  },
  {
   "cell_type": "code",
   "execution_count": 5,
   "metadata": {},
   "outputs": [],
   "source": [
    "#기본 이진탐색, 원소 인덱스 찾기 #iterative\n",
    "def bsearch(num, A):\n",
    "    start , end = 0, len(A)-1\n",
    "    print(\"Start   \")\n",
    "    while True:\n",
    "        mid = int( (start+end)/2 )\n",
    "        print(mid)\n",
    "        if A[mid] == num:\n",
    "            return mid\n",
    "        elif A[mid] < num:\n",
    "            start = mid + 1\n",
    "        else:\n",
    "            end = mid - 1"
   ]
  },
  {
   "cell_type": "code",
   "execution_count": 8,
   "metadata": {},
   "outputs": [
    {
     "name": "stdout",
     "output_type": "stream",
     "text": [
      "Start   \n",
      "4\n",
      "7\n",
      "7\n"
     ]
    }
   ],
   "source": [
    "a = [1,2,3,4,5,6,7,8,9,10]\n",
    "print( bsearch(8, a))"
   ]
  },
  {
   "cell_type": "code",
   "execution_count": null,
   "metadata": {},
   "outputs": [],
   "source": []
  },
  {
   "cell_type": "code",
   "execution_count": 9,
   "metadata": {},
   "outputs": [],
   "source": [
    "#이진탐색으로 빈 곳 찾기 인덱스 찾기 #iterative\n",
    "def bsearch(num, A):\n",
    "    start , end = 0, len(A)-1\n",
    "    print(\"Start   \")\n",
    "    old_mid = '-77'\n",
    "    while True:\n",
    "        mid = int( (start+end)/2 )\n",
    "        print(mid)\n",
    "        if A[mid] == num:\n",
    "            return mid\n",
    "        elif A[mid] < num:\n",
    "            start = mid + 1\n",
    "            if mid == old_mid:\n",
    "                return mid+1\n",
    "            \n",
    "            old_mid = mid\n",
    "        else:\n",
    "            end = mid - 1\n",
    "            if mid == old_mid:\n",
    "                return mid\n",
    "                \n",
    "                \n",
    "            old_mid = mid"
   ]
  },
  {
   "cell_type": "code",
   "execution_count": 15,
   "metadata": {},
   "outputs": [
    {
     "name": "stdout",
     "output_type": "stream",
     "text": [
      "Start   \n",
      "1\n",
      "2\n",
      "3\n",
      "3\n",
      "4\n"
     ]
    }
   ],
   "source": [
    "a = [4, 9, 10, 50]\n",
    "print( bsearch(51, a) )"
   ]
  },
  {
   "cell_type": "code",
   "execution_count": null,
   "metadata": {},
   "outputs": [],
   "source": []
  },
  {
   "cell_type": "code",
   "execution_count": 33,
   "metadata": {},
   "outputs": [],
   "source": [
    "#acc 12/27 --시간 초과도 있고 오답도 있음.. 시간 초과는 아마도 insert문이 O(n)이라 생기는 듯.. binary search 이점 다 까먹음..\n",
    "#예외처리해줘서 acc 14/27 -> A가 빈 경우 예외처리해줌  \n",
    "#무튼 insert문으로 인해서 시간 초과가 뜸 O(N^2)\n",
    "from collections import deque\n",
    "def bsearch(num, A):\n",
    "    start , end = 0, len(A)-1\n",
    "    #print(\"Start   \")\n",
    "    old_mid = '-77'\n",
    "    while True:\n",
    "        mid = int( (start+end)/2 )\n",
    "        #print(mid)\n",
    "        if A[mid] == num:\n",
    "            return mid\n",
    "        elif A[mid] < num:\n",
    "            start = mid + 1\n",
    "            if mid == old_mid:\n",
    "                return mid+1\n",
    "            \n",
    "            old_mid = mid\n",
    "        else:\n",
    "            end = mid - 1\n",
    "            if mid == old_mid:\n",
    "                return mid\n",
    "                \n",
    "                \n",
    "            old_mid = mid\n",
    "def cookies(k, A):\n",
    "    # Write your code here\n",
    "    \n",
    "    answer = 0\n",
    "    A = deque( sorted(A) )\n",
    "    \n",
    "    while True:\n",
    "        #print(A)\n",
    "        num = A.popleft()\n",
    "        \n",
    "        if num > k:\n",
    "            return answer        \n",
    "        answer += 1\n",
    "        num2 = A.popleft()\n",
    "        \n",
    "        new_num = num + 2 * num2\n",
    "        \n",
    "        if len(A) == 0:\n",
    "            if new_num > k:\n",
    "                return answer\n",
    "            else:\n",
    "                break\n",
    "        \n",
    "        idx = bsearch(new_num, A)\n",
    "        \n",
    "        A.insert(idx, new_num)\n",
    "        A = deque(A)\n",
    "    return -1"
   ]
  },
  {
   "cell_type": "code",
   "execution_count": 34,
   "metadata": {},
   "outputs": [
    {
     "name": "stdout",
     "output_type": "stream",
     "text": [
      "deque([1, 2, 3, 9, 10, 12])\n",
      "deque([3, 5, 9, 10, 12])\n",
      "deque([9, 10, 12, 13])\n"
     ]
    },
    {
     "data": {
      "text/plain": [
       "2"
      ]
     },
     "execution_count": 34,
     "metadata": {},
     "output_type": "execute_result"
    }
   ],
   "source": [
    "cookies(7, [1, 2, 3, 9, 10, 12]  )"
   ]
  },
  {
   "cell_type": "code",
   "execution_count": 35,
   "metadata": {},
   "outputs": [
    {
     "name": "stdout",
     "output_type": "stream",
     "text": [
      "deque([1, 1, 1])\n",
      "deque([1, 3])\n"
     ]
    },
    {
     "data": {
      "text/plain": [
       "-1"
      ]
     },
     "execution_count": 35,
     "metadata": {},
     "output_type": "execute_result"
    }
   ],
   "source": [
    "cookies(10, [1,1,1])"
   ]
  },
  {
   "cell_type": "markdown",
   "metadata": {},
   "source": [
    "  "
   ]
  },
  {
   "cell_type": "markdown",
   "metadata": {},
   "source": [
    " "
   ]
  },
  {
   "cell_type": "markdown",
   "metadata": {},
   "source": [
    "# Trial code: "
   ]
  },
  {
   "cell_type": "code",
   "execution_count": 13,
   "metadata": {},
   "outputs": [],
   "source": [
    "#acc 22/28 timelimit 0/28 runtimeError 6/28  22.01.01 \n",
    "import heapq\n",
    "from heapq import heappush, heappop, heapify\n",
    "def cookies(k, A):\n",
    "    # Write your code here\n",
    "    A = sorted(A)\n",
    "    answer = 0\n",
    "    heapify(A)\n",
    "    \n",
    "    #print(A)\n",
    "    \n",
    "    \n",
    "    while len(A) > 0:\n",
    "        first = heappop(A)\n",
    "        #print(first)\n",
    "        if  first >= k: return answer\n",
    "        \n",
    "        second = heappop(A)\n",
    "        answer += 1\n",
    "        \n",
    "        heappush(A,  first + 2 * second)\n",
    "        \n",
    "    return -1\n",
    "        \n",
    "        \n",
    "    \n",
    "    \n",
    "\n",
    "    "
   ]
  },
  {
   "cell_type": "code",
   "execution_count": 15,
   "metadata": {},
   "outputs": [],
   "source": [
    "#acc 28/28 timelimit 0/28 runtimeError 0/28  22.01.01 \n",
    "import heapq\n",
    "from heapq import heappush, heappop, heapify\n",
    "def cookies(k, A):\n",
    "    # Write your code here\n",
    "    A = sorted(A)\n",
    "    answer = 0\n",
    "    heapify(A)\n",
    "    \n",
    "    #print(A)\n",
    "    \n",
    "    \n",
    "    while len(A) > 0:\n",
    "        first = heappop(A)\n",
    "        #print(first)\n",
    "        if  first >= k: return answer\n",
    "        \n",
    "        if len(A) == 0: return -1\n",
    "        \n",
    "        second = heappop(A)\n",
    "        answer += 1\n",
    "        \n",
    "        heappush(A,  first + 2 * second)\n",
    "        \n",
    "    return -1\n",
    "        "
   ]
  },
  {
   "cell_type": "code",
   "execution_count": 16,
   "metadata": {},
   "outputs": [
    {
     "data": {
      "text/plain": [
       "2"
      ]
     },
     "execution_count": 16,
     "metadata": {},
     "output_type": "execute_result"
    }
   ],
   "source": [
    "cookies(7, [1, 2, 3, 9, 10, 12]  )"
   ]
  },
  {
   "cell_type": "code",
   "execution_count": 18,
   "metadata": {},
   "outputs": [],
   "source": [
    "\n"
   ]
  },
  {
   "cell_type": "code",
   "execution_count": null,
   "metadata": {},
   "outputs": [],
   "source": []
  },
  {
   "cell_type": "code",
   "execution_count": null,
   "metadata": {},
   "outputs": [],
   "source": []
  },
  {
   "cell_type": "code",
   "execution_count": null,
   "metadata": {},
   "outputs": [],
   "source": []
  },
  {
   "cell_type": "code",
   "execution_count": null,
   "metadata": {},
   "outputs": [],
   "source": []
  },
  {
   "cell_type": "code",
   "execution_count": null,
   "metadata": {},
   "outputs": [],
   "source": [
    "\n",
    "\n"
   ]
  },
  {
   "cell_type": "code",
   "execution_count": null,
   "metadata": {},
   "outputs": [],
   "source": []
  },
  {
   "cell_type": "code",
   "execution_count": null,
   "metadata": {},
   "outputs": [],
   "source": []
  },
  {
   "cell_type": "code",
   "execution_count": null,
   "metadata": {},
   "outputs": [],
   "source": []
  },
  {
   "cell_type": "code",
   "execution_count": null,
   "metadata": {},
   "outputs": [],
   "source": []
  },
  {
   "cell_type": "code",
   "execution_count": null,
   "metadata": {},
   "outputs": [],
   "source": []
  },
  {
   "cell_type": "code",
   "execution_count": null,
   "metadata": {},
   "outputs": [],
   "source": []
  },
  {
   "cell_type": "code",
   "execution_count": null,
   "metadata": {},
   "outputs": [],
   "source": []
  },
  {
   "cell_type": "code",
   "execution_count": null,
   "metadata": {},
   "outputs": [],
   "source": []
  },
  {
   "cell_type": "code",
   "execution_count": null,
   "metadata": {},
   "outputs": [],
   "source": []
  },
  {
   "cell_type": "code",
   "execution_count": null,
   "metadata": {},
   "outputs": [],
   "source": []
  },
  {
   "cell_type": "code",
   "execution_count": null,
   "metadata": {},
   "outputs": [],
   "source": []
  },
  {
   "cell_type": "code",
   "execution_count": null,
   "metadata": {},
   "outputs": [],
   "source": []
  }
 ],
 "metadata": {
  "kernelspec": {
   "display_name": "Python 3 (ipykernel)",
   "language": "python",
   "name": "python3"
  },
  "language_info": {
   "codemirror_mode": {
    "name": "ipython",
    "version": 3
   },
   "file_extension": ".py",
   "mimetype": "text/x-python",
   "name": "python",
   "nbconvert_exporter": "python",
   "pygments_lexer": "ipython3",
   "version": "3.9.12"
  }
 },
 "nbformat": 4,
 "nbformat_minor": 4
}

{
 "cells": [
  {
   "cell_type": "markdown",
   "metadata": {},
   "source": [
    "## \"KnightL on a Chessboard\" prob in BFS/DFS "
   ]
  },
  {
   "cell_type": "markdown",
   "metadata": {},
   "source": [
    "  "
   ]
  },
  {
   "cell_type": "markdown",
   "metadata": {},
   "source": [
    "# Problem Link: https://www.hackerrank.com/challenges/knightl-on-chessboard"
   ]
  },
  {
   "cell_type": "markdown",
   "metadata": {},
   "source": [
    "  "
   ]
  },
  {
   "cell_type": "markdown",
   "metadata": {},
   "source": [
    "문제 읽기: 체스판의 크기를 입력받으면  \n",
    "(0,0)에서 출발하여 (n-1, n-1)에 도달하는 데 걸리는 최단 거리를 n x n 매트릭스로 출력  \n",
    "이 때, 나이트가 움직이는 x좌표 y좌표는 매트릭스의 좌표와 같음  \n",
    "또한 도달할 수 없는 경우에는 -1을 매트릭스의 값으로 줌      \n",
    "\n",
    "  \n",
    "입력값: n  \n",
    "출력값: 최단 회수(거리)로 이루어진 n x n 매트릭스  \n",
    "\n",
    "제한사항:  \n",
    "5<= n <= 25  "
   ]
  },
  {
   "cell_type": "markdown",
   "metadata": {},
   "source": [
    "# Solution code:"
   ]
  },
  {
   "cell_type": "code",
   "execution_count": 1,
   "metadata": {},
   "outputs": [],
   "source": [
    "#21.11.14 100%\n",
    "\n",
    "def bfs_shortest_path( i,j, n): #acc100\n",
    "    \n",
    "    go = [\n",
    "        [i,j], [i,-j], [-i,j], [-i,-j],\n",
    "        [j,i], [j,-i], [-j,i], [-j,-i]\n",
    "    ]\n",
    "    target = [n-1, n-1]\n",
    "    bfs = [ [[0,0], 0] ]  #[ x, y, #go]\n",
    "    visited = {}\n",
    "    visited[ str([0,0]) ] = \"visit\"\n",
    "    while len(bfs) > 0:\n",
    "        \n",
    "        now = bfs[0]\n",
    "        \n",
    "        \n",
    "        #if now[1] > 2 * n: break\n",
    "        for i in range(8):\n",
    "            \n",
    "            if [ now[0][0]+go[i][0],now[0][1]+go[i][1] ] == target: return now[1] + 1\n",
    "            else: \n",
    "                #print(now,'   ',go)\n",
    "                new_now = [ [now[0][0]+go[i][0],now[0][1]+go[i][1]  ], now[1] + 1 ]\n",
    "                if(new_now[0][0] < n and new_now[0][1] <n    and\n",
    "                   new_now[0][0] > -1 and new_now[0][1] > -1 and\n",
    "                   new_now[0] != now[0] and\n",
    "                   visited.get(str(new_now[0]) ) is None\n",
    "                  ): \n",
    "                    bfs.append(new_now)\n",
    "                    visited[ str(new_now[0]) ] = \"visit\"\n",
    "        \n",
    "        del bfs[0]\n",
    "    \n",
    "    return -1\n",
    "        \n",
    "        \n",
    "    \n",
    "    \n",
    "    \n",
    "\n",
    "\n",
    "def knightlOnAChessboard(n):\n",
    "    # Write your code here\n",
    "    result = []\n",
    "    for i in range(1, n):\n",
    "        result_line_i = []\n",
    "        for j in range(1, n):\n",
    "            result_line_i.append( bfs_shortest_path( i, j, n) )\n",
    "        result.append(result_line_i)\n",
    "    return result\n"
   ]
  },
  {
   "cell_type": "markdown",
   "metadata": {},
   "source": [
    " "
   ]
  },
  {
   "cell_type": "markdown",
   "metadata": {},
   "source": [
    "# 해설:\n",
    "\n",
    "그냥 BFS돌리면 됨  \n",
    "이미 방문한 곳 체크해주는 dictionary를 사용한 점이 작은 특징점  \n"
   ]
  },
  {
   "cell_type": "markdown",
   "metadata": {},
   "source": [
    "  "
   ]
  },
  {
   "cell_type": "markdown",
   "metadata": {},
   "source": [
    " # 시간복잡도:\n",
    " \n",
    " (0,0)에서 (n,n)까지 갈 수 있는 모든 경우를 다 방문할 경우 약 O(n^2)  \n",
    " n x n 매트릭스 각 좌표마다 O(n^2)이므로  \n",
    " 총 시간 복잡도는 O(n^4)  "
   ]
  },
  {
   "cell_type": "markdown",
   "metadata": {},
   "source": [
    "  "
   ]
  },
  {
   "cell_type": "markdown",
   "metadata": {},
   "source": [
    "# 다시 풀어 본 코드: "
   ]
  },
  {
   "cell_type": "code",
   "execution_count": null,
   "metadata": {},
   "outputs": [],
   "source": []
  },
  {
   "cell_type": "markdown",
   "metadata": {},
   "source": [
    "  "
   ]
  },
  {
   "cell_type": "markdown",
   "metadata": {},
   "source": [
    " "
   ]
  },
  {
   "cell_type": "markdown",
   "metadata": {},
   "source": [
    "# 시행착오 코드: "
   ]
  },
  {
   "cell_type": "code",
   "execution_count": null,
   "metadata": {},
   "outputs": [],
   "source": []
  },
  {
   "cell_type": "code",
   "execution_count": null,
   "metadata": {},
   "outputs": [],
   "source": []
  }
 ],
 "metadata": {
  "kernelspec": {
   "display_name": "Python 3",
   "language": "python",
   "name": "python3"
  },
  "language_info": {
   "codemirror_mode": {
    "name": "ipython",
    "version": 3
   },
   "file_extension": ".py",
   "mimetype": "text/x-python",
   "name": "python",
   "nbconvert_exporter": "python",
   "pygments_lexer": "ipython3",
   "version": "3.8.3"
  }
 },
 "nbformat": 4,
 "nbformat_minor": 4
}

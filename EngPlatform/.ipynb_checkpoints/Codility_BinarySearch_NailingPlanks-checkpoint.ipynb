{
 "cells": [
  {
   "cell_type": "markdown",
   "metadata": {},
   "source": [
    "## \"NailingPlanks\" prob in Binary Search"
   ]
  },
  {
   "cell_type": "markdown",
   "metadata": {},
   "source": [
    "  "
   ]
  },
  {
   "cell_type": "markdown",
   "metadata": {},
   "source": [
    "# Problem Link: https://app.codility.com/programmers/lessons/14-binary_search_algorithm/nailing_planks/"
   ]
  },
  {
   "cell_type": "markdown",
   "metadata": {},
   "source": [
    "  "
   ]
  },
  {
   "cell_type": "markdown",
   "metadata": {},
   "source": [
    "문제 읽기: 골판지들(planks)을 못(nails)로 박아야함  \n",
    "골판지 부착 부위가 A[i] 에서 B[i]로 주어짐  \n",
    "못 C[j]의 범위가 A[i]에서 B[i]에 들어간다면  \n",
    "못을 박을 수 있음  \n",
    "골판지 다 못 박는 경우 -1 반환  \n",
    "  \n",
    "입력값: A, B, C  \n",
    "출력값: 골판지를 다 박는데 사용한 못의 개수    \n",
    "\n",
    "제한사항:  \n",
    "골판지 개수 N, 못 개수 M 의 범위는 [1..30,000]  \n",
    "A, B, C 원소들의 값의 범위는 [1..2*M]  \n",
    "A[K] <= B[K]    "
   ]
  },
  {
   "cell_type": "markdown",
   "metadata": {},
   "source": [
    "# Trial code:"
   ]
  },
  {
   "cell_type": "code",
   "execution_count": 4,
   "metadata": {},
   "outputs": [],
   "source": [
    "#21.12.16 50% correctness100, efficience0, no-timeout0\n",
    "#no binary search, O(n^2)\n",
    "\n",
    "def linear_search(val, ranges):\n",
    "\n",
    "    for i in range(len(ranges) ):\n",
    "        if val >= ranges[i][0] and val <= ranges[i][1]:\n",
    "            return i        \n",
    "        \n",
    "    \n",
    "    return -1\n",
    "def solution(A, B, C):\n",
    "    # write your code in Python 3.6\n",
    "    #pass\n",
    "    n = len(A)\n",
    "    sol = 0\n",
    "    #range make\n",
    "    ranges = []\n",
    "\n",
    "    for i in range(n):\n",
    "        ranges.append( [A[i], B[i] ] )\n",
    "    ranges = sorted(ranges)\n",
    "    #C = sorted(C)\n",
    "    for i in range(len(C)):\n",
    "        if n == 0: break\n",
    "        c = C[i]\n",
    "        while True:\n",
    "            b_out = linear_search(c, ranges)\n",
    "            print(\"c is : %.d, b_out is : %.d\" %(c, b_out), \"ranges is \", ranges)\n",
    "            if b_out == -1: break\n",
    "            else: \n",
    "                del ranges[b_out]\n",
    "                n -= 1\n",
    "        print(n)\n",
    "    if i == 0: i+=1\n",
    "    if n == 0: return i\n",
    "    else: return -1\n"
   ]
  },
  {
   "cell_type": "code",
   "execution_count": 1,
   "metadata": {},
   "outputs": [],
   "source": [
    "#21.12.15 50% correctness75, efficience25, no-timeout100\n",
    "\n",
    "# you can write to stdout for debugging purposes, e.g.\n",
    "# print(\"this is a debug message\")\n",
    "\n",
    "def binary_search(val, ranges):\n",
    "\n",
    "    start = 0\n",
    "    end = len(ranges)-1\n",
    "    retVal = 0\n",
    "    n = len(ranges)\n",
    "    mid, mid_past = -1, -2\n",
    "    \n",
    "    while True:\n",
    "        #if start == end: break\n",
    "        mid = (start+end)//2\n",
    "        if mid == mid_past: break\n",
    "        \n",
    "        if mid < 0 or mid > n-1: break\n",
    "        \n",
    "        \n",
    "        \n",
    "        print(\"start: %.d, mid: %.d, end: %.d\" %(start, mid, end) )\n",
    "\n",
    "        if val >= ranges[mid][0] and val <= ranges[mid][1]:\n",
    "            return mid        \n",
    "        else:\n",
    "            if val > ranges[mid][1]: start = mid\n",
    "            else: end = mid\n",
    "        mid_past = mid\n",
    "        \n",
    "        \n",
    "    \n",
    "    return -1\n",
    "def solution(A, B, C):\n",
    "    # write your code in Python 3.6\n",
    "    #pass\n",
    "    n = len(A)\n",
    "    sol = 0\n",
    "    #range make\n",
    "    ranges = []\n",
    "\n",
    "    for i in range(n):\n",
    "        ranges.append( [A[i], B[i] ] )\n",
    "    ranges = sorted(ranges)\n",
    "    #C = sorted(C)\n",
    "    for i in range(len(C)):\n",
    "        if n == 0: break\n",
    "        c = C[i]\n",
    "        while True:\n",
    "            b_out = binary_search(c, ranges)\n",
    "            print(\"c is : %.d, b_out is : %.d\" %(c, b_out), \"ranges is \", ranges)\n",
    "            if b_out == -1: break\n",
    "            else: \n",
    "                del ranges[b_out]\n",
    "                n -= 1\n",
    "        print(n)\n",
    "    if i == 0: i+=1\n",
    "    if n == 0: return i\n",
    "    else: return -1\n"
   ]
  },
  {
   "cell_type": "markdown",
   "metadata": {},
   "source": [
    "# Test cases"
   ]
  },
  {
   "cell_type": "code",
   "execution_count": 8,
   "metadata": {},
   "outputs": [],
   "source": [
    "#solution([1],[4],[4,6,7,10,2]) #1\n",
    "#solution([1,4,5,8],[4,5,9,10],[4,6,7,10,2]) #4\n",
    "#solution([1], [2], [2]) #1\n"
   ]
  },
  {
   "cell_type": "markdown",
   "metadata": {},
   "source": [
    "# Solution code:"
   ]
  },
  {
   "cell_type": "code",
   "execution_count": null,
   "metadata": {},
   "outputs": [],
   "source": []
  },
  {
   "cell_type": "markdown",
   "metadata": {},
   "source": [
    " "
   ]
  },
  {
   "cell_type": "markdown",
   "metadata": {},
   "source": [
    "# 해설:\n",
    "\n"
   ]
  },
  {
   "cell_type": "markdown",
   "metadata": {},
   "source": [
    "  "
   ]
  },
  {
   "cell_type": "markdown",
   "metadata": {},
   "source": [
    " # 시간복잡도:\n",
    " \n",
    " "
   ]
  },
  {
   "cell_type": "markdown",
   "metadata": {},
   "source": [
    "  "
   ]
  },
  {
   "cell_type": "markdown",
   "metadata": {},
   "source": [
    "# 다시 풀어 본 코드: "
   ]
  },
  {
   "cell_type": "code",
   "execution_count": null,
   "metadata": {},
   "outputs": [],
   "source": []
  },
  {
   "cell_type": "markdown",
   "metadata": {},
   "source": [
    "  "
   ]
  },
  {
   "cell_type": "markdown",
   "metadata": {},
   "source": [
    " "
   ]
  },
  {
   "cell_type": "markdown",
   "metadata": {},
   "source": [
    "# 시행착오 코드: "
   ]
  },
  {
   "cell_type": "code",
   "execution_count": null,
   "metadata": {},
   "outputs": [],
   "source": []
  },
  {
   "cell_type": "code",
   "execution_count": null,
   "metadata": {},
   "outputs": [],
   "source": []
  }
 ],
 "metadata": {
  "kernelspec": {
   "display_name": "Python 3",
   "language": "python",
   "name": "python3"
  },
  "language_info": {
   "codemirror_mode": {
    "name": "ipython",
    "version": 3
   },
   "file_extension": ".py",
   "mimetype": "text/x-python",
   "name": "python",
   "nbconvert_exporter": "python",
   "pygments_lexer": "ipython3",
   "version": "3.8.3"
  }
 },
 "nbformat": 4,
 "nbformat_minor": 4
}

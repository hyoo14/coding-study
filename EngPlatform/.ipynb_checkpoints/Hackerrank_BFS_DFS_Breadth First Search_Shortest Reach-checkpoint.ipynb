{
 "cells": [
  {
   "cell_type": "markdown",
   "metadata": {},
   "source": [
    "## \"Breadth First Search: Shortest Reach\" prob in BFS/DFS"
   ]
  },
  {
   "cell_type": "markdown",
   "metadata": {},
   "source": [
    "  "
   ]
  },
  {
   "cell_type": "markdown",
   "metadata": {},
   "source": [
    "# Problem Link: https://www.hackerrank.com/challenges/bfsshortreach/problem"
   ]
  },
  {
   "cell_type": "markdown",
   "metadata": {},
   "source": [
    "  "
   ]
  },
  {
   "cell_type": "markdown",
   "metadata": {},
   "source": [
    "Problem:   \n",
    "node개수, edge들 입력 받고  \n",
    "시작점은 s로 주어짐   \n",
    "만약 모든 시작점이 1이라면    \n",
    "1에서 2 .. n으로 가는 최단거리 리스트 반환해야  \n",
    "  \n",
    "Input: n, edges   \n",
    "Output: [s부터 1 최단, s부터 2최단, .. , s부터 n최단]  \n",
    "\n",
    "Assumptions:  \n",
    "경로 없는 경우는 -1  "
   ]
  },
  {
   "cell_type": "markdown",
   "metadata": {},
   "source": [
    "# Solved code:"
   ]
  },
  {
   "cell_type": "code",
   "execution_count": 1,
   "metadata": {},
   "outputs": [],
   "source": [
    "#21.12.31 100% correctness100, performance100, no-timeout100\n",
    "\n",
    "def bfs(n, m, edges, s): #node num, edge num, edges, start point s\n",
    "    # Write your code here\n",
    "    \n",
    "    #\n",
    "    cango = {}\n",
    "    s_path = {}\n",
    "    visited_edge = {}\n",
    "    #for i in range(1, n+1): s_path[i] = -1\n",
    "    \n",
    "    for edge in edges:\n",
    "        if cango.get(edge[0]) is None: cango[edge[0]] = set()\n",
    "        cango[edge[0]].add(edge[1])\n",
    "        \n",
    "        if cango.get(edge[1]) is None: cango[edge[1]] = set()\n",
    "        cango[edge[1]].add(edge[0])\n",
    "    \n",
    "    \n",
    "    #do bfs\n",
    "    bfs = [[s, 0] ]\n",
    "    bfs_len = 1\n",
    "    \n",
    "    while bfs_len > 0:\n",
    "        \n",
    "        pop_start, pop_path = bfs[0][0],  bfs[0][1]\n",
    "        del bfs[0]\n",
    "        bfs_len -= 1\n",
    "        \n",
    "        if cango.get(pop_start) is None: continue #노드 없어서 방문 못 할 경우 continue###\n",
    "        \n",
    "        for next_node in cango[pop_start]:\n",
    "            if( visited_edge.get( str([next_node, pop_start]) ) is None and \n",
    "               visited_edge.get( str([pop_start, next_node]) ) is None):\n",
    "                if s_path.get(next_node) is None: s_path[next_node] = pop_path + 6\n",
    "                else: \n",
    "                    if s_path[next_node] > pop_path + 1: s_path[next_node] = pop_path + 6\n",
    "                bfs.append( [next_node, pop_path+6 ])\n",
    "                bfs_len += 1\n",
    "                visited_edge[ str(  [next_node, pop_start] )] = \"visited\"\n",
    "                visited_edge[ str(  [pop_start, next_node] )] = \"visited\"\n",
    "        del cango[pop_start] #이미 방문한 노드 지워줌 ###\n",
    "        \n",
    "    #for i in range(1, n+1): if s_path.get(i) is None:  s_path[i] = -1 \n",
    "    \n",
    "    ret_list = []\n",
    "    for i in range(1, n+1):\n",
    "        if i == s: continue\n",
    "        \n",
    "        if s_path.get(i) is None: ret_list.append(-1)\n",
    "        else: ret_list.append( s_path[i])\n",
    "    #print(s_path)\n",
    "    #print(cango)\n",
    "    #print(ret_list)\n",
    "    return ret_list\n"
   ]
  },
  {
   "cell_type": "markdown",
   "metadata": {},
   "source": [
    "# Test cases"
   ]
  },
  {
   "cell_type": "code",
   "execution_count": 1,
   "metadata": {},
   "outputs": [],
   "source": []
  },
  {
   "cell_type": "code",
   "execution_count": null,
   "metadata": {},
   "outputs": [],
   "source": []
  },
  {
   "cell_type": "code",
   "execution_count": null,
   "metadata": {},
   "outputs": [],
   "source": []
  },
  {
   "cell_type": "code",
   "execution_count": null,
   "metadata": {},
   "outputs": [],
   "source": [
    "\"\"\"              #4 5\n",
    "m=101\n",
    "ar_text = \"722 600 905 54 47\"\n",
    "arr = ar_text.split(\" \")\n",
    "for i in range(len(arr)): arr[i] = int(arr[i])\n",
    "icecreamParlor(m, arr)\n",
    "\"\"\""
   ]
  },
  {
   "cell_type": "markdown",
   "metadata": {},
   "source": [
    " "
   ]
  },
  {
   "cell_type": "markdown",
   "metadata": {},
   "source": [
    "# Commentary:\n",
    "\n",
    "BFS 짜는 것인데..  \n",
    "edge 방문한 경우 재방문 안 하도록 edge_visited 사전을 사용  \n",
    "자꾸 time complexity가 났던 이유는 vertex 방문하여 이 vertex에서 갈 수 있는 다른 vertex를 이미 모두 bfs에 넣은 경우를 고려치 못 함  \n",
    "즉, vertex 이미 방문한 경우 지워줘야함.  \n",
    "이거 처리해서 문제 풀음  "
   ]
  },
  {
   "cell_type": "markdown",
   "metadata": {},
   "source": [
    "  "
   ]
  },
  {
   "cell_type": "markdown",
   "metadata": {},
   "source": [
    " # Time complexity:\n",
    " \n",
    "edge 방문: O(N)  \n",
    "vertex 방문: O(M)  \n",
    "\n",
    "total: O(N+M)    \n",
    " "
   ]
  },
  {
   "cell_type": "markdown",
   "metadata": {},
   "source": [
    "  "
   ]
  },
  {
   "cell_type": "markdown",
   "metadata": {},
   "source": [
    "# Re-trial code: "
   ]
  },
  {
   "cell_type": "code",
   "execution_count": null,
   "metadata": {},
   "outputs": [],
   "source": []
  },
  {
   "cell_type": "markdown",
   "metadata": {},
   "source": [
    "  "
   ]
  },
  {
   "cell_type": "markdown",
   "metadata": {},
   "source": [
    " "
   ]
  },
  {
   "cell_type": "markdown",
   "metadata": {},
   "source": [
    "# Trial code: "
   ]
  },
  {
   "cell_type": "code",
   "execution_count": 14,
   "metadata": {},
   "outputs": [],
   "source": [
    "#acc 7/8 timelimit 1/8  21.12.31 \n",
    "\n",
    "def bfs(n, m, edges, s): #node개수, edge개수, edge들, 시점s\n",
    "    # Write your code here\n",
    "    \n",
    "    #\n",
    "    cango = {}\n",
    "    s_path = {}\n",
    "    visited_edge = {}\n",
    "    #for i in range(1, n+1): s_path[i] = -1\n",
    "    \n",
    "    for edge in edges:\n",
    "        if cango.get(edge[0]) is None: cango[edge[0]] = set()\n",
    "        cango[edge[0]].add(edge[1])\n",
    "        \n",
    "        if cango.get(edge[1]) is None: cango[edge[1]] = set()\n",
    "        cango[edge[1]].add(edge[0])\n",
    "    \n",
    "    \n",
    "    #do bfs\n",
    "    bfs = [[s, 0] ]\n",
    "    bfs_len = 1\n",
    "    \n",
    "    while bfs_len > 0:\n",
    "        \n",
    "        pop_start, pop_path = bfs[0][0],  bfs[0][1]\n",
    "        del bfs[0]\n",
    "        bfs_len -= 1\n",
    "        \n",
    "        for next_node in cango[pop_start]:\n",
    "            if( visited_edge.get( str([next_node, pop_start]) ) is None and \n",
    "               visited_edge.get( str([pop_start, next_node]) ) is None):\n",
    "                if s_path.get(next_node) is None: s_path[next_node] = pop_path + 6\n",
    "                else: \n",
    "                    if s_path[next_node] > pop_path + 1: s_path[next_node] = pop_path + 6\n",
    "                bfs.append( [next_node, pop_path+6 ])\n",
    "                bfs_len += 1\n",
    "                visited_edge[ str(  [next_node, pop_start] )] = \"visited\"\n",
    "                visited_edge[ str(  [pop_start, next_node] )] = \"visited\"\n",
    "        \n",
    "    for i in range(1, n+1):\n",
    "        if s_path.get(i) is None:  s_path[i] = -1 \n",
    "    \n",
    "    ret_list = []\n",
    "    for i in range(1, n+1):\n",
    "        if i == s: continue\n",
    "        ret_list.append( s_path[i])\n",
    "    #print(s_path)\n",
    "    #print(cango)\n",
    "    #print(ret_list)\n",
    "    return ret_list\n",
    "    \n",
    "    \n",
    "    "
   ]
  },
  {
   "cell_type": "code",
   "execution_count": null,
   "metadata": {},
   "outputs": [],
   "source": []
  },
  {
   "cell_type": "code",
   "execution_count": 18,
   "metadata": {},
   "outputs": [],
   "source": [
    "#acc100 21.12.31\n",
    "\n",
    "def bfs(n, m, edges, s): #node num, edge num, edges, start point s\n",
    "    # Write your code here\n",
    "    \n",
    "    #\n",
    "    cango = {}\n",
    "    s_path = {}\n",
    "    visited_edge = {}\n",
    "    #for i in range(1, n+1): s_path[i] = -1\n",
    "    \n",
    "    for edge in edges:\n",
    "        if cango.get(edge[0]) is None: cango[edge[0]] = set()\n",
    "        cango[edge[0]].add(edge[1])\n",
    "        \n",
    "        if cango.get(edge[1]) is None: cango[edge[1]] = set()\n",
    "        cango[edge[1]].add(edge[0])\n",
    "    \n",
    "    \n",
    "    #do bfs\n",
    "    bfs = [[s, 0] ]\n",
    "    bfs_len = 1\n",
    "    \n",
    "    while bfs_len > 0:\n",
    "        \n",
    "        pop_start, pop_path = bfs[0][0],  bfs[0][1]\n",
    "        del bfs[0]\n",
    "        bfs_len -= 1\n",
    "        \n",
    "        if cango.get(pop_start) is None: continue\n",
    "        \n",
    "        for next_node in cango[pop_start]:\n",
    "            if( visited_edge.get( str([next_node, pop_start]) ) is None and \n",
    "               visited_edge.get( str([pop_start, next_node]) ) is None):\n",
    "                if s_path.get(next_node) is None: s_path[next_node] = pop_path + 6\n",
    "                else: \n",
    "                    if s_path[next_node] > pop_path + 1: s_path[next_node] = pop_path + 6\n",
    "                bfs.append( [next_node, pop_path+6 ])\n",
    "                bfs_len += 1\n",
    "                visited_edge[ str(  [next_node, pop_start] )] = \"visited\"\n",
    "                visited_edge[ str(  [pop_start, next_node] )] = \"visited\"\n",
    "        del cango[pop_start]\n",
    "        \n",
    "    #for i in range(1, n+1): if s_path.get(i) is None:  s_path[i] = -1 \n",
    "    \n",
    "    ret_list = []\n",
    "    for i in range(1, n+1):\n",
    "        if i == s: continue\n",
    "        \n",
    "        if s_path.get(i) is None: ret_list.append(-1)\n",
    "        else: ret_list.append( s_path[i])\n",
    "    #print(s_path)\n",
    "    #print(cango)\n",
    "    #print(ret_list)\n",
    "    return ret_list\n"
   ]
  },
  {
   "cell_type": "code",
   "execution_count": null,
   "metadata": {},
   "outputs": [],
   "source": []
  },
  {
   "cell_type": "code",
   "execution_count": null,
   "metadata": {},
   "outputs": [],
   "source": []
  },
  {
   "cell_type": "code",
   "execution_count": 19,
   "metadata": {},
   "outputs": [
    {
     "data": {
      "text/plain": [
       "[6, 6, 12, -1]"
      ]
     },
     "execution_count": 19,
     "metadata": {},
     "output_type": "execute_result"
    }
   ],
   "source": [
    "bfs(5, 3, [[1,2],[1,3],[3,4]], 1)"
   ]
  },
  {
   "cell_type": "code",
   "execution_count": null,
   "metadata": {},
   "outputs": [],
   "source": []
  },
  {
   "cell_type": "code",
   "execution_count": null,
   "metadata": {},
   "outputs": [],
   "source": [
    "\n",
    "\n"
   ]
  },
  {
   "cell_type": "code",
   "execution_count": null,
   "metadata": {},
   "outputs": [],
   "source": []
  },
  {
   "cell_type": "code",
   "execution_count": null,
   "metadata": {},
   "outputs": [],
   "source": []
  },
  {
   "cell_type": "code",
   "execution_count": null,
   "metadata": {},
   "outputs": [],
   "source": []
  },
  {
   "cell_type": "code",
   "execution_count": null,
   "metadata": {},
   "outputs": [],
   "source": []
  },
  {
   "cell_type": "code",
   "execution_count": null,
   "metadata": {},
   "outputs": [],
   "source": []
  },
  {
   "cell_type": "code",
   "execution_count": null,
   "metadata": {},
   "outputs": [],
   "source": []
  },
  {
   "cell_type": "code",
   "execution_count": null,
   "metadata": {},
   "outputs": [],
   "source": []
  },
  {
   "cell_type": "code",
   "execution_count": null,
   "metadata": {},
   "outputs": [],
   "source": []
  },
  {
   "cell_type": "code",
   "execution_count": null,
   "metadata": {},
   "outputs": [],
   "source": []
  },
  {
   "cell_type": "code",
   "execution_count": null,
   "metadata": {},
   "outputs": [],
   "source": []
  },
  {
   "cell_type": "code",
   "execution_count": null,
   "metadata": {},
   "outputs": [],
   "source": []
  },
  {
   "cell_type": "code",
   "execution_count": null,
   "metadata": {},
   "outputs": [],
   "source": []
  }
 ],
 "metadata": {
  "kernelspec": {
   "display_name": "Python 3",
   "language": "python",
   "name": "python3"
  },
  "language_info": {
   "codemirror_mode": {
    "name": "ipython",
    "version": 3
   },
   "file_extension": ".py",
   "mimetype": "text/x-python",
   "name": "python",
   "nbconvert_exporter": "python",
   "pygments_lexer": "ipython3",
   "version": "3.8.5"
  }
 },
 "nbformat": 4,
 "nbformat_minor": 4
}

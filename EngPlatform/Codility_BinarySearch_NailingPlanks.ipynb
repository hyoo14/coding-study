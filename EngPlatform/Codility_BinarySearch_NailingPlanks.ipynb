{
 "cells": [
  {
   "cell_type": "markdown",
   "metadata": {},
   "source": [
    "## \"NailingPlanks\" prob in Binary Search"
   ]
  },
  {
   "cell_type": "markdown",
   "metadata": {},
   "source": [
    "  "
   ]
  },
  {
   "cell_type": "markdown",
   "metadata": {},
   "source": [
    "# Problem Link: https://app.codility.com/programmers/lessons/14-binary_search_algorithm/nailing_planks/"
   ]
  },
  {
   "cell_type": "markdown",
   "metadata": {},
   "source": [
    "  "
   ]
  },
  {
   "cell_type": "markdown",
   "metadata": {},
   "source": [
    "문제 읽기: 골판지들(planks)을 못(nails)로 박아야함  \n",
    "골판지 부착 부위가 A[i] 에서 B[i]로 주어짐  \n",
    "못 C[j]의 범위가 A[i]에서 B[i]에 들어간다면  \n",
    "못을 박을 수 있음  \n",
    "골판지 다 못 박는 경우 -1 반환  \n",
    "  \n",
    "입력값: A, B, C  \n",
    "출력값: 골판지를 다 박는데 사용한 못의 개수    \n",
    "\n",
    "제한사항:  \n",
    "골판지 개수 N, 못 개수 M 의 범위는 [1..30,000]  \n",
    "A, B, C 원소들의 값의 범위는 [1..2*M]  \n",
    "A[K] <= B[K]    "
   ]
  },
  {
   "cell_type": "markdown",
   "metadata": {},
   "source": [
    "# Solved code:"
   ]
  },
  {
   "cell_type": "code",
   "execution_count": null,
   "metadata": {},
   "outputs": [],
   "source": [
    "#21.12.18 100% correctness100, efficience100, no-timeout100\n",
    "def binary_search(val, ranges):\n",
    "\n",
    "    start = 0\n",
    "    end = len(ranges)-1\n",
    "    retVal = 0\n",
    "    n = len(ranges)\n",
    "    mid, mid_past = -1, -2\n",
    "    \n",
    "    if len(ranges) == 0: return -1\n",
    "    \n",
    "    while True:\n",
    "        #if start == end: break\n",
    "        mid = (start+end)//2\n",
    "        if mid == mid_past: break\n",
    "        \n",
    "        if mid < 0 or mid > n-1: break\n",
    "        \n",
    "        \n",
    "        \n",
    "        print(\"start: %.d, mid: %.d, end: %.d\" %(start, mid, end) )\n",
    "\n",
    "        if val >= ranges[mid][0] and val <= ranges[mid][1]:\n",
    "            return mid        \n",
    "        else:\n",
    "            if val > ranges[mid][1]: start = mid+1\n",
    "            else: end = mid-1\n",
    "        mid_past = mid\n",
    "        \n",
    "        \n",
    "    \n",
    "    return -1\n",
    "\n",
    "\n",
    "def solution(A, B, C):\n",
    "    # write your code in Python 3.6\n",
    "    #pass\n",
    "    n = len(A)\n",
    "    sol = 0\n",
    "    #range make\n",
    "    ranges = []\n",
    "\n",
    "    for i in range(n):\n",
    "        ranges.append( [A[i], B[i] ] )\n",
    "    ranges = sorted(ranges)\n",
    "    #C = sorted(C)\n",
    "    for i in range(len(C)):\n",
    "        \n",
    "        c = C[i]\n",
    "        while True:\n",
    "            b_out = binary_search(c, ranges)\n",
    "            print(\"c is : %.d, b_out is : %.d\" %(c, b_out), \"ranges is \", ranges)\n",
    "            if b_out == -1: break\n",
    "            else: \n",
    "                del ranges[b_out]\n",
    "                n -= 1\n",
    "        if n == 0: return i+1 #break\n",
    "        print(n)\n",
    "#     if i == 0: i+=1\n",
    "#     if n == 0: return i\n",
    "#     else: return -1\n",
    "    \n",
    "    return -1"
   ]
  },
  {
   "cell_type": "markdown",
   "metadata": {},
   "source": [
    "# Test cases"
   ]
  },
  {
   "cell_type": "code",
   "execution_count": 31,
   "metadata": {},
   "outputs": [],
   "source": [
    "#solution([1],[4],[4,6,7,10,2]) #1\n",
    "#solution([1,4,5,8],[4,5,9,10],[4,6,7,10,2]) #4\n",
    "#solution([1], [2], [2]) #1\n"
   ]
  },
  {
   "cell_type": "markdown",
   "metadata": {},
   "source": [
    " "
   ]
  },
  {
   "cell_type": "markdown",
   "metadata": {},
   "source": [
    "# Commentary:\n",
    "\n",
    "flank 범위로 ranges 만들고, 이 ranges 정렬하고,  \n",
    "nails에서 nail 하나마다 ranges에 포함되는 경우가 있는지 체크하면서,  \n",
    "ranges가 모두 비면.. 이 때까지 사용된 nails의 개수를 리턴해주면 됨  \n",
    "특히, nail이 속하는 range를 찾을 때 binary search를 찾는 것이 포인트임  \n",
    "  \n",
    "왜 한방에 빠르게 못 풀었냐 하면..  \n",
    "첫째는 binary search의 구현에 문제가 있었음  \n",
    "범위를 좁혀갈 때, end의 경우 mid-1로하고 start의 경우 mid+1로 해야했고(나는 그냥 mid로 해서 범위가 잘 안 좁혀짐)  \n",
    "이 때의 while문은 start가 end 보다 커진 경우에 중단되도록 해야했음  \n",
    "두번째는 nail 개수 구하는 것에 문제가 있었음..  \n",
    "ranges에서 삭제해주고 다 괜찮았는데, ranges의 개수가 0이 되었는지를 체크해주는 while문 안의 위치가 문제였음  \n",
    "while문 첫단에서 체크해주기 때문에 개수를 체크해주는 인덱스 i가 1이 추가되는 문제가 생겼고  \n",
    "그래서 i+1을 리턴을 못 해주었으며, i 리턴으로도 맞는 경우가 있었지만 i 리턴 시 +1을 추가해줘야하는데  \n",
    "(아마 len(N)까지 다 케어해야 하는데 못 하는 경우)  \n",
    "이 경우를 커버하지 못 했기 때문에 문제였음  \n",
    "\n",
    "이러한 나의 어려움을 해결해 준 좋은 레퍼런스는 아래와 같음  \n",
    "https://stackoverflow.com/questions/62133735/codility-nailingplanks"
   ]
  },
  {
   "cell_type": "markdown",
   "metadata": {},
   "source": [
    "  "
   ]
  },
  {
   "cell_type": "markdown",
   "metadata": {},
   "source": [
    " # 시간복잡도:\n",
    " \n",
    " log(n)"
   ]
  },
  {
   "cell_type": "markdown",
   "metadata": {},
   "source": [
    "  "
   ]
  },
  {
   "cell_type": "markdown",
   "metadata": {},
   "source": [
    "# 다시 풀어 본 코드: "
   ]
  },
  {
   "cell_type": "code",
   "execution_count": null,
   "metadata": {},
   "outputs": [],
   "source": []
  },
  {
   "cell_type": "markdown",
   "metadata": {},
   "source": [
    "  "
   ]
  },
  {
   "cell_type": "markdown",
   "metadata": {},
   "source": [
    " "
   ]
  },
  {
   "cell_type": "markdown",
   "metadata": {},
   "source": [
    "# Trial code: "
   ]
  },
  {
   "cell_type": "code",
   "execution_count": null,
   "metadata": {},
   "outputs": [],
   "source": [
    "#21.12.16 50% correctness100, efficience0, no-timeout0\n",
    "#no binary search, O(n^2)\n",
    "\n",
    "def linear_search(val, ranges):\n",
    "\n",
    "    for i in range(len(ranges) ):\n",
    "        if val >= ranges[i][0] and val <= ranges[i][1]:\n",
    "            return i        \n",
    "        \n",
    "    \n",
    "    return -1\n",
    "def solution(A, B, C):\n",
    "    # write your code in Python 3.6\n",
    "    #pass\n",
    "    n = len(A)\n",
    "    sol = 0\n",
    "    #range make\n",
    "    ranges = []\n",
    "\n",
    "    for i in range(n):\n",
    "        ranges.append( [A[i], B[i] ] )\n",
    "    ranges = sorted(ranges)\n",
    "    #C = sorted(C)\n",
    "    for i in range(len(C)):\n",
    "        if n == 0: break\n",
    "        c = C[i]\n",
    "        while True:\n",
    "            b_out = linear_search(c, ranges)\n",
    "            print(\"c is : %.d, b_out is : %.d\" %(c, b_out), \"ranges is \", ranges)\n",
    "            if b_out == -1: break\n",
    "            else: \n",
    "                del ranges[b_out]\n",
    "                n -= 1\n",
    "        print(n)\n",
    "    if i == 0: i+=1\n",
    "    if n == 0: return i\n",
    "    else: return -1\n"
   ]
  },
  {
   "cell_type": "code",
   "execution_count": null,
   "metadata": {},
   "outputs": [],
   "source": [
    "#21.12.15 50% correctness75, efficience25, no-timeout100\n",
    "\n",
    "# you can write to stdout for debugging purposes, e.g.\n",
    "# print(\"this is a debug message\")\n",
    "\n",
    "def binary_search(val, ranges):\n",
    "\n",
    "    start = 0\n",
    "    end = len(ranges)-1\n",
    "    retVal = 0\n",
    "    n = len(ranges)\n",
    "    mid, mid_past = -1, -2\n",
    "    \n",
    "    while True:\n",
    "        #if start == end: break\n",
    "        mid = (start+end)//2\n",
    "        if mid == mid_past: break\n",
    "        \n",
    "        if mid < 0 or mid > n-1: break\n",
    "        \n",
    "        \n",
    "        \n",
    "        print(\"start: %.d, mid: %.d, end: %.d\" %(start, mid, end) )\n",
    "\n",
    "        if val >= ranges[mid][0] and val <= ranges[mid][1]:\n",
    "            return mid        \n",
    "        else:\n",
    "            if val > ranges[mid][1]: start = mid\n",
    "            else: end = mid\n",
    "        mid_past = mid\n",
    "        \n",
    "        \n",
    "    \n",
    "    return -1\n",
    "def solution(A, B, C):\n",
    "    # write your code in Python 3.6\n",
    "    #pass\n",
    "    n = len(A)\n",
    "    sol = 0\n",
    "    #range make\n",
    "    ranges = []\n",
    "\n",
    "    for i in range(n):\n",
    "        ranges.append( [A[i], B[i] ] )\n",
    "    ranges = sorted(ranges)\n",
    "    #C = sorted(C)\n",
    "    for i in range(len(C)):\n",
    "        if n == 0: break\n",
    "        c = C[i]\n",
    "        while True:\n",
    "            b_out = binary_search(c, ranges)\n",
    "            print(\"c is : %.d, b_out is : %.d\" %(c, b_out), \"ranges is \", ranges)\n",
    "            if b_out == -1: break\n",
    "            else: \n",
    "                del ranges[b_out]\n",
    "                n -= 1\n",
    "        print(n)\n",
    "    if i == 0: i+=1\n",
    "    if n == 0: return i\n",
    "    else: return -1\n"
   ]
  },
  {
   "cell_type": "code",
   "execution_count": null,
   "metadata": {},
   "outputs": [],
   "source": [
    "#21.12.16 87% correctness100, efficience75, no-timeout100\n",
    "def binary_search(val, ranges):\n",
    "\n",
    "    start = 0\n",
    "    end = len(ranges)-1\n",
    "    retVal = 0\n",
    "    n = len(ranges)\n",
    "    mid, mid_past = -1, -2\n",
    "    \n",
    "    while True:\n",
    "        #if start == end: break\n",
    "        mid = (start+end)//2\n",
    "        if mid == mid_past: break\n",
    "        \n",
    "        if mid < 0 or mid > n-1: break\n",
    "        \n",
    "        \n",
    "        \n",
    "        print(\"start: %.d, mid: %.d, end: %.d\" %(start, mid, end) )\n",
    "\n",
    "        if val >= ranges[mid][0] and val <= ranges[mid][1]:\n",
    "            return mid        \n",
    "        else:\n",
    "            if val > ranges[mid][1]: start = mid+1\n",
    "            else: end = mid-1\n",
    "        mid_past = mid\n",
    "        \n",
    "        \n",
    "    \n",
    "    return -1\n",
    "def solution(A, B, C):\n",
    "    # write your code in Python 3.6\n",
    "    #pass\n",
    "    n = len(A)\n",
    "    sol = 0\n",
    "    #range make\n",
    "    ranges = []\n",
    "\n",
    "    for i in range(n):\n",
    "        ranges.append( [A[i], B[i] ] )\n",
    "    ranges = sorted(ranges)\n",
    "    #C = sorted(C)\n",
    "    for i in range(len(C)):\n",
    "        if n == 0: break\n",
    "        c = C[i]\n",
    "        while True:\n",
    "            b_out = binary_search(c, ranges)\n",
    "            print(\"c is : %.d, b_out is : %.d\" %(c, b_out), \"ranges is \", ranges)\n",
    "            if b_out == -1: break\n",
    "            else: \n",
    "                del ranges[b_out]\n",
    "                n -= 1\n",
    "        print(n)\n",
    "    if i == 0: i+=1\n",
    "    if n == 0: return i\n",
    " \n",
    "    else: return -1"
   ]
  },
  {
   "cell_type": "code",
   "execution_count": null,
   "metadata": {},
   "outputs": [],
   "source": []
  },
  {
   "cell_type": "code",
   "execution_count": null,
   "metadata": {},
   "outputs": [],
   "source": []
  },
  {
   "cell_type": "code",
   "execution_count": null,
   "metadata": {},
   "outputs": [],
   "source": []
  },
  {
   "cell_type": "code",
   "execution_count": null,
   "metadata": {},
   "outputs": [],
   "source": []
  },
  {
   "cell_type": "code",
   "execution_count": null,
   "metadata": {},
   "outputs": [],
   "source": []
  },
  {
   "cell_type": "code",
   "execution_count": null,
   "metadata": {},
   "outputs": [],
   "source": []
  }
 ],
 "metadata": {
  "kernelspec": {
   "display_name": "Python 3",
   "language": "python",
   "name": "python3"
  },
  "language_info": {
   "codemirror_mode": {
    "name": "ipython",
    "version": 3
   },
   "file_extension": ".py",
   "mimetype": "text/x-python",
   "name": "python",
   "nbconvert_exporter": "python",
   "pygments_lexer": "ipython3",
   "version": "3.8.3"
  }
 },
 "nbformat": 4,
 "nbformat_minor": 4
}
